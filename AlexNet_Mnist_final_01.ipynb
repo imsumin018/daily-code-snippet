{
  "nbformat": 4,
  "nbformat_minor": 0,
  "metadata": {
    "colab": {
      "provenance": [],
      "authorship_tag": "ABX9TyMLE/kjqVaBtmqnAim2xbsD",
      "include_colab_link": true
    },
    "kernelspec": {
      "name": "python3",
      "display_name": "Python 3"
    },
    "language_info": {
      "name": "python"
    }
  },
  "cells": [
    {
      "cell_type": "markdown",
      "metadata": {
        "id": "view-in-github",
        "colab_type": "text"
      },
      "source": [
        "<a href=\"https://colab.research.google.com/github/imsumin018/daily-code-snippet/blob/main/AlexNet_Mnist_final_01.ipynb\" target=\"_parent\"><img src=\"https://colab.research.google.com/assets/colab-badge.svg\" alt=\"Open In Colab\"/></a>"
      ]
    },
    {
      "cell_type": "markdown",
      "source": [
        "https://blog.csdn.net/xuan_liu123/article/details/89105997"
      ],
      "metadata": {
        "id": "HJfiwFUTvAo0"
      }
    },
    {
      "cell_type": "code",
      "execution_count": null,
      "metadata": {
        "id": "cn_AX1aCW6eR"
      },
      "outputs": [],
      "source": [
        "import torch\n",
        "import torchvision\n",
        "import torch.nn as nn\n",
        "import torch.optim as optim\n",
        "import torchvision.transforms as transforms\n",
        "import torch.nn.functional as F\n",
        "import time"
      ]
    },
    {
      "cell_type": "code",
      "source": [],
      "metadata": {
        "id": "WWOKxxOjW-4X"
      },
      "execution_count": null,
      "outputs": []
    },
    {
      "cell_type": "code",
      "source": [
        "class AlexNet(nn.Module):\n",
        "    def __init__(self):\n",
        "        super(AlexNet,self).__init__()\n",
        "\n",
        "        self.conv1 = nn.Conv2d(1, 32, kernel_size=3, padding=1) #AlexCONV1(3,96, k=11,s=4,p=0)\n",
        "        self.pool1 = nn.MaxPool2d(kernel_size=2, stride=2)#AlexPool1(k=3, s=2)\n",
        "        self.relu1 = nn.ReLU()\n",
        "\n",
        "        # self.conv2 = nn.Conv2d(96, 256, kernel_size=5,stride=1,padding=2)\n",
        "        self.conv2 = nn.Conv2d(32, 64, kernel_size=3, stride=1, padding=1)#AlexCONV2(96, 256,k=5,s=1,p=2)\n",
        "        self.pool2 = nn.MaxPool2d(kernel_size=2,stride=2)#AlexPool2(k=3,s=2)\n",
        "        self.relu2 = nn.ReLU()\n",
        "\n",
        "\n",
        "        self.conv3 = nn.Conv2d(64, 128, kernel_size=3, stride=1, padding=1)#AlexCONV3(256,384,k=3,s=1,p=1)\n",
        "        # self.conv4 = nn.Conv2d(384, 384, kernel_size=3, stride=1, padding=1)\n",
        "        self.conv4 = nn.Conv2d(128, 256, kernel_size=3, stride=1, padding=1)#AlexCONV4(384, 384, k=3,s=1,p=1)\n",
        "        self.conv5 = nn.Conv2d(256, 256, kernel_size=3, stride=1, padding=1)#AlexCONV5(384, 256, k=3, s=1,p=1)\n",
        "        self.pool3 = nn.MaxPool2d(kernel_size=2, stride=2)#AlexPool3(k=3,s=2)\n",
        "        self.relu3 = nn.ReLU()\n",
        "\n",
        "        self.fc6 = nn.Linear(256*3*3, 1024)  #AlexFC6(256*6*6, 4096)\n",
        "        self.fc7 = nn.Linear(1024, 512) #AlexFC6(4096,4096)\n",
        "        self.fc8 = nn.Linear(512, 10)  #AlexFC6(4096,1000)\n",
        "\n",
        "    def forward(self,x):\n",
        "        x = self.conv1(x)\n",
        "        x = self.pool1(x)\n",
        "        x = self.relu1(x)\n",
        "        x = self.conv2(x)\n",
        "        x = self.pool2(x)\n",
        "        x = self.relu2(x)\n",
        "        x = self.conv3(x)\n",
        "        x = self.conv4(x)\n",
        "        x = self.conv5(x)\n",
        "        x = self.pool3(x)\n",
        "        x = self.relu3(x)\n",
        "        x = x.view(-1, 256 * 3 * 3)#Alex: x = x.view(-1, 256*6*6)\n",
        "        x = self.fc6(x)\n",
        "        x = F.relu(x)\n",
        "        x = self.fc7(x)\n",
        "        x = F.relu(x)\n",
        "        x = self.fc8(x)\n",
        "        return x\n",
        "\n",
        "#transform\n",
        "transform = transforms.Compose([\n",
        "                    transforms.RandomHorizontalFlip(),\n",
        "                    transforms.RandomGrayscale(),\n",
        "                    transforms.ToTensor(),\n",
        "\n",
        "\n",
        "])\n",
        "\n",
        "transform1 = transforms.Compose([\n",
        "                    transforms.ToTensor()\n",
        "])\n",
        "\n",
        "\n",
        "trainset = torchvision.datasets.MNIST(root='./data', train=True, download=True,transform=transform)\n",
        "\n",
        "trainloader = torch.utils.data.DataLoader(trainset, batch_size=100, shuffle=True,num_workers=0)\n",
        "\n",
        "testset = torchvision.datasets.MNIST(root='./data', train=False, download=True,transform=transform1)\n",
        "testloader = torch.utils.data.DataLoader(testset, batch_size=100,shuffle=False,num_workers=0)\n",
        "\n",
        "#net\n",
        "net = AlexNet()\n",
        "\n",
        "criterion = nn.CrossEntropyLoss()\n",
        "\n",
        "\n",
        "optimizer = optim.SGD(net.parameters(),lr=1e-3, momentum=0.9)\n",
        "\n",
        "#device : GPU or CPU\n",
        "device = torch.device(\"cuda:0\" if torch.cuda.is_available() else \"cpu\")\n",
        "\n",
        "net.to(device)\n"
      ],
      "metadata": {
        "colab": {
          "base_uri": "https://localhost:8080/"
        },
        "id": "vJLqYNkcW-zP",
        "outputId": "9b05bd9c-220e-454e-8592-4e20e11b43ee"
      },
      "execution_count": null,
      "outputs": [
        {
          "output_type": "stream",
          "name": "stdout",
          "text": [
            "Downloading http://yann.lecun.com/exdb/mnist/train-images-idx3-ubyte.gz\n",
            "Downloading http://yann.lecun.com/exdb/mnist/train-images-idx3-ubyte.gz to ./data/MNIST/raw/train-images-idx3-ubyte.gz\n"
          ]
        },
        {
          "output_type": "stream",
          "name": "stderr",
          "text": [
            "100%|██████████| 9912422/9912422 [00:00<00:00, 103931483.25it/s]\n"
          ]
        },
        {
          "output_type": "stream",
          "name": "stdout",
          "text": [
            "Extracting ./data/MNIST/raw/train-images-idx3-ubyte.gz to ./data/MNIST/raw\n",
            "\n",
            "Downloading http://yann.lecun.com/exdb/mnist/train-labels-idx1-ubyte.gz\n",
            "Downloading http://yann.lecun.com/exdb/mnist/train-labels-idx1-ubyte.gz to ./data/MNIST/raw/train-labels-idx1-ubyte.gz\n"
          ]
        },
        {
          "output_type": "stream",
          "name": "stderr",
          "text": [
            "100%|██████████| 28881/28881 [00:00<00:00, 19894185.22it/s]"
          ]
        },
        {
          "output_type": "stream",
          "name": "stdout",
          "text": [
            "Extracting ./data/MNIST/raw/train-labels-idx1-ubyte.gz to ./data/MNIST/raw\n",
            "\n",
            "Downloading http://yann.lecun.com/exdb/mnist/t10k-images-idx3-ubyte.gz\n",
            "Downloading http://yann.lecun.com/exdb/mnist/t10k-images-idx3-ubyte.gz to ./data/MNIST/raw/t10k-images-idx3-ubyte.gz\n"
          ]
        },
        {
          "output_type": "stream",
          "name": "stderr",
          "text": [
            "\n",
            "100%|██████████| 1648877/1648877 [00:00<00:00, 24802009.00it/s]\n"
          ]
        },
        {
          "output_type": "stream",
          "name": "stdout",
          "text": [
            "Extracting ./data/MNIST/raw/t10k-images-idx3-ubyte.gz to ./data/MNIST/raw\n",
            "\n",
            "Downloading http://yann.lecun.com/exdb/mnist/t10k-labels-idx1-ubyte.gz\n",
            "Downloading http://yann.lecun.com/exdb/mnist/t10k-labels-idx1-ubyte.gz to ./data/MNIST/raw/t10k-labels-idx1-ubyte.gz\n"
          ]
        },
        {
          "output_type": "stream",
          "name": "stderr",
          "text": [
            "100%|██████████| 4542/4542 [00:00<00:00, 11193025.13it/s]\n"
          ]
        },
        {
          "output_type": "stream",
          "name": "stdout",
          "text": [
            "Extracting ./data/MNIST/raw/t10k-labels-idx1-ubyte.gz to ./data/MNIST/raw\n",
            "\n"
          ]
        },
        {
          "output_type": "execute_result",
          "data": {
            "text/plain": [
              "AlexNet(\n",
              "  (conv1): Conv2d(1, 32, kernel_size=(3, 3), stride=(1, 1), padding=(1, 1))\n",
              "  (pool1): MaxPool2d(kernel_size=2, stride=2, padding=0, dilation=1, ceil_mode=False)\n",
              "  (relu1): ReLU()\n",
              "  (conv2): Conv2d(32, 64, kernel_size=(3, 3), stride=(1, 1), padding=(1, 1))\n",
              "  (pool2): MaxPool2d(kernel_size=2, stride=2, padding=0, dilation=1, ceil_mode=False)\n",
              "  (relu2): ReLU()\n",
              "  (conv3): Conv2d(64, 128, kernel_size=(3, 3), stride=(1, 1), padding=(1, 1))\n",
              "  (conv4): Conv2d(128, 256, kernel_size=(3, 3), stride=(1, 1), padding=(1, 1))\n",
              "  (conv5): Conv2d(256, 256, kernel_size=(3, 3), stride=(1, 1), padding=(1, 1))\n",
              "  (pool3): MaxPool2d(kernel_size=2, stride=2, padding=0, dilation=1, ceil_mode=False)\n",
              "  (relu3): ReLU()\n",
              "  (fc6): Linear(in_features=2304, out_features=1024, bias=True)\n",
              "  (fc7): Linear(in_features=1024, out_features=512, bias=True)\n",
              "  (fc8): Linear(in_features=512, out_features=10, bias=True)\n",
              ")"
            ]
          },
          "metadata": {},
          "execution_count": 2
        }
      ]
    },
    {
      "cell_type": "code",
      "source": [],
      "metadata": {
        "id": "Uxd6MDJKu9rj"
      },
      "execution_count": null,
      "outputs": []
    },
    {
      "cell_type": "markdown",
      "source": [],
      "metadata": {
        "id": "Ihf_qBS1u_PL"
      }
    },
    {
      "cell_type": "code",
      "source": [],
      "metadata": {
        "id": "3G3woTOaYPmt"
      },
      "execution_count": null,
      "outputs": []
    },
    {
      "cell_type": "code",
      "source": [
        "\n",
        "print(\"Start Training!\")\n",
        "\n",
        "num_epochs = 20\n",
        "\n",
        "for epoch in range(num_epochs):\n",
        "    running_loss = 0\n",
        "    batch_size = 100\n",
        "\n",
        "    for i, data in enumerate(trainloader):\n",
        "        inputs, labels = data\n",
        "        inputs, labels = inputs.to(device), labels.to(device)\n",
        "\n",
        "        outputs = net(inputs)\n",
        "        loss = criterion(outputs, labels)\n",
        "        optimizer.zero_grad()\n",
        "        loss.backward()\n",
        "        optimizer.step()\n",
        "\n",
        "    print('[%d, %5d] loss:%.4f'%(epoch+1, (i+1)*100, loss.item()))\n",
        "\n",
        "print(\"Finished Traning\")\n",
        "\n",
        "\n",
        "\n",
        "torch.save(net, 'MNIST.pkl')\n",
        "net = torch.load('MNIST.pkl')\n",
        "\n",
        "with torch.no_grad():\n",
        "\n",
        "    correct = 0\n",
        "    total = 0\n",
        "\n",
        "    for data in testloader:\n",
        "        images, labels = data\n",
        "        images, labels = images.to(device), labels.to(device)\n",
        "\n",
        "        out = net(images)\n",
        "        _, predicted = torch.max(out.data, 1)\n",
        "        total += labels.size(0)\n",
        "        correct += (predicted == labels).sum().item()\n",
        "\n",
        "    print('Accuracy of the network on the 10000 test images:{}%'.format(100 * correct / total))"
      ],
      "metadata": {
        "colab": {
          "base_uri": "https://localhost:8080/"
        },
        "id": "OjJPTdq9YPjt",
        "outputId": "de180732-170f-4f2a-edea-097fd82cb062"
      },
      "execution_count": null,
      "outputs": [
        {
          "output_type": "stream",
          "name": "stdout",
          "text": [
            "Start Training!\n",
            "[1, 60000] loss:2.2976\n",
            "[2, 60000] loss:2.2978\n",
            "[3, 60000] loss:2.2914\n",
            "[4, 60000] loss:2.2218\n",
            "[5, 60000] loss:0.7939\n",
            "[6, 60000] loss:0.3591\n",
            "[7, 60000] loss:0.3215\n",
            "[8, 60000] loss:0.1729\n",
            "[9, 60000] loss:0.1049\n",
            "[10, 60000] loss:0.1478\n",
            "[11, 60000] loss:0.1294\n",
            "[12, 60000] loss:0.0946\n",
            "[13, 60000] loss:0.1472\n",
            "[14, 60000] loss:0.0550\n",
            "[15, 60000] loss:0.0651\n",
            "[16, 60000] loss:0.0778\n",
            "[17, 60000] loss:0.0858\n",
            "[18, 60000] loss:0.0386\n",
            "[19, 60000] loss:0.0381\n",
            "[20, 60000] loss:0.0821\n",
            "Finished Traning\n",
            "Accuracy of the network on the 10000 test images:97.57%\n"
          ]
        }
      ]
    },
    {
      "cell_type": "code",
      "source": [],
      "metadata": {
        "id": "mTuVbwo4YPhm"
      },
      "execution_count": null,
      "outputs": []
    },
    {
      "cell_type": "code",
      "source": [],
      "metadata": {
        "id": "hPoycbYpYPem"
      },
      "execution_count": null,
      "outputs": []
    },
    {
      "cell_type": "code",
      "source": [],
      "metadata": {
        "id": "PQqtSf93YPWP"
      },
      "execution_count": null,
      "outputs": []
    }
  ]
}