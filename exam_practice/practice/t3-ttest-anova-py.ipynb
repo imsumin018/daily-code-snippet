{
 "cells": [
  {
   "cell_type": "markdown",
   "id": "b10fc7ce",
   "metadata": {
    "papermill": {
     "duration": 0.008374,
     "end_time": "2023-11-03T19:30:03.177495",
     "exception": false,
     "start_time": "2023-11-03T19:30:03.169121",
     "status": "completed"
    },
    "tags": []
   },
   "source": [
    "## 문제: 두 교육 방법의 효과 비교\n",
    "연구자는 두 가지 다른 교육 방법이 학생들의 성적에 미치는 영향을 비교하고자 합니다. 연구자는 무작위로 선발된 20명의 학생들을 두 그룹으로 나누어 한 그룹에는 교육 방법 A를, 다른 그룹에는 교육 방법 B를 적용합니다. 교육이 끝난 후, 두 그룹의 성적을 비교하기 위해 독립 표본 t-검정과 ANOVA F-검정을 실시하려고 합니다.\n",
    "\n",
    "다음은 두 그룹의 성적입니다:\n",
    "다음의 두 가지 검정을 사용하여 두 교육 방법 간의 성적 차이가 통계적으로 유의한지를 검증하세요\n",
    "\n",
    "1. 독립 표본 t-검정을 실시하여 t 통계량을 구하세요.\n",
    "2. 독립 표본 t-검정을 실시하여 p-값을 구하세요.\n",
    "3. ANOVA F-검정을 실시하여 F 통계량을 구하세요.\n",
    "4. ANOVA F-검정을 실시하여 p-값을 구하세요.\n"
   ]
  },
  {
   "cell_type": "code",
   "execution_count": 1,
   "id": "02cd4e7d",
   "metadata": {
    "execution": {
     "iopub.execute_input": "2023-11-03T19:30:03.193672Z",
     "iopub.status.busy": "2023-11-03T19:30:03.193275Z",
     "iopub.status.idle": "2023-11-03T19:30:03.628305Z",
     "shell.execute_reply": "2023-11-03T19:30:03.626729Z"
    },
    "papermill": {
     "duration": 0.446378,
     "end_time": "2023-11-03T19:30:03.631079",
     "exception": false,
     "start_time": "2023-11-03T19:30:03.184701",
     "status": "completed"
    },
    "tags": []
   },
   "outputs": [],
   "source": [
    "import pandas as pd\n",
    "df = pd.DataFrame({\n",
    "    'A':[77, 75, 82, 80, 81, 83, 84, 76, 75, 87],\n",
    "    'B':[80, 74, 77, 79, 71, 74, 78, 69, 70, 72],\n",
    "})"
   ]
  },
  {
   "cell_type": "code",
   "execution_count": null,
   "id": "337e0399",
   "metadata": {
    "papermill": {
     "duration": 0.007007,
     "end_time": "2023-11-03T19:30:03.645604",
     "exception": false,
     "start_time": "2023-11-03T19:30:03.638597",
     "status": "completed"
    },
    "tags": []
   },
   "outputs": [],
   "source": []
  },
  {
   "cell_type": "code",
   "execution_count": null,
   "id": "3af7853f",
   "metadata": {
    "papermill": {
     "duration": 0.006859,
     "end_time": "2023-11-03T19:30:03.659638",
     "exception": false,
     "start_time": "2023-11-03T19:30:03.652779",
     "status": "completed"
    },
    "tags": []
   },
   "outputs": [],
   "source": []
  },
  {
   "cell_type": "code",
   "execution_count": null,
   "id": "f7930b49",
   "metadata": {
    "papermill": {
     "duration": 0.00696,
     "end_time": "2023-11-03T19:30:03.673548",
     "exception": false,
     "start_time": "2023-11-03T19:30:03.666588",
     "status": "completed"
    },
    "tags": []
   },
   "outputs": [],
   "source": []
  },
  {
   "cell_type": "code",
   "execution_count": null,
   "id": "269b7fad",
   "metadata": {
    "papermill": {
     "duration": 0.007,
     "end_time": "2023-11-03T19:30:03.688255",
     "exception": false,
     "start_time": "2023-11-03T19:30:03.681255",
     "status": "completed"
    },
    "tags": []
   },
   "outputs": [],
   "source": []
  },
  {
   "cell_type": "code",
   "execution_count": null,
   "id": "dd5bd13d",
   "metadata": {
    "papermill": {
     "duration": 0.006789,
     "end_time": "2023-11-03T19:30:03.702145",
     "exception": false,
     "start_time": "2023-11-03T19:30:03.695356",
     "status": "completed"
    },
    "tags": []
   },
   "outputs": [],
   "source": []
  },
  {
   "cell_type": "code",
   "execution_count": null,
   "id": "62f1b31e",
   "metadata": {
    "papermill": {
     "duration": 0.007361,
     "end_time": "2023-11-03T19:30:03.716825",
     "exception": false,
     "start_time": "2023-11-03T19:30:03.709464",
     "status": "completed"
    },
    "tags": []
   },
   "outputs": [],
   "source": []
  },
  {
   "cell_type": "code",
   "execution_count": null,
   "id": "3960d86d",
   "metadata": {
    "papermill": {
     "duration": 0.006752,
     "end_time": "2023-11-03T19:30:03.730644",
     "exception": false,
     "start_time": "2023-11-03T19:30:03.723892",
     "status": "completed"
    },
    "tags": []
   },
   "outputs": [],
   "source": []
  },
  {
   "cell_type": "code",
   "execution_count": null,
   "id": "6263026e",
   "metadata": {
    "papermill": {
     "duration": 0.007063,
     "end_time": "2023-11-03T19:30:03.745066",
     "exception": false,
     "start_time": "2023-11-03T19:30:03.738003",
     "status": "completed"
    },
    "tags": []
   },
   "outputs": [],
   "source": []
  },
  {
   "cell_type": "code",
   "execution_count": null,
   "id": "ca83d3a9",
   "metadata": {
    "papermill": {
     "duration": 0.006805,
     "end_time": "2023-11-03T19:30:03.759679",
     "exception": false,
     "start_time": "2023-11-03T19:30:03.752874",
     "status": "completed"
    },
    "tags": []
   },
   "outputs": [],
   "source": []
  },
  {
   "cell_type": "code",
   "execution_count": null,
   "id": "0df5ab24",
   "metadata": {
    "papermill": {
     "duration": 0.008071,
     "end_time": "2023-11-03T19:30:03.775478",
     "exception": false,
     "start_time": "2023-11-03T19:30:03.767407",
     "status": "completed"
    },
    "tags": []
   },
   "outputs": [],
   "source": []
  },
  {
   "cell_type": "code",
   "execution_count": null,
   "id": "d2236b16",
   "metadata": {
    "papermill": {
     "duration": 0.007122,
     "end_time": "2023-11-03T19:30:03.789738",
     "exception": false,
     "start_time": "2023-11-03T19:30:03.782616",
     "status": "completed"
    },
    "tags": []
   },
   "outputs": [],
   "source": []
  },
  {
   "cell_type": "code",
   "execution_count": null,
   "id": "d5d18681",
   "metadata": {
    "papermill": {
     "duration": 0.006939,
     "end_time": "2023-11-03T19:30:03.804405",
     "exception": false,
     "start_time": "2023-11-03T19:30:03.797466",
     "status": "completed"
    },
    "tags": []
   },
   "outputs": [],
   "source": []
  },
  {
   "cell_type": "code",
   "execution_count": null,
   "id": "c65b09ca",
   "metadata": {
    "papermill": {
     "duration": 0.006948,
     "end_time": "2023-11-03T19:30:03.818552",
     "exception": false,
     "start_time": "2023-11-03T19:30:03.811604",
     "status": "completed"
    },
    "tags": []
   },
   "outputs": [],
   "source": []
  },
  {
   "cell_type": "code",
   "execution_count": null,
   "id": "4eac95e5",
   "metadata": {
    "papermill": {
     "duration": 0.007745,
     "end_time": "2023-11-03T19:30:03.833449",
     "exception": false,
     "start_time": "2023-11-03T19:30:03.825704",
     "status": "completed"
    },
    "tags": []
   },
   "outputs": [],
   "source": []
  },
  {
   "cell_type": "code",
   "execution_count": null,
   "id": "73c21aee",
   "metadata": {
    "papermill": {
     "duration": 0.00736,
     "end_time": "2023-11-03T19:30:03.848185",
     "exception": false,
     "start_time": "2023-11-03T19:30:03.840825",
     "status": "completed"
    },
    "tags": []
   },
   "outputs": [],
   "source": []
  },
  {
   "cell_type": "code",
   "execution_count": null,
   "id": "1e425471",
   "metadata": {
    "papermill": {
     "duration": 0.006612,
     "end_time": "2023-11-03T19:30:03.861730",
     "exception": false,
     "start_time": "2023-11-03T19:30:03.855118",
     "status": "completed"
    },
    "tags": []
   },
   "outputs": [],
   "source": []
  },
  {
   "cell_type": "code",
   "execution_count": null,
   "id": "4c919d73",
   "metadata": {
    "papermill": {
     "duration": 0.007423,
     "end_time": "2023-11-03T19:30:03.876463",
     "exception": false,
     "start_time": "2023-11-03T19:30:03.869040",
     "status": "completed"
    },
    "tags": []
   },
   "outputs": [],
   "source": []
  },
  {
   "cell_type": "code",
   "execution_count": null,
   "id": "c5d660ba",
   "metadata": {
    "papermill": {
     "duration": 0.006817,
     "end_time": "2023-11-03T19:30:03.890438",
     "exception": false,
     "start_time": "2023-11-03T19:30:03.883621",
     "status": "completed"
    },
    "tags": []
   },
   "outputs": [],
   "source": []
  },
  {
   "cell_type": "code",
   "execution_count": null,
   "id": "2f08705c",
   "metadata": {
    "papermill": {
     "duration": 0.006524,
     "end_time": "2023-11-03T19:30:03.903952",
     "exception": false,
     "start_time": "2023-11-03T19:30:03.897428",
     "status": "completed"
    },
    "tags": []
   },
   "outputs": [],
   "source": []
  },
  {
   "cell_type": "code",
   "execution_count": null,
   "id": "94f29cc1",
   "metadata": {
    "papermill": {
     "duration": 0.006499,
     "end_time": "2023-11-03T19:30:03.917398",
     "exception": false,
     "start_time": "2023-11-03T19:30:03.910899",
     "status": "completed"
    },
    "tags": []
   },
   "outputs": [],
   "source": []
  },
  {
   "cell_type": "code",
   "execution_count": null,
   "id": "d69c512f",
   "metadata": {
    "papermill": {
     "duration": 0.007143,
     "end_time": "2023-11-03T19:30:03.931263",
     "exception": false,
     "start_time": "2023-11-03T19:30:03.924120",
     "status": "completed"
    },
    "tags": []
   },
   "outputs": [],
   "source": []
  },
  {
   "cell_type": "code",
   "execution_count": null,
   "id": "b82f320d",
   "metadata": {
    "papermill": {
     "duration": 0.00749,
     "end_time": "2023-11-03T19:30:03.946469",
     "exception": false,
     "start_time": "2023-11-03T19:30:03.938979",
     "status": "completed"
    },
    "tags": []
   },
   "outputs": [],
   "source": []
  },
  {
   "cell_type": "code",
   "execution_count": null,
   "id": "9fd82a34",
   "metadata": {
    "papermill": {
     "duration": 0.006667,
     "end_time": "2023-11-03T19:30:03.960397",
     "exception": false,
     "start_time": "2023-11-03T19:30:03.953730",
     "status": "completed"
    },
    "tags": []
   },
   "outputs": [],
   "source": []
  },
  {
   "cell_type": "code",
   "execution_count": 2,
   "id": "e4ccd220",
   "metadata": {
    "execution": {
     "iopub.execute_input": "2023-11-03T19:30:03.977873Z",
     "iopub.status.busy": "2023-11-03T19:30:03.976930Z",
     "iopub.status.idle": "2023-11-03T19:30:05.076916Z",
     "shell.execute_reply": "2023-11-03T19:30:05.075851Z"
    },
    "papermill": {
     "duration": 1.112334,
     "end_time": "2023-11-03T19:30:05.080203",
     "exception": false,
     "start_time": "2023-11-03T19:30:03.967869",
     "status": "completed"
    },
    "tags": []
   },
   "outputs": [
    {
     "name": "stdout",
     "output_type": "stream",
     "text": [
      "TtestResult(statistic=3.1068522301122954, pvalue=0.006087373605949963, df=18.0)\n"
     ]
    },
    {
     "data": {
      "text/plain": [
       "F_onewayResult(statistic=9.652530779753763, pvalue=0.006087373605949924)"
      ]
     },
     "execution_count": 2,
     "metadata": {},
     "output_type": "execute_result"
    }
   ],
   "source": [
    "from scipy import stats\n",
    "print(stats.ttest_ind(df['A'], df['B']))\n",
    "\n",
    "# 다음으로 ANOVA F-검정을 수행합니다.\n",
    "stats.f_oneway(df['A'], df['B'])"
   ]
  }
 ],
 "metadata": {
  "kernelspec": {
   "display_name": "Python 3",
   "language": "python",
   "name": "python3"
  },
  "language_info": {
   "codemirror_mode": {
    "name": "ipython",
    "version": 3
   },
   "file_extension": ".py",
   "mimetype": "text/x-python",
   "name": "python",
   "nbconvert_exporter": "python",
   "pygments_lexer": "ipython3",
   "version": "3.10.12"
  },
  "papermill": {
   "default_parameters": {},
   "duration": 6.217318,
   "end_time": "2023-11-03T19:30:05.609264",
   "environment_variables": {},
   "exception": null,
   "input_path": "__notebook__.ipynb",
   "output_path": "__notebook__.ipynb",
   "parameters": {},
   "start_time": "2023-11-03T19:29:59.391946",
   "version": "2.4.0"
  }
 },
 "nbformat": 4,
 "nbformat_minor": 5
}
