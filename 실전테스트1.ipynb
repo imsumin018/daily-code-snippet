{
 "cells": [
  {
   "cell_type": "code",
   "execution_count": 170,
   "metadata": {},
   "outputs": [],
   "source": [
    "#def helper(m, len(temperatures), temperatures, clothes) :\n",
    "    \n",
    "\n",
    "def solution(m, temperatures, clothes):\n",
    "    answer = 9999\n",
    "    n = len(temperatures)\n",
    "    #helper(m, len(temperatures), temperatures, clothes)\n",
    "    day = []\n",
    "    for w in range(0, n-m+1):\n",
    "          \n",
    "        dd = {}\n",
    "        \n",
    "        for _c in range(0, len(clothes)):\n",
    "            dd[_c] = []\n",
    "        for d in range(w, m+w):\n",
    "            \n",
    "            t = temperatures[d]\n",
    "            #print(\"temperatur\")\n",
    "            #print(t)\n",
    "            \n",
    "            c_index = 0 \n",
    "            \n",
    "            for c in clothes:\n",
    "                \n",
    "                if t >= c[0] and t<=c[1]:\n",
    "                    \n",
    "                    print(c_index)\n",
    "                    dd[c_index].append(t)\n",
    "                c_index+=1\n",
    "                    \n",
    "        #dd.sort\n",
    "        print(\"=====++\")\n",
    "        print(dd)\n",
    "        dd2 = {}\n",
    "        #asee = sorted(dd.items(), key=lambda len(p): len(p[1]))\n",
    "        for k in sorted(dd, key=lambda k: len(dd[k]), reverse=True):\n",
    "            dd2[k]=dd[k]\n",
    "        dd=dd2\n",
    "        mySet = set()\n",
    "        dict1 = {}\n",
    "        count = 0\n",
    "        clotheSet = set()\n",
    "        for z in dd:\n",
    "            #print(dd[z])\n",
    "            for _ in dd[z]:\n",
    "                if _ in mySet : \n",
    "                    print(_)\n",
    "                    continue\n",
    "                else :\n",
    "                    clotheSet.add(z)\n",
    "                    mySet.add(_)\n",
    "        print(\"==Count==\")                        \n",
    "        print(count)\n",
    "        print(clotheSet)\n",
    "        \n",
    "        day.append(len(clotheSet))\n",
    "        \n",
    "    print(day)\n",
    "    #if answer > count1: answer =count1 \n",
    "    #    #print(dd)\n",
    "    \n",
    "\n",
    "    return day.index(min(day))+1"
   ]
  },
  {
   "cell_type": "code",
   "execution_count": null,
   "metadata": {},
   "outputs": [],
   "source": [
    "\n",
    "def solution(m, temperatures, clothes):\n",
    "    answer = 99999\n",
    "    day = []\n",
    "    for w in range(0, len(temperatures)-m+1):\n",
    "        dd = {}        \n",
    "        for _c in range(0, len(clothes)):\n",
    "            dd[_c] = []\n",
    "\n",
    "        for d in range(w, m+w):            \n",
    "            t = temperatures[d]            \n",
    "            c_index = 0             \n",
    "            for c in clothes:                \n",
    "                if t >= c[0] and t<=c[1]:\n",
    "                    dd[c_index].append(t)\n",
    "                c_index += 1\n",
    "    \n",
    "        # Sort dictionary dd by item's length\n",
    "        dd2 = {}\n",
    "        for k in sorted(dd, key=lambda k: len(dd[k]), reverse=True):\n",
    "            dd2[k] = dd[k]\n",
    "        dd = dd2\n",
    "\n",
    "        # Counting\n",
    "        tmpSet = set()\n",
    "        clotheSet = set()\n",
    "        for z in dd:\n",
    "            for _ in dd[z]:\n",
    "                if _ in tmpSet :\n",
    "                    continue\n",
    "                else :\n",
    "                    clotheSet.add(z)\n",
    "                    tmpSet.add(_)\n",
    "        day.append(len(clotheSet))\n",
    "\n",
    "    return day.index(min(day)) + 1"
   ]
  },
  {
   "cell_type": "code",
   "execution_count": 171,
   "metadata": {},
   "outputs": [
    {
     "name": "stdout",
     "output_type": "stream",
     "text": [
      "0\n",
      "0\n",
      "0\n",
      "1\n",
      "1\n",
      "=====++\n",
      "{0: [-2, -1, 0], 1: [0, 1]}\n",
      "0\n",
      "==Count==\n",
      "0\n",
      "{0, 1}\n",
      "0\n",
      "0\n",
      "1\n",
      "1\n",
      "1\n",
      "=====++\n",
      "{0: [-1, 0], 1: [0, 1, 2]}\n",
      "0\n",
      "==Count==\n",
      "0\n",
      "{0, 1}\n",
      "0\n",
      "1\n",
      "1\n",
      "1\n",
      "1\n",
      "=====++\n",
      "{0: [0], 1: [0, 1, 2, 3]}\n",
      "0\n",
      "==Count==\n",
      "0\n",
      "{1}\n",
      "1\n",
      "1\n",
      "1\n",
      "1\n",
      "=====++\n",
      "{0: [], 1: [1, 2, 3, 4]}\n",
      "==Count==\n",
      "0\n",
      "{1}\n",
      "1\n",
      "1\n",
      "1\n",
      "1\n",
      "=====++\n",
      "{0: [], 1: [2, 3, 4, 5]}\n",
      "==Count==\n",
      "0\n",
      "{1}\n",
      "1\n",
      "1\n",
      "1\n",
      "1\n",
      "=====++\n",
      "{0: [], 1: [3, 4, 5, 6]}\n",
      "==Count==\n",
      "0\n",
      "{1}\n",
      "1\n",
      "1\n",
      "1\n",
      "1\n",
      "=====++\n",
      "{0: [], 1: [4, 5, 6, 7]}\n",
      "==Count==\n",
      "0\n",
      "{1}\n",
      "[2, 2, 1, 1, 1, 1, 1]\n"
     ]
    },
    {
     "data": {
      "text/plain": [
       "3"
      ]
     },
     "execution_count": 171,
     "metadata": {},
     "output_type": "execute_result"
    }
   ],
   "source": [
    "\n",
    "#solution(3, [25, 30, 15, 20], [[13, 21], [18, 25], [26, 30]])\n",
    "\n",
    "solution(4, [-2, -1, 0, 1, 2, 3, 4, 5, 6, 7], [[-100, 0], [0, 100]])\n",
    "##solution(4, [-2, -1, 0, 1, 2, 3, 4, 5, 6, 7], [[-100, 0], [0, 100]])\n"
   ]
  },
  {
   "cell_type": "code",
   "execution_count": 162,
   "metadata": {},
   "outputs": [
    {
     "data": {
      "text/plain": [
       "[0, 1, 2]"
      ]
     },
     "execution_count": 162,
     "metadata": {},
     "output_type": "execute_result"
    }
   ],
   "source": [
    "c = {0: [13, 21], 1: [18, 25], 2:[26, 30,23,1]}\n",
    "sorted(c)"
   ]
  },
  {
   "cell_type": "code",
   "execution_count": 165,
   "metadata": {},
   "outputs": [
    {
     "data": {
      "text/plain": [
       "{0: [13, 21], 1: [18, 25], 2: [26, 30, 23, 1]}"
      ]
     },
     "execution_count": 165,
     "metadata": {},
     "output_type": "execute_result"
    }
   ],
   "source": [
    "c"
   ]
  },
  {
   "cell_type": "code",
   "execution_count": 167,
   "metadata": {},
   "outputs": [
    {
     "name": "stdout",
     "output_type": "stream",
     "text": [
      "2\n",
      "0\n",
      "1\n"
     ]
    }
   ],
   "source": [
    "for k in sorted(c, key=lambda k: len(c[k]), reverse=True):\n",
    "        print(k)"
   ]
  },
  {
   "cell_type": "code",
   "execution_count": 22,
   "metadata": {},
   "outputs": [
    {
     "data": {
      "text/plain": [
       "[[13, 21], [26, 30]]"
      ]
     },
     "execution_count": 22,
     "metadata": {},
     "output_type": "execute_result"
    }
   ],
   "source": [
    "c"
   ]
  },
  {
   "cell_type": "code",
   "execution_count": 41,
   "metadata": {},
   "outputs": [],
   "source": [
    "#def helper(m, len(temperatures), temperatures, clothes) :\n",
    "    \n",
    "\n",
    "def solution(m, temperatures, clothes):\n",
    "    answer = 9999\n",
    "    n = len(temperatures)\n",
    "    #helper(m, len(temperatures), temperatures, clothes)\n",
    "    dd = {0:0}\n",
    "    for w in range(0, n-m+1):\n",
    "        count = 0\n",
    "        c_index = 0 \n",
    "        for c in clothes:\n",
    "            dd[c_index] = 0\n",
    "            for d in range(w, m+w):\n",
    "                t = temperatures[d]            \n",
    "                if t >= c[0] and t<=c[1]:\n",
    "                    count += 1\n",
    "                    dd[c_index] +=1\n",
    "            c_index += 1\n",
    "                    \n",
    "                    \n",
    "        #print(count)\n",
    "        print(dd)\n",
    "        print(\"====+\")\n",
    "         \n",
    "\n",
    "    return answer"
   ]
  },
  {
   "cell_type": "code",
   "execution_count": 42,
   "metadata": {},
   "outputs": [
    {
     "ename": "KeyError",
     "evalue": "1",
     "output_type": "error",
     "traceback": [
      "\u001b[0;31m---------------------------------------------------------------------------\u001b[0m",
      "\u001b[0;31mKeyError\u001b[0m                                  Traceback (most recent call last)",
      "\u001b[0;32m/var/folders/91/x1jkjm3549s21y3h3k_k56q80000gn/T/ipykernel_34127/664382891.py\u001b[0m in \u001b[0;36m<module>\u001b[0;34m\u001b[0m\n\u001b[0;32m----> 1\u001b[0;31m \u001b[0msolution\u001b[0m\u001b[0;34m(\u001b[0m\u001b[0;36m3\u001b[0m\u001b[0;34m,\u001b[0m \u001b[0;34m[\u001b[0m\u001b[0;36m25\u001b[0m\u001b[0;34m,\u001b[0m \u001b[0;36m30\u001b[0m\u001b[0;34m,\u001b[0m \u001b[0;36m15\u001b[0m\u001b[0;34m,\u001b[0m \u001b[0;36m20\u001b[0m\u001b[0;34m]\u001b[0m\u001b[0;34m,\u001b[0m \u001b[0;34m[\u001b[0m\u001b[0;34m[\u001b[0m\u001b[0;36m13\u001b[0m\u001b[0;34m,\u001b[0m \u001b[0;36m21\u001b[0m\u001b[0;34m]\u001b[0m\u001b[0;34m,\u001b[0m \u001b[0;34m[\u001b[0m\u001b[0;36m18\u001b[0m\u001b[0;34m,\u001b[0m \u001b[0;36m25\u001b[0m\u001b[0;34m]\u001b[0m\u001b[0;34m,\u001b[0m \u001b[0;34m[\u001b[0m\u001b[0;36m26\u001b[0m\u001b[0;34m,\u001b[0m \u001b[0;36m30\u001b[0m\u001b[0;34m]\u001b[0m\u001b[0;34m]\u001b[0m\u001b[0;34m)\u001b[0m\u001b[0;34m\u001b[0m\u001b[0;34m\u001b[0m\u001b[0m\n\u001b[0m",
      "\u001b[0;32m/var/folders/91/x1jkjm3549s21y3h3k_k56q80000gn/T/ipykernel_34127/3906026777.py\u001b[0m in \u001b[0;36msolution\u001b[0;34m(m, temperatures, clothes)\u001b[0m\n\u001b[1;32m     16\u001b[0m                 \u001b[0;32mif\u001b[0m \u001b[0mt\u001b[0m \u001b[0;34m>=\u001b[0m \u001b[0mc\u001b[0m\u001b[0;34m[\u001b[0m\u001b[0;36m0\u001b[0m\u001b[0;34m]\u001b[0m \u001b[0;32mand\u001b[0m \u001b[0mt\u001b[0m\u001b[0;34m<=\u001b[0m\u001b[0mc\u001b[0m\u001b[0;34m[\u001b[0m\u001b[0;36m1\u001b[0m\u001b[0;34m]\u001b[0m\u001b[0;34m:\u001b[0m\u001b[0;34m\u001b[0m\u001b[0;34m\u001b[0m\u001b[0m\n\u001b[1;32m     17\u001b[0m                     \u001b[0mcount\u001b[0m \u001b[0;34m+=\u001b[0m \u001b[0;36m1\u001b[0m\u001b[0;34m\u001b[0m\u001b[0;34m\u001b[0m\u001b[0m\n\u001b[0;32m---> 18\u001b[0;31m                     \u001b[0mdd\u001b[0m\u001b[0;34m[\u001b[0m\u001b[0mc_index\u001b[0m\u001b[0;34m]\u001b[0m \u001b[0;34m+=\u001b[0m\u001b[0;36m1\u001b[0m\u001b[0;34m\u001b[0m\u001b[0;34m\u001b[0m\u001b[0m\n\u001b[0m\u001b[1;32m     19\u001b[0m                 \u001b[0mc_index\u001b[0m \u001b[0;34m+=\u001b[0m \u001b[0;36m1\u001b[0m\u001b[0;34m\u001b[0m\u001b[0;34m\u001b[0m\u001b[0m\n\u001b[1;32m     20\u001b[0m \u001b[0;34m\u001b[0m\u001b[0m\n",
      "\u001b[0;31mKeyError\u001b[0m: 1"
     ]
    }
   ],
   "source": [
    "solution(3, [25, 30, 15, 20], [[13, 21], [18, 25], [26, 30]])\n"
   ]
  }
 ],
 "metadata": {
  "kernelspec": {
   "display_name": "Python 3",
   "language": "python",
   "name": "python3"
  },
  "language_info": {
   "codemirror_mode": {
    "name": "ipython",
    "version": 3
   },
   "file_extension": ".py",
   "mimetype": "text/x-python",
   "name": "python",
   "nbconvert_exporter": "python",
   "pygments_lexer": "ipython3",
   "version": "3.9.7"
  },
  "orig_nbformat": 4
 },
 "nbformat": 4,
 "nbformat_minor": 2
}
