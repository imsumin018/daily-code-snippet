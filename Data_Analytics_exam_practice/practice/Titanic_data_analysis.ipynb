{
 "cells": [
  {
   "cell_type": "code",
   "execution_count": 2,
   "metadata": {},
   "outputs": [],
   "source": [
    "# INTRODUCTION TO PREDICTIVE MODELING\n",
    "\n",
    "# Examples where predictive modeling can be useful\n",
    "# Movie recommendations based on gender, age, sex, past movies etc\n",
    "# Predicting the stock price etc\n",
    "# Predictive modeling is using past data to predict future data\n",
    "\n",
    "# Identifying factors responsible for Sales reduction - This is detective analysis rather than predictive modeling since\n",
    "# no future forecast is involved\n",
    "\n",
    "# TYPES OF PREDICTIVE MODELS\n",
    "# Supervised Learning - A definite target variable is available from the historical data which can be used to predict\n",
    "# future data Ex: House price prediction. The house price may be dependent on the locality, number of rooms, area etc\n",
    "\n",
    "# Un-Supervised Learning - No specific target variables are available. Data are segmented based on the commonalities\n",
    "# and the differences between each other. Ex: Google News grouping, segmentation of the customers etc\n",
    "\n",
    "# Types of Supervised Learning - Target Variables are Continuous values (Regression) vs Discrete Values (Classification)\n",
    "# UnSupervised Learning - Classic example is market segmentation.. Like segmenting customer base in to\n",
    "# High Salary - High Spend, High Salary - Low Spend, Low Salary - High Spend, Low Salary - Low Spend\n",
    "\n",
    "# STAGES OF PREDICTIVE MODELING\n",
    "\n",
    "# Process of Predictive Modeling can be divided in to six stages\n",
    "# 1 - Problem Definition\n",
    "# 2 - Hypothesis Generation\n",
    "# 3 - Data Extraction from all possible sources\n",
    "# 4 - Data Exploration and Transformation\n",
    "# 5 - Predictive Modeling\n",
    "# 6 - Model Deployment / Implementation\n",
    "\n",
    "# Problem Identification: Identifying the right problem, and formulating the problem mathematically\n",
    "# Bad Problem Statement: Want to improve the profitability of credit card customers\n",
    "# Reason: The above goal can be achieved in many different ways. Like, increasing the APR of the credit cards, or\n",
    "# having different APR and benefits for different customer segments, or identifying customers with low default rate\n",
    "# A problem statement should have a straight forward specific goal\n",
    "# Good Problem Statement: Want to predict the default rate of customer (All the above defined possibilities rely\n",
    "# on the customer default rate. Hence, predicting the default rate is more straight forward goal / prob. statement\n",
    "\n",
    "# Hypothesis Generation: Listing down all possible variables, that might influence problem objective\n",
    "\n",
    "# Let us analyze all the possible factors that might affect the above problem statement:\n",
    "# Income: Higher Income people might have lower default rate\n",
    "# Job Type: Person with a stable job might have a lower default rate\n",
    "# Credit History: Previous repayment behavior can have an impact on future payment behavior\n",
    "# Education: Educated people have better understanding of credit products, and may have lower default rate\n",
    "\n",
    "# Hypothesis Generation should be done before looking at the data to avoid any bias\n",
    "\n",
    "# Data Extraction:\n",
    "# Collect data from as many sources as possible\n",
    "# Also when we look at the data, we may come across any additional hypothesis as well\n",
    "# The various data source may come from demographics of the customer, transaction history of the customer,\n",
    "# payment history credit score from the bureau, and external competitive pricing information\n",
    "\n",
    "# Data Exploration:\n",
    "# Reading the data - pulling data from the data source to the work environment\n",
    "# Variable Identification - We should identify the predictor and the target variable, and its data type\n",
    "# Uni-variate Analysis - Analyze variables one by one by exploring bar plots, and histograms\n",
    "# Bi-variate Analysis - Exploring the relation between two variables\n",
    "# Missing Value Treatment - Identify variables with missing values, and imputing with mean, median, or mode etc.\n",
    "# Outlier Treatment - Come up with methods to fix outliers\n",
    "# Variable Transformation - Modify data to suit algorithm we wish to apply on data (log transformation on skewed data)\n",
    "\n",
    "#proj_dir = \"C:/Users/sivac/Documents/Python Projects/Introduction to Data Science Course/\"\n",
    "#path = proj_dir + \"Data Files/Predictive Modeling and Machine Learning/data.csv\"\n",
    "path = '/Users/s/dev4/daily-code-snippet/exam_practice/practice/Titanic.csv'\n",
    "import pandas as pd\n",
    "pd.set_option('display.max_columns', 100)\n",
    "pd.set_option('display.max_rows', 100)\n",
    "pd.set_option('expand_frame_repr', False)\n",
    "\n",
    "df = pd.read_csv(path)\n",
    "\n"
   ]
  },
  {
   "cell_type": "code",
   "execution_count": 3,
   "metadata": {},
   "outputs": [
    {
     "data": {
      "text/plain": [
       "(891, 12)"
      ]
     },
     "execution_count": 3,
     "metadata": {},
     "output_type": "execute_result"
    }
   ],
   "source": [
    "df.shape\n"
   ]
  },
  {
   "cell_type": "code",
   "execution_count": 4,
   "metadata": {},
   "outputs": [
    {
     "data": {
      "text/plain": [
       "Index(['PassengerId', 'Survived', 'Pclass', 'Name', 'Gender', 'Age', 'SibSp',\n",
       "       'Parch', 'Ticket', 'Fare', 'Cabin', 'Embarked'],\n",
       "      dtype='object')"
      ]
     },
     "execution_count": 4,
     "metadata": {},
     "output_type": "execute_result"
    }
   ],
   "source": [
    "df.columns\n"
   ]
  },
  {
   "cell_type": "code",
   "execution_count": 5,
   "metadata": {},
   "outputs": [
    {
     "data": {
      "text/html": [
       "<div>\n",
       "<style scoped>\n",
       "    .dataframe tbody tr th:only-of-type {\n",
       "        vertical-align: middle;\n",
       "    }\n",
       "\n",
       "    .dataframe tbody tr th {\n",
       "        vertical-align: top;\n",
       "    }\n",
       "\n",
       "    .dataframe thead th {\n",
       "        text-align: right;\n",
       "    }\n",
       "</style>\n",
       "<table border=\"1\" class=\"dataframe\">\n",
       "  <thead>\n",
       "    <tr style=\"text-align: right;\">\n",
       "      <th></th>\n",
       "      <th>PassengerId</th>\n",
       "      <th>Survived</th>\n",
       "      <th>Pclass</th>\n",
       "      <th>Name</th>\n",
       "      <th>Gender</th>\n",
       "      <th>Age</th>\n",
       "      <th>SibSp</th>\n",
       "      <th>Parch</th>\n",
       "      <th>Ticket</th>\n",
       "      <th>Fare</th>\n",
       "      <th>Cabin</th>\n",
       "      <th>Embarked</th>\n",
       "    </tr>\n",
       "  </thead>\n",
       "  <tbody>\n",
       "    <tr>\n",
       "      <th>0</th>\n",
       "      <td>1</td>\n",
       "      <td>0</td>\n",
       "      <td>3</td>\n",
       "      <td>Braund, Mr. Owen Harris</td>\n",
       "      <td>male</td>\n",
       "      <td>22.0</td>\n",
       "      <td>1</td>\n",
       "      <td>0</td>\n",
       "      <td>A/5 21171</td>\n",
       "      <td>7.2500</td>\n",
       "      <td>NaN</td>\n",
       "      <td>S</td>\n",
       "    </tr>\n",
       "    <tr>\n",
       "      <th>1</th>\n",
       "      <td>2</td>\n",
       "      <td>1</td>\n",
       "      <td>1</td>\n",
       "      <td>Cumings, Mrs. John Bradley (Florence Briggs Th...</td>\n",
       "      <td>female</td>\n",
       "      <td>38.0</td>\n",
       "      <td>1</td>\n",
       "      <td>0</td>\n",
       "      <td>PC 17599</td>\n",
       "      <td>71.2833</td>\n",
       "      <td>C85</td>\n",
       "      <td>C</td>\n",
       "    </tr>\n",
       "    <tr>\n",
       "      <th>2</th>\n",
       "      <td>3</td>\n",
       "      <td>1</td>\n",
       "      <td>3</td>\n",
       "      <td>Heikkinen, Miss. Laina</td>\n",
       "      <td>female</td>\n",
       "      <td>26.0</td>\n",
       "      <td>0</td>\n",
       "      <td>0</td>\n",
       "      <td>STON/O2. 3101282</td>\n",
       "      <td>7.9250</td>\n",
       "      <td>NaN</td>\n",
       "      <td>S</td>\n",
       "    </tr>\n",
       "    <tr>\n",
       "      <th>3</th>\n",
       "      <td>4</td>\n",
       "      <td>1</td>\n",
       "      <td>1</td>\n",
       "      <td>Futrelle, Mrs. Jacques Heath (Lily May Peel)</td>\n",
       "      <td>female</td>\n",
       "      <td>35.0</td>\n",
       "      <td>1</td>\n",
       "      <td>0</td>\n",
       "      <td>113803</td>\n",
       "      <td>53.1000</td>\n",
       "      <td>C123</td>\n",
       "      <td>S</td>\n",
       "    </tr>\n",
       "    <tr>\n",
       "      <th>4</th>\n",
       "      <td>5</td>\n",
       "      <td>0</td>\n",
       "      <td>3</td>\n",
       "      <td>Allen, Mr. William Henry</td>\n",
       "      <td>male</td>\n",
       "      <td>35.0</td>\n",
       "      <td>0</td>\n",
       "      <td>0</td>\n",
       "      <td>373450</td>\n",
       "      <td>8.0500</td>\n",
       "      <td>NaN</td>\n",
       "      <td>S</td>\n",
       "    </tr>\n",
       "  </tbody>\n",
       "</table>\n",
       "</div>"
      ],
      "text/plain": [
       "   PassengerId  Survived  Pclass                                               Name  Gender   Age  SibSp  Parch            Ticket     Fare Cabin Embarked\n",
       "0            1         0       3                            Braund, Mr. Owen Harris    male  22.0      1      0         A/5 21171   7.2500   NaN        S\n",
       "1            2         1       1  Cumings, Mrs. John Bradley (Florence Briggs Th...  female  38.0      1      0          PC 17599  71.2833   C85        C\n",
       "2            3         1       3                             Heikkinen, Miss. Laina  female  26.0      0      0  STON/O2. 3101282   7.9250   NaN        S\n",
       "3            4         1       1       Futrelle, Mrs. Jacques Heath (Lily May Peel)  female  35.0      1      0            113803  53.1000  C123        S\n",
       "4            5         0       3                           Allen, Mr. William Henry    male  35.0      0      0            373450   8.0500   NaN        S"
      ]
     },
     "execution_count": 5,
     "metadata": {},
     "output_type": "execute_result"
    }
   ],
   "source": [
    "df.head()"
   ]
  },
  {
   "cell_type": "code",
   "execution_count": 6,
   "metadata": {},
   "outputs": [
    {
     "data": {
      "text/plain": [
       "dtype('int64')"
      ]
     },
     "execution_count": 6,
     "metadata": {},
     "output_type": "execute_result"
    }
   ],
   "source": [
    "\n",
    "# Variable Identification:\n",
    "# Process of identifying variables that are independent and dependent\n",
    "# Identify the data type i.e. continuous vs categorical\n",
    "\n",
    "# Dependent Variable: Variable that we are trying to predict (Ex: Survived in the above data set)\n",
    "# Independent Variable: Variables that help in predicting dependent variable (Ex: sex, fare etc.)\n",
    "# The dependent and independent variable can only be identified from the problem statement\n",
    "\n",
    "# Category variables are stored as objects, whereas continuous variables are stored as int or float\n",
    "# The variables can be identified using \"dtypes\" in pandas\n",
    "\n",
    "df['PassengerId'].dtypes\n"
   ]
  },
  {
   "cell_type": "code",
   "execution_count": 7,
   "metadata": {},
   "outputs": [
    {
     "data": {
      "text/plain": [
       "PassengerId      int64\n",
       "Survived         int64\n",
       "Pclass           int64\n",
       "Name            object\n",
       "Gender          object\n",
       "Age            float64\n",
       "SibSp            int64\n",
       "Parch            int64\n",
       "Ticket          object\n",
       "Fare           float64\n",
       "Cabin           object\n",
       "Embarked        object\n",
       "dtype: object"
      ]
     },
     "execution_count": 7,
     "metadata": {},
     "output_type": "execute_result"
    }
   ],
   "source": [
    "\n",
    "df.dtypes\n"
   ]
  },
  {
   "cell_type": "code",
   "execution_count": 8,
   "metadata": {},
   "outputs": [
    {
     "data": {
      "text/html": [
       "<div>\n",
       "<style scoped>\n",
       "    .dataframe tbody tr th:only-of-type {\n",
       "        vertical-align: middle;\n",
       "    }\n",
       "\n",
       "    .dataframe tbody tr th {\n",
       "        vertical-align: top;\n",
       "    }\n",
       "\n",
       "    .dataframe thead th {\n",
       "        text-align: right;\n",
       "    }\n",
       "</style>\n",
       "<table border=\"1\" class=\"dataframe\">\n",
       "  <thead>\n",
       "    <tr style=\"text-align: right;\">\n",
       "      <th></th>\n",
       "      <th>PassengerId</th>\n",
       "      <th>Survived</th>\n",
       "      <th>Pclass</th>\n",
       "      <th>Age</th>\n",
       "      <th>SibSp</th>\n",
       "      <th>Parch</th>\n",
       "      <th>Fare</th>\n",
       "    </tr>\n",
       "  </thead>\n",
       "  <tbody>\n",
       "    <tr>\n",
       "      <th>count</th>\n",
       "      <td>891.000000</td>\n",
       "      <td>891.000000</td>\n",
       "      <td>891.000000</td>\n",
       "      <td>714.000000</td>\n",
       "      <td>891.000000</td>\n",
       "      <td>891.000000</td>\n",
       "      <td>891.000000</td>\n",
       "    </tr>\n",
       "    <tr>\n",
       "      <th>mean</th>\n",
       "      <td>446.000000</td>\n",
       "      <td>0.383838</td>\n",
       "      <td>2.308642</td>\n",
       "      <td>29.699118</td>\n",
       "      <td>0.523008</td>\n",
       "      <td>0.381594</td>\n",
       "      <td>32.204208</td>\n",
       "    </tr>\n",
       "    <tr>\n",
       "      <th>std</th>\n",
       "      <td>257.353842</td>\n",
       "      <td>0.486592</td>\n",
       "      <td>0.836071</td>\n",
       "      <td>14.526497</td>\n",
       "      <td>1.102743</td>\n",
       "      <td>0.806057</td>\n",
       "      <td>49.693429</td>\n",
       "    </tr>\n",
       "    <tr>\n",
       "      <th>min</th>\n",
       "      <td>1.000000</td>\n",
       "      <td>0.000000</td>\n",
       "      <td>1.000000</td>\n",
       "      <td>0.420000</td>\n",
       "      <td>0.000000</td>\n",
       "      <td>0.000000</td>\n",
       "      <td>0.000000</td>\n",
       "    </tr>\n",
       "    <tr>\n",
       "      <th>25%</th>\n",
       "      <td>223.500000</td>\n",
       "      <td>0.000000</td>\n",
       "      <td>2.000000</td>\n",
       "      <td>20.125000</td>\n",
       "      <td>0.000000</td>\n",
       "      <td>0.000000</td>\n",
       "      <td>7.910400</td>\n",
       "    </tr>\n",
       "    <tr>\n",
       "      <th>50%</th>\n",
       "      <td>446.000000</td>\n",
       "      <td>0.000000</td>\n",
       "      <td>3.000000</td>\n",
       "      <td>28.000000</td>\n",
       "      <td>0.000000</td>\n",
       "      <td>0.000000</td>\n",
       "      <td>14.454200</td>\n",
       "    </tr>\n",
       "    <tr>\n",
       "      <th>75%</th>\n",
       "      <td>668.500000</td>\n",
       "      <td>1.000000</td>\n",
       "      <td>3.000000</td>\n",
       "      <td>38.000000</td>\n",
       "      <td>1.000000</td>\n",
       "      <td>0.000000</td>\n",
       "      <td>31.000000</td>\n",
       "    </tr>\n",
       "    <tr>\n",
       "      <th>max</th>\n",
       "      <td>891.000000</td>\n",
       "      <td>1.000000</td>\n",
       "      <td>3.000000</td>\n",
       "      <td>80.000000</td>\n",
       "      <td>8.000000</td>\n",
       "      <td>6.000000</td>\n",
       "      <td>512.329200</td>\n",
       "    </tr>\n",
       "  </tbody>\n",
       "</table>\n",
       "</div>"
      ],
      "text/plain": [
       "       PassengerId    Survived      Pclass         Age       SibSp       Parch        Fare\n",
       "count   891.000000  891.000000  891.000000  714.000000  891.000000  891.000000  891.000000\n",
       "mean    446.000000    0.383838    2.308642   29.699118    0.523008    0.381594   32.204208\n",
       "std     257.353842    0.486592    0.836071   14.526497    1.102743    0.806057   49.693429\n",
       "min       1.000000    0.000000    1.000000    0.420000    0.000000    0.000000    0.000000\n",
       "25%     223.500000    0.000000    2.000000   20.125000    0.000000    0.000000    7.910400\n",
       "50%     446.000000    0.000000    3.000000   28.000000    0.000000    0.000000   14.454200\n",
       "75%     668.500000    1.000000    3.000000   38.000000    1.000000    0.000000   31.000000\n",
       "max     891.000000    1.000000    3.000000   80.000000    8.000000    6.000000  512.329200"
      ]
     },
     "execution_count": 8,
     "metadata": {},
     "output_type": "execute_result"
    }
   ],
   "source": [
    "\n",
    "# Uni-variate analysis for continuous variables:\n",
    "# What - Explore one variable at a time, and summarize the variable to discover insights, and anomalies etc.\n",
    "#  Why - To identify the following\n",
    "#           Central Tendency and Distribution - mean, median, standard deviation\n",
    "#           Distribution of the variable - Symmetric, right skewed, or left skewed\n",
    "#           Presence of missing values\n",
    "#           Presence of Outliers\n",
    "\n",
    "# Uni-variate analysis for Continuous Variable:\n",
    "# Tabular Method: For analyzing mean, median, Standard Deviation, and missing values\n",
    "# Graphical Method: Distribution of variables, and detecting outliers\n",
    "\n",
    "# the \"describe\" function returns statistical summary for all continuous variables\n",
    "df.describe()\n"
   ]
  },
  {
   "cell_type": "code",
   "execution_count": 9,
   "metadata": {},
   "outputs": [
    {
     "ename": "AttributeError",
     "evalue": "'SubplotSpec' object has no attribute 'rowspan'",
     "output_type": "error",
     "traceback": [
      "\u001b[0;31m---------------------------------------------------------------------------\u001b[0m",
      "\u001b[0;31mAttributeError\u001b[0m                            Traceback (most recent call last)",
      "\u001b[1;32m/Users/s/dev4/daily-code-snippet/exam_practice/practice/Titanic_data_analysis.ipynb 셀 8\u001b[0m line \u001b[0;36m4\n\u001b[1;32m      <a href='vscode-notebook-cell:/Users/s/dev4/daily-code-snippet/exam_practice/practice/Titanic_data_analysis.ipynb#X11sZmlsZQ%3D%3D?line=0'>1</a>\u001b[0m \u001b[39m# Graphical Method:\u001b[39;00m\n\u001b[1;32m      <a href='vscode-notebook-cell:/Users/s/dev4/daily-code-snippet/exam_practice/practice/Titanic_data_analysis.ipynb#X11sZmlsZQ%3D%3D?line=1'>2</a>\u001b[0m \u001b[39m# One way of analyzing continuous data is using histogram\u001b[39;00m\n\u001b[0;32m----> <a href='vscode-notebook-cell:/Users/s/dev4/daily-code-snippet/exam_practice/practice/Titanic_data_analysis.ipynb#X11sZmlsZQ%3D%3D?line=3'>4</a>\u001b[0m pd\u001b[39m.\u001b[39;49mDataFrame\u001b[39m.\u001b[39;49mhist(df)   \u001b[39m# display histogram for all continuous variables in a pandas data frame\u001b[39;00m\n",
      "File \u001b[0;32m~/opt/anaconda3/lib/python3.9/site-packages/pandas/plotting/_core.py:247\u001b[0m, in \u001b[0;36mhist_frame\u001b[0;34m(data, column, by, grid, xlabelsize, xrot, ylabelsize, yrot, ax, sharex, sharey, figsize, layout, bins, backend, legend, **kwargs)\u001b[0m\n\u001b[1;32m    160\u001b[0m \u001b[39m\u001b[39m\u001b[39m\"\"\"\u001b[39;00m\n\u001b[1;32m    161\u001b[0m \u001b[39mMake a histogram of the DataFrame's columns.\u001b[39;00m\n\u001b[1;32m    162\u001b[0m \n\u001b[0;32m   (...)\u001b[0m\n\u001b[1;32m    244\u001b[0m \u001b[39m    >>> hist = df.hist(bins=3)\u001b[39;00m\n\u001b[1;32m    245\u001b[0m \u001b[39m\"\"\"\u001b[39;00m\n\u001b[1;32m    246\u001b[0m plot_backend \u001b[39m=\u001b[39m _get_plot_backend(backend)\n\u001b[0;32m--> 247\u001b[0m \u001b[39mreturn\u001b[39;00m plot_backend\u001b[39m.\u001b[39;49mhist_frame(\n\u001b[1;32m    248\u001b[0m     data,\n\u001b[1;32m    249\u001b[0m     column\u001b[39m=\u001b[39;49mcolumn,\n\u001b[1;32m    250\u001b[0m     by\u001b[39m=\u001b[39;49mby,\n\u001b[1;32m    251\u001b[0m     grid\u001b[39m=\u001b[39;49mgrid,\n\u001b[1;32m    252\u001b[0m     xlabelsize\u001b[39m=\u001b[39;49mxlabelsize,\n\u001b[1;32m    253\u001b[0m     xrot\u001b[39m=\u001b[39;49mxrot,\n\u001b[1;32m    254\u001b[0m     ylabelsize\u001b[39m=\u001b[39;49mylabelsize,\n\u001b[1;32m    255\u001b[0m     yrot\u001b[39m=\u001b[39;49myrot,\n\u001b[1;32m    256\u001b[0m     ax\u001b[39m=\u001b[39;49max,\n\u001b[1;32m    257\u001b[0m     sharex\u001b[39m=\u001b[39;49msharex,\n\u001b[1;32m    258\u001b[0m     sharey\u001b[39m=\u001b[39;49msharey,\n\u001b[1;32m    259\u001b[0m     figsize\u001b[39m=\u001b[39;49mfigsize,\n\u001b[1;32m    260\u001b[0m     layout\u001b[39m=\u001b[39;49mlayout,\n\u001b[1;32m    261\u001b[0m     legend\u001b[39m=\u001b[39;49mlegend,\n\u001b[1;32m    262\u001b[0m     bins\u001b[39m=\u001b[39;49mbins,\n\u001b[1;32m    263\u001b[0m     \u001b[39m*\u001b[39;49m\u001b[39m*\u001b[39;49mkwargs,\n\u001b[1;32m    264\u001b[0m )\n",
      "File \u001b[0;32m~/opt/anaconda3/lib/python3.9/site-packages/pandas/plotting/_matplotlib/hist.py:520\u001b[0m, in \u001b[0;36mhist_frame\u001b[0;34m(data, column, by, grid, xlabelsize, xrot, ylabelsize, yrot, ax, sharex, sharey, figsize, layout, bins, legend, **kwds)\u001b[0m\n\u001b[1;32m    515\u001b[0m \u001b[39mif\u001b[39;00m naxes \u001b[39m==\u001b[39m \u001b[39m0\u001b[39m:\n\u001b[1;32m    516\u001b[0m     \u001b[39mraise\u001b[39;00m \u001b[39mValueError\u001b[39;00m(\n\u001b[1;32m    517\u001b[0m         \u001b[39m\"\u001b[39m\u001b[39mhist method requires numerical or datetime columns, nothing to plot.\u001b[39m\u001b[39m\"\u001b[39m\n\u001b[1;32m    518\u001b[0m     )\n\u001b[0;32m--> 520\u001b[0m fig, axes \u001b[39m=\u001b[39m create_subplots(\n\u001b[1;32m    521\u001b[0m     naxes\u001b[39m=\u001b[39;49mnaxes,\n\u001b[1;32m    522\u001b[0m     ax\u001b[39m=\u001b[39;49max,\n\u001b[1;32m    523\u001b[0m     squeeze\u001b[39m=\u001b[39;49m\u001b[39mFalse\u001b[39;49;00m,\n\u001b[1;32m    524\u001b[0m     sharex\u001b[39m=\u001b[39;49msharex,\n\u001b[1;32m    525\u001b[0m     sharey\u001b[39m=\u001b[39;49msharey,\n\u001b[1;32m    526\u001b[0m     figsize\u001b[39m=\u001b[39;49mfigsize,\n\u001b[1;32m    527\u001b[0m     layout\u001b[39m=\u001b[39;49mlayout,\n\u001b[1;32m    528\u001b[0m )\n\u001b[1;32m    529\u001b[0m _axes \u001b[39m=\u001b[39m flatten_axes(axes)\n\u001b[1;32m    531\u001b[0m can_set_label \u001b[39m=\u001b[39m \u001b[39m\"\u001b[39m\u001b[39mlabel\u001b[39m\u001b[39m\"\u001b[39m \u001b[39mnot\u001b[39;00m \u001b[39min\u001b[39;00m kwds\n",
      "File \u001b[0;32m~/opt/anaconda3/lib/python3.9/site-packages/pandas/plotting/_matplotlib/tools.py:301\u001b[0m, in \u001b[0;36mcreate_subplots\u001b[0;34m(naxes, sharex, sharey, squeeze, subplot_kw, ax, layout, layout_type, **fig_kw)\u001b[0m\n\u001b[1;32m    298\u001b[0m     \u001b[39mfor\u001b[39;00m ax \u001b[39min\u001b[39;00m axarr[naxes:]:\n\u001b[1;32m    299\u001b[0m         ax\u001b[39m.\u001b[39mset_visible(\u001b[39mFalse\u001b[39;00m)\n\u001b[0;32m--> 301\u001b[0m handle_shared_axes(axarr, nplots, naxes, nrows, ncols, sharex, sharey)\n\u001b[1;32m    303\u001b[0m \u001b[39mif\u001b[39;00m squeeze:\n\u001b[1;32m    304\u001b[0m     \u001b[39m# Reshape the array to have the final desired dimension (nrow,ncol),\u001b[39;00m\n\u001b[1;32m    305\u001b[0m     \u001b[39m# though discarding unneeded dimensions that equal 1.  If we only have\u001b[39;00m\n\u001b[1;32m    306\u001b[0m     \u001b[39m# one subplot, just return it instead of a 1-element array.\u001b[39;00m\n\u001b[1;32m    307\u001b[0m     \u001b[39mif\u001b[39;00m nplots \u001b[39m==\u001b[39m \u001b[39m1\u001b[39m:\n",
      "File \u001b[0;32m~/opt/anaconda3/lib/python3.9/site-packages/pandas/plotting/_matplotlib/tools.py:405\u001b[0m, in \u001b[0;36mhandle_shared_axes\u001b[0;34m(axarr, nplots, naxes, nrows, ncols, sharex, sharey)\u001b[0m\n\u001b[1;32m    403\u001b[0m layout \u001b[39m=\u001b[39m np\u001b[39m.\u001b[39mzeros((nrows \u001b[39m+\u001b[39m \u001b[39m1\u001b[39m, ncols \u001b[39m+\u001b[39m \u001b[39m1\u001b[39m), dtype\u001b[39m=\u001b[39mnp\u001b[39m.\u001b[39mbool_)\n\u001b[1;32m    404\u001b[0m \u001b[39mfor\u001b[39;00m ax \u001b[39min\u001b[39;00m axarr:\n\u001b[0;32m--> 405\u001b[0m     layout[row_num(ax), col_num(ax)] \u001b[39m=\u001b[39m ax\u001b[39m.\u001b[39mget_visible()\n\u001b[1;32m    407\u001b[0m \u001b[39mfor\u001b[39;00m ax \u001b[39min\u001b[39;00m axarr:\n\u001b[1;32m    408\u001b[0m     \u001b[39m# only the last row of subplots should get x labels -> all\u001b[39;00m\n\u001b[1;32m    409\u001b[0m     \u001b[39m# other off layout handles the case that the subplot is\u001b[39;00m\n\u001b[1;32m    410\u001b[0m     \u001b[39m# the last in the column, because below is no subplot/gap.\u001b[39;00m\n\u001b[1;32m    411\u001b[0m     \u001b[39mif\u001b[39;00m \u001b[39mnot\u001b[39;00m layout[row_num(ax) \u001b[39m+\u001b[39m \u001b[39m1\u001b[39m, col_num(ax)]:\n",
      "File \u001b[0;32m~/opt/anaconda3/lib/python3.9/site-packages/pandas/plotting/_matplotlib/tools.py:394\u001b[0m, in \u001b[0;36mhandle_shared_axes.<locals>.<lambda>\u001b[0;34m(x)\u001b[0m\n\u001b[1;32m    384\u001b[0m \u001b[39mdef\u001b[39;00m \u001b[39mhandle_shared_axes\u001b[39m(\n\u001b[1;32m    385\u001b[0m     axarr: Iterable[Axes],\n\u001b[1;32m    386\u001b[0m     nplots: \u001b[39mint\u001b[39m,\n\u001b[0;32m   (...)\u001b[0m\n\u001b[1;32m    391\u001b[0m     sharey: \u001b[39mbool\u001b[39m,\n\u001b[1;32m    392\u001b[0m ) \u001b[39m-\u001b[39m\u001b[39m>\u001b[39m \u001b[39mNone\u001b[39;00m:\n\u001b[1;32m    393\u001b[0m     \u001b[39mif\u001b[39;00m nplots \u001b[39m>\u001b[39m \u001b[39m1\u001b[39m:\n\u001b[0;32m--> 394\u001b[0m         row_num \u001b[39m=\u001b[39m \u001b[39mlambda\u001b[39;00m x: x\u001b[39m.\u001b[39;49mget_subplotspec()\u001b[39m.\u001b[39;49mrowspan\u001b[39m.\u001b[39mstart\n\u001b[1;32m    395\u001b[0m         col_num \u001b[39m=\u001b[39m \u001b[39mlambda\u001b[39;00m x: x\u001b[39m.\u001b[39mget_subplotspec()\u001b[39m.\u001b[39mcolspan\u001b[39m.\u001b[39mstart\n\u001b[1;32m    397\u001b[0m         is_first_col \u001b[39m=\u001b[39m \u001b[39mlambda\u001b[39;00m x: x\u001b[39m.\u001b[39mget_subplotspec()\u001b[39m.\u001b[39mis_first_col()\n",
      "\u001b[0;31mAttributeError\u001b[0m: 'SubplotSpec' object has no attribute 'rowspan'"
     ]
    },
    {
     "data": {
      "image/png": "[encoded data removed]",
      "text/plain": [
       "<Figure size 640x480 with 9 Axes>"
      ]
     },
     "metadata": {},
     "output_type": "display_data"
    }
   ],
   "source": [
    "\n",
    "# Graphical Method:\n",
    "# One way of analyzing continuous data is using histogram\n",
    "\n",
    "pd.DataFrame.hist(df)   # display histogram for all continuous variables in a pandas data frame"
   ]
  },
  {
   "cell_type": "code",
   "execution_count": null,
   "metadata": {},
   "outputs": [
    {
     "data": {
      "text/plain": [
       "(array([ 54.,  46., 177., 169., 118.,  70.,  45.,  24.,   9.,   2.]),\n",
       " array([ 0.42 ,  8.378, 16.336, 24.294, 32.252, 40.21 , 48.168, 56.126,\n",
       "        64.084, 72.042, 80.   ]),\n",
       " <a list of 10 Patch objects>)"
      ]
     },
     "execution_count": 11,
     "metadata": {},
     "output_type": "execute_result"
    },
    {
     "data": {
      "image/png": "[encoded data removed]",
      "text/plain": [
       "<Figure size 640x480 with 1 Axes>"
      ]
     },
     "metadata": {},
     "output_type": "display_data"
    }
   ],
   "source": [
    "\n",
    "\n",
    "import matplotlib.pyplot as plt\n",
    "plt.hist(df['Age'])\n"
   ]
  },
  {
   "cell_type": "code",
   "execution_count": null,
   "metadata": {},
   "outputs": [
    {
     "data": {
      "text/plain": [
       "{'whiskers': [<matplotlib.lines.Line2D at 0x7f7ee12c7e50>,\n",
       "  <matplotlib.lines.Line2D at 0x7f7ee131ca60>],\n",
       " 'caps': [<matplotlib.lines.Line2D at 0x7f7ee131c280>,\n",
       "  <matplotlib.lines.Line2D at 0x7f7ee131c670>],\n",
       " 'boxes': [<matplotlib.lines.Line2D at 0x7f7ee12c7f70>],\n",
       " 'medians': [<matplotlib.lines.Line2D at 0x7f7ee131c700>],\n",
       " 'fliers': [<matplotlib.lines.Line2D at 0x7f7ee131c7f0>],\n",
       " 'means': []}"
      ]
     },
     "execution_count": 14,
     "metadata": {},
     "output_type": "execute_result"
    },
    {
     "data": {
      "image/png": "[encoded data removed]",
      "text/plain": [
       "<Figure size 640x480 with 1 Axes>"
      ]
     },
     "metadata": {},
     "output_type": "display_data"
    }
   ],
   "source": [
    "\n",
    "# Another way of analyzing the continuous data is using Box Plots\n",
    "\n",
    "#pd.DataFrame.boxplot(df)\n",
    "plt.boxplot(df['Fare'], flierprops=dict(markerfacecolor='r', marker='D'))\n"
   ]
  },
  {
   "cell_type": "code",
   "execution_count": 10,
   "metadata": {},
   "outputs": [],
   "source": [
    "\n",
    "# Uni-variate analysis for categorical variables:\n",
    "# Some of the analysis that can be performed or everyone is interested in uni-variate analysis is:\n",
    "# Count - absolute frequency of each category in a categorical variable\n",
    "# Count% - proportion of different categories in a categorical variable expressed as %\n",
    " \n",
    "import pandas as pd\n",
    "pd.set_option('display.max_columns', 100)\n",
    "pd.set_option('display.max_rows', 100)\n",
    "pd.set_option('expand_frame_repr', False)"
   ]
  },
  {
   "cell_type": "code",
   "execution_count": 11,
   "metadata": {},
   "outputs": [
    {
     "data": {
      "text/plain": [
       "Gender\n",
       "male      577\n",
       "female    314\n",
       "Name: count, dtype: int64"
      ]
     },
     "execution_count": 11,
     "metadata": {},
     "output_type": "execute_result"
    }
   ],
   "source": [
    "\n",
    "\n",
    "# Similar to continuous variables, we can perform either tabular methods or graphical methods\n",
    "df['Gender'].value_counts()  # Frequency of the categorical variable\n"
   ]
  },
  {
   "cell_type": "code",
   "execution_count": 12,
   "metadata": {},
   "outputs": [
    {
     "data": {
      "text/plain": [
       "Gender\n",
       "male      0.647587\n",
       "female    0.352413\n",
       "Name: count, dtype: float64"
      ]
     },
     "execution_count": 12,
     "metadata": {},
     "output_type": "execute_result"
    }
   ],
   "source": [
    "df['Gender'].value_counts() / df.shape[0]  # Frequency % of the categorical variable\n"
   ]
  },
  {
   "cell_type": "code",
   "execution_count": 13,
   "metadata": {},
   "outputs": [
    {
     "data": {
      "text/plain": [
       "Gender\n",
       "male      0.647587\n",
       "female    0.352413\n",
       "Name: count, dtype: float64"
      ]
     },
     "execution_count": 13,
     "metadata": {},
     "output_type": "execute_result"
    }
   ],
   "source": [
    "df['Gender'].value_counts() / len(df['Gender'])  # Frequency % of the categorical variable\n"
   ]
  },
  {
   "cell_type": "code",
   "execution_count": 14,
   "metadata": {},
   "outputs": [
    {
     "data": {
      "text/plain": [
       "<matplotlib.axes._subplots.AxesSubplot at 0x7fde78278b80>"
      ]
     },
     "execution_count": 14,
     "metadata": {},
     "output_type": "execute_result"
    },
    {
     "data": {
      "image/png": "[encoded data removed]",
      "text/plain": [
       "<Figure size 640x480 with 1 Axes>"
      ]
     },
     "metadata": {},
     "output_type": "display_data"
    }
   ],
   "source": [
    "\n",
    "df['Gender'].value_counts().plot.bar()  # Bar plot for frequency\n"
   ]
  },
  {
   "cell_type": "code",
   "execution_count": 15,
   "metadata": {},
   "outputs": [
    {
     "data": {
      "text/plain": [
       "<matplotlib.axes._subplots.AxesSubplot at 0x7fddb890bc40>"
      ]
     },
     "execution_count": 15,
     "metadata": {},
     "output_type": "execute_result"
    },
    {
     "data": {
      "image/png": "[encoded data removed]",
      "text/plain": [
       "<Figure size 640x480 with 1 Axes>"
      ]
     },
     "metadata": {},
     "output_type": "display_data"
    }
   ],
   "source": [
    "(df['Gender'].value_counts() / df.shape[0]).plot.bar()  # Bar plot for frequency %\n"
   ]
  },
  {
   "cell_type": "code",
   "execution_count": 16,
   "metadata": {},
   "outputs": [
    {
     "data": {
      "text/plain": [
       "<matplotlib.axes._subplots.AxesSubplot at 0x7fde782be340>"
      ]
     },
     "execution_count": 16,
     "metadata": {},
     "output_type": "execute_result"
    },
    {
     "data": {
      "image/png": "[encoded data removed]",
      "text/plain": [
       "<Figure size 640x480 with 1 Axes>"
      ]
     },
     "metadata": {},
     "output_type": "display_data"
    },
    {
     "data": {
      "image/png": "[encoded data removed]",
      "text/plain": [
       "<Figure size 640x480 with 1 Axes>"
      ]
     },
     "metadata": {},
     "output_type": "display_data"
    }
   ],
   "source": [
    "\n",
    " \n",
    "# Bi-variate analysis\n",
    "# When two variables are studied together to understand their relationship (or if any relationship exists)\n",
    "# Bi-variate analysis helps in prediction\n",
    "\n",
    "# Types of bi-variate analysis:\n",
    "# Continuous - Continuous variables\n",
    "import matplotlib.pyplot as plt\n",
    "\n",
    "plt.scatter(df['Age'], df['Fare'])\n",
    "df.plot.scatter('Age', 'Fare')\n"
   ]
  },
  {
   "cell_type": "code",
   "execution_count": 24,
   "metadata": {},
   "outputs": [
    {
     "name": "stdout",
     "output_type": "stream",
     "text": [
      "<class 'pandas.core.series.Series'>\n",
      "RangeIndex: 891 entries, 0 to 890\n",
      "Series name: Fare\n",
      "Non-Null Count  Dtype  \n",
      "--------------  -----  \n",
      "891 non-null    float64\n",
      "dtypes: float64(1)\n",
      "memory usage: 7.1 KB\n"
     ]
    }
   ],
   "source": [
    "df['Fare'].info()"
   ]
  },
  {
   "cell_type": "code",
   "execution_count": 25,
   "metadata": {},
   "outputs": [
    {
     "data": {
      "text/plain": [
       "0.0960666917690389"
      ]
     },
     "execution_count": 25,
     "metadata": {},
     "output_type": "execute_result"
    }
   ],
   "source": [
    "# Analyzing the figure there is not much information from the two variables\n",
    "\n",
    "df['Age'].corr(df['Fare'])\n",
    "#df.corr()"
   ]
  },
  {
   "cell_type": "code",
   "execution_count": 27,
   "metadata": {},
   "outputs": [
    {
     "data": {
      "text/plain": [
       "<matplotlib.axes._subplots.AxesSubplot at 0x7fddb879a340>"
      ]
     },
     "execution_count": 27,
     "metadata": {},
     "output_type": "execute_result"
    },
    {
     "data": {
      "image/png": "[encoded data removed]",
      "text/plain": [
       "<Figure size 640x480 with 1 Axes>"
      ]
     },
     "metadata": {},
     "output_type": "display_data"
    }
   ],
   "source": [
    "# As figured from the scatter plot, there exists a very weak correlation between Age and Fare\n",
    "\n",
    "# Categorical - Continuous Analysis\n",
    "# Does the mean age of male different from that of female?\n",
    "\n",
    "df.groupby('Gender')['Age'].mean()\n",
    "df.groupby('Gender')['Age'].mean().plot.bar()"
   ]
  },
  {
   "cell_type": "code",
   "execution_count": 30,
   "metadata": {},
   "outputs": [
    {
     "data": {
      "text/plain": [
       "14.678200823816601"
      ]
     },
     "execution_count": 30,
     "metadata": {},
     "output_type": "execute_result"
    }
   ],
   "source": [
    "\n",
    "import scipy.stats as stats\n",
    "\n",
    "(df['Age'][df['Gender'] == \"male\"]).std(ddof=1)"
   ]
  },
  {
   "cell_type": "code",
   "execution_count": 29,
   "metadata": {},
   "outputs": [
    {
     "data": {
      "text/plain": [
       "14.110146457544134"
      ]
     },
     "execution_count": 29,
     "metadata": {},
     "output_type": "execute_result"
    }
   ],
   "source": [
    "(df['Age'][df['Gender'] == \"female\"]).std(ddof=1)"
   ]
  },
  {
   "cell_type": "code",
   "execution_count": 32,
   "metadata": {},
   "outputs": [
    {
     "data": {
      "text/plain": [
       "TtestResult(statistic=2.499206354920835, pvalue=0.012671296797013709, df=712.0)"
      ]
     },
     "execution_count": 32,
     "metadata": {},
     "output_type": "execute_result"
    }
   ],
   "source": [
    "stats.ttest_ind(df['Age'][df['Gender'] == \"male\"], df['Age'][df['Gender'] == \"female\"],  nan_policy='omit')\n",
    "# The 2 sample t test suggest that there is a significant difference between the mean age of males from females"
   ]
  },
  {
   "cell_type": "code",
   "execution_count": 33,
   "metadata": {},
   "outputs": [
    {
     "data": {
      "text/plain": [
       "0      22.0\n",
       "4      35.0\n",
       "5       NaN\n",
       "6      54.0\n",
       "7       2.0\n",
       "       ... \n",
       "883    28.0\n",
       "884    25.0\n",
       "886    27.0\n",
       "889    26.0\n",
       "890    32.0\n",
       "Name: Age, Length: 577, dtype: float64"
      ]
     },
     "execution_count": 33,
     "metadata": {},
     "output_type": "execute_result"
    }
   ],
   "source": [
    "df['Age'][df['Gender'] == \"male\"]"
   ]
  },
  {
   "cell_type": "code",
   "execution_count": 36,
   "metadata": {},
   "outputs": [
    {
     "data": {
      "text/html": [
       "<div>\n",
       "<style scoped>\n",
       "    .dataframe tbody tr th:only-of-type {\n",
       "        vertical-align: middle;\n",
       "    }\n",
       "\n",
       "    .dataframe tbody tr th {\n",
       "        vertical-align: top;\n",
       "    }\n",
       "\n",
       "    .dataframe thead th {\n",
       "        text-align: right;\n",
       "    }\n",
       "</style>\n",
       "<table border=\"1\" class=\"dataframe\">\n",
       "  <thead>\n",
       "    <tr style=\"text-align: right;\">\n",
       "      <th>Survived</th>\n",
       "      <th>0</th>\n",
       "      <th>1</th>\n",
       "    </tr>\n",
       "    <tr>\n",
       "      <th>Gender</th>\n",
       "      <th></th>\n",
       "      <th></th>\n",
       "    </tr>\n",
       "  </thead>\n",
       "  <tbody>\n",
       "    <tr>\n",
       "      <th>female</th>\n",
       "      <td>81</td>\n",
       "      <td>233</td>\n",
       "    </tr>\n",
       "    <tr>\n",
       "      <th>male</th>\n",
       "      <td>468</td>\n",
       "      <td>109</td>\n",
       "    </tr>\n",
       "  </tbody>\n",
       "</table>\n",
       "</div>"
      ],
      "text/plain": [
       "Survived    0    1\n",
       "Gender            \n",
       "female     81  233\n",
       "male      468  109"
      ]
     },
     "execution_count": 36,
     "metadata": {},
     "output_type": "execute_result"
    }
   ],
   "source": [
    "# Categorical - Categorical Analysis\n",
    "# Does the gender have any relation on survival rates?\n",
    "pd.crosstab(df['Gender'], df['Survived'])\n"
   ]
  },
  {
   "cell_type": "code",
   "execution_count": 37,
   "metadata": {},
   "outputs": [
    {
     "data": {
      "text/plain": [
       "Chi2ContingencyResult(statistic=260.71702016732104, pvalue=1.1973570627755645e-58, dof=1, expected_freq=array([[193.47474747, 120.52525253],\n",
       "       [355.52525253, 221.47474747]]))"
      ]
     },
     "execution_count": 37,
     "metadata": {},
     "output_type": "execute_result"
    }
   ],
   "source": [
    "stats.chi2_contingency(pd.crosstab(df['Gender'], df['Survived']))"
   ]
  },
  {
   "cell_type": "code",
   "execution_count": 39,
   "metadata": {},
   "outputs": [
    {
     "name": "stdout",
     "output_type": "stream",
     "text": [
      "260.71702016732104\n"
     ]
    }
   ],
   "source": [
    "stats, p_value, dof, expected_freq = stats.chi2_contingency(pd.crosstab(df['Gender'], df['Survived']))\n",
    "print(stats)"
   ]
  },
  {
   "cell_type": "code",
   "execution_count": null,
   "metadata": {},
   "outputs": [],
   "source": [
    "# From the pvalue, it is evident that there is a significant difference between sex and survival rates\n",
    "# Note that when we have an exclusive list of observed, then we can use the chisquare instead of the contigency function\n",
    "\n",
    "# MISSING VALUES TREATMENT\n",
    "\n",
    "# Types of Missing Values\n",
    "#       Missing completely at random (MCAR) - missing values have no relation to the value iteself neither other values\n",
    "#               For instance, in a dataset with two columns Age and IQ, the missing values in IQ column have\n",
    "#               no relation with both Age or IQ\n",
    "\n",
    "#       Missing at Random (MAR) - missing values have some related with other variables present in the data\n",
    "#               For instance, if we have two columns Age, and IQ, then the IQ values are missing for any age < 55,\n",
    "#               then this type of missing values are called MAR\n",
    "\n",
    "#       Missing not at random (MNAR) - missing value have some sort of relation with the column itself\n",
    "#               For example, in a data set with two columns Age, and IQ, if all values of IQ less than 100 are\n",
    "#               missing, then they are called MNAR\n",
    "\n",
    "# Identifying missing values\n",
    "# describe - this is helpful for finding missing values only for continuous variable\n",
    "# Isull - can be used for both continuous and categorical variable\n",
    "\n",
    "\n",
    "# Treating Missing Values\n",
    "# Imputation\n",
    "#       Continuous - mean, median, mode,  and regression methods\n",
    "#       Categorical - mode, classification model\n",
    "\n",
    "# Deletion\n",
    "#       Row wise deletion - Delete the entire row\n",
    "#       Column wise deletion - Delete entire column\n",
    "\n",
    "# Deletion treatment results in loss of data. So, imputation is preferred over deletion, unless required\n",
    "\n",
    "proj_dir = \"C:/Users/sivac/Documents/Python Projects/Introduction to Data Science Course/\"\n",
    "path = proj_dir + \"Data Files/Predictive Modeling and Machine Learning/data.csv\"\n",
    "\n",
    "import pandas as pd\n",
    "pd.set_option('display.max_columns', 100)\n",
    "pd.set_option('display.max_rows', 100)\n",
    "pd.set_option('expand_frame_repr', False)\n",
    "\n",
    "df = pd.read_csv(path)\n",
    "\n",
    "# Identify missing values of numerical variables\n",
    "df.shape\n",
    "df.describe()\n",
    "len(df[df['Age'].isnull()])\n",
    "\n",
    "# To identify all missing values in the data set\n",
    "df.isnull().sum()\n",
    "# From the above function, it is evident that we have missing values in age, cabin, and Embarked\n",
    "\n",
    "# Drop any rows with missing values\n",
    "df.dropna()\n",
    "df.dropna().shape\n",
    "df.dropna().isnull().sum()\n",
    "\n",
    "# Drop only those rows where all values are missing\n",
    "df.dropna(how='all').shape\n",
    "# There are no rows where all values are missing\n",
    "\n",
    "# Dropping any columns that have missing values\n",
    "df.dropna(axis=1).shape   # 3 columns that had missing values were deleted\n",
    "\n",
    "# Dropping columns that have all missing values\n",
    "df.dropna(axis=1, how='all').shape   # There are no columns with all missing values\n",
    "\n",
    "# Filling all na with zero\n",
    "df.fillna(0)\n",
    "\n",
    "# If the above action of filling na is to be done within the dataset, we use the argument inplace=T\n",
    "# df.fillna(0, inplace=True)\n",
    "\n",
    "# To impute a numerical variable with value other than zero\n",
    "df['Age'].fillna(df['Age'].mean())\n",
    "\n",
    "# OUTLIER TREATMENT\n",
    "# Uni-variate Outliers: Analyze one variable for outliers - can be identified using box plot\n",
    "# Bi-variate Outliers: Analyze two variables for outliers  - can be identified using scatter plot\n",
    "\n",
    "# Identifying Outliers:\n",
    "# Value less than Q1 - 1.5 IQR or greater than Q3 + 1.5 IQR\n",
    "# IQR is the Inter Quartile Range which is Q3 - Q1\n",
    "\n",
    "# Treating Outliers:\n",
    "# Deleting Outliers\n",
    "# Transforming and Binning Values\n",
    "# Imputing Outliers similar to missing values\n",
    "# Treat the outliers separately\n",
    "\n",
    "import pandas as pd\n",
    "pd.set_option('display.max_columns', 100)\n",
    "pd.set_option('display.max_rows', 100)\n",
    "pd.set_option('expand_frame_repr', 100)\n",
    "\n",
    "\n",
    "proj_dir = \"C:/Users/sivac/Documents/Python Projects/Introduction to Data Science Course/\"\n",
    "path = proj_dir + \"Data Files/Predictive Modeling and Machine Learning/data.csv\"\n",
    "df = pd.read_csv(path)\n",
    "\n",
    "pd.DataFrame.boxplot(df)\n",
    "df['Age'].plot.box()\n",
    "df['Fare'].plot.box()\n",
    "\n",
    "df.plot.scatter('Age', 'Fare')\n",
    "pd.scatter_matrix(df)\n",
    "\n",
    "# Removing Outliers from the data set\n",
    "# From the above scatter plot for Age and Fare, there are two data points that appear as outlier. One way to remove\n",
    "# the outlier is to filter the data where the fare is greater than 300\n",
    "df1 = df[df['Fare'] < 300]\n",
    "df1.plot.scatter('Age', 'Fare')\n",
    "\n",
    "# Replacing outliers in Age variable with the mean\n",
    "df1.loc[df['Age'] > 65, 'Age'] = df1['Age'].mean()  # Outliers imputed with mean. They can also be done with median\n",
    "# df1.loc[df['Age'] > 65, 'Age'] = df1['Age'].median()\n",
    "# np.mean(df['Age']) also gives the mean.. np is from numpy package\n",
    "\n",
    "df1['Age'].plot.box()\n",
    "\n",
    "# Variable Transformation:\n",
    "\n",
    "# Replace a variable with some function of that particular variable (i.e. replacing with log)\n",
    "# Is a process in which we change the distribution or relationship of a variable with others\n",
    "\n",
    "# Why used\n",
    "# To change the scale of the variable. For instance, when we have 20 variables of which 17 are in Km, and 3 are in mile\n",
    "# then the change in scale will create some issues. To bring the scale the same across the column, variable\n",
    "# transformation are performed\n",
    "\n",
    "# Transforming non linear relationships to linear relationships as linear relationships are easier to predict\n",
    "\n",
    "# Create a symmetric distribution from a skewed distribution, as symmetric or normally distributed data\n",
    "# are required for many model predictions etc\n",
    "\n",
    "# Common methods of variable transformation\n",
    "\n",
    "# Taking log of the variables reduces the right skewness of the variable\n",
    "# Square Root - Used for right skewed variable, but applicable only for positive values\n",
    "# Cube Root - Used for right skewed variable for both positive and negative variables\n",
    "# Binning - convert continuous variable to categorical variable\n",
    "\n",
    "import pandas as pd\n",
    "pd.set_option('display.max_columns', 100)\n",
    "pd.set_option('display.max_rows', 100)\n",
    "pd.set_option('expand_frame_repr', 100)\n",
    "import numpy as np\n",
    "import matplotlib.pyplot as plt\n",
    "\n",
    "proj_dir = \"C:/Users/sivac/Documents/Python Projects/Introduction to Data Science Course/\"\n",
    "path = proj_dir + \"Data Files/Predictive Modeling and Machine Learning/data.csv\"\n",
    "df = pd.read_csv(path)\n",
    "\n",
    "df['Age'].plot.hist()\n",
    "\n",
    "# Let us analyze the results of different transformations:\n",
    "\n",
    "plt.subplot(221)\n",
    "df['Age'].plot.hist()\n",
    "plt.title = 'Age Histogram'\n",
    "plt.subplot(222)\n",
    "np.log(df['Age']).plot.hist()  # Taking log is completely changing the skewness to the left. Not very good\n",
    "plt.title = 'Log transformation of Age Histogram'\n",
    "plt.subplot(223)\n",
    "np.sqrt(df['Age']).plot.hist()\n",
    "plt.title = 'SQRT transformation of Age Histogram'\n",
    "plt.subplot(224)\n",
    "np.power(df['Age'], 1/3).plot.hist()\n",
    "plt.title = 'Cube Root transformation of Age Histogram'\n",
    "plt.show()\n",
    "\n",
    "# Of all the above transformation, the sqrt gives better symmetry\n",
    "\n",
    "# Transformation by Binning:\n",
    "df['Age'].plot.hist()\n",
    "\n",
    "# Let us consider from the above data set that people with age 0-15 are children, and the rest are adults\n",
    "bins = [0, 15, 80]\n",
    "group = ['child', 'adult']\n",
    "df['Age Group'] = pd.cut(df['Age'], bins, labels=group)\n",
    "df.head\n",
    "# df['Age Group'].isnull().value_counts()\n",
    "df['Age Group'].value_counts().plot(kind='bar')\n",
    "df.groupby('Age Group').size().plot(kind='bar')\n",
    "\n",
    "# BASICS OF MODEL BUILDING\n",
    "\n",
    "# Three steps involved in model building:\n",
    "#           Algorithm Selection\n",
    "#           Training Model\n",
    "#           Prediction or Scoring\n",
    "\n",
    "# Chart for Algorithm Selection\n",
    "# IF Dependent Variable exists, then Supervised Learning, else Unsupervised Learning\n",
    "#           If Supervised Learning, Is dependent Variable continuous?\n",
    "#                   If yes, then regression problem (Simple Linear Regression, Multiple Regression)\n",
    "#                   If not, then classification problem (Logistic Regression, Decision Tree, Random Forest)\n",
    "#           If Unsupervised, then Clustering problem (k-means, spectral clustering)\n",
    "\n",
    "\n",
    "# LINEAR REGRESSIONS:\n",
    "# r square is a measure of how good the model is\n",
    "# r square = Sum of Square of Regression / Sum of Square of Total Variance (i.e. Sum((y hat - actual mean)^2) / Sum((y - actual mean)^2)\n",
    "# r square can also be calculated from 1 - {Sum((y hat - y)^2) / Sum((y - actual mean)^2)}\n",
    "# r square always lies between 0 and 1\n",
    "# RMSE is one of the most popular metric for scoring regression models\n",
    "\n",
    "# IMPLEMENTING LINEAR REGRESSION IN PYTHON\n",
    "\n",
    "import pandas as pd\n",
    "pd.set_option('display.max_columns', 100)\n",
    "pd.set_option('display.max_rows', 100)\n",
    "pd.set_option('expand_frame_repr', False)\n",
    "import numpy as np\n",
    "import matplotlib.pyplot as plt\n",
    "\n",
    "proj_dir = \"C:/Users/sivac/Documents/Python Projects/Introduction to Data Science Course/\"\n",
    "path = proj_dir + \"Data Files/Predictive Modeling and Machine Learning/linear_regression_train.csv\"\n",
    "df = pd.read_csv(path)\n",
    "\n",
    "df.dtypes\n",
    "df.head()\n",
    "df.shape\n",
    "\n",
    "\n",
    "# In order for linear regression to run, all the variables should be numerical\n",
    "# Categorical variables can be converted to numerical using the get_dummies function in pandas\n",
    "# Creating dummies before split to avoid any conflicts between dummy variable creation\n",
    "\n",
    "df_backup = df\n",
    "df = pd.get_dummies(df,)\n",
    "\n",
    "\n",
    "df_train = df[0:8000]\n",
    "df_test = df[8000:]\n",
    "\n",
    "x_train = df_train.drop('Item_Outlet_Sales', axis=1)\n",
    "y_train = df_train['Item_Outlet_Sales']\n",
    "x_test = df_test.drop('Item_Outlet_Sales', axis=1)\n",
    "true_pred = df_test['Item_Outlet_Sales']\n",
    "\n",
    "# Building a linear regression model\n",
    "from sklearn.linear_model import LinearRegression\n",
    "lreg = LinearRegression()\n",
    "\n",
    "\n",
    "# For linear regressions to run properly, there should not be any missing values. For this case, let us fill NA with 0\n",
    "x_train.fillna(0, inplace=True)\n",
    "x_test.fillna(0, inplace=True)\n",
    "\n",
    "lreg.fit(x_train, y_train)\n",
    "pred = lreg.predict(x_test)\n",
    "\n",
    "# Performance of the model:\n",
    "\n",
    "lreg.score(x_test, true_pred)  # r square is 0.4029\n",
    "lreg.score(x_train, y_train)  # r square is 0.6497\n",
    "# From the above score test, r square has dropped significantly. The reason can be that the model  is\n",
    "# over fitted for train data set, or the test data is not an actual representation of train\n",
    "\n",
    "rmse_test = np.sqrt(np.mean(np.power((np.array(true_pred) - np.array(pred)), 2)))\n",
    "rmse_train = np.sqrt(np.mean(np.power((np.array(y_train) - np.array(lreg.predict(x_train))), 2)))\n",
    "# The RMSE results also very similar to r square. i.e. either there is over fitting or test is not representing train\n",
    "\n",
    "pd.DataFrame.boxplot(df1)\n",
    "pd.scatter_matrix(df1)\n",
    "\n",
    "# UNDERSTANDING LOGISTIC REGRESSION:\n",
    "\n",
    "# Logistic regression is basically a sigmoid function 1 / (1 + e^-yhat)\n",
    "# Logistic regression is used for Yes / No classification. It determines whether a an outcome can occur or not, given the possibility of X\n",
    "# Cost Function = -y (log(yhat)) - (1-y) log(1-yhat)\n",
    "\n",
    "import pandas as pd\n",
    "pd.set_option('display.max_rows', 100)\n",
    "pd.set_option('display.max_columns', 100)\n",
    "pd.set_option('expand_frame_repr', False)\n",
    "import numpy as np\n",
    "import matplotlib.pyplot as plt\n",
    "\n",
    "proj_dir = \"C:/Users/sivac/Documents/Python Projects/Introduction to Data Science Course/\"\n",
    "path = proj_dir + \"Data Files/Predictive Modeling and Machine Learning/titanic.csv\"\n",
    "df = pd.read_csv(path)\n",
    "\n",
    "df.head()\n",
    "df['Survived'].value_counts()\n",
    "df = pd.get_dummies(df)\n",
    "df.fillna(0, inplace=True)\n",
    "df.shape\n",
    "train_data = df[0:699]\n",
    "test_data = df[700:890]\n",
    "x_train = train_data.drop('Survived', axis=1)\n",
    "y_train = train_data['Survived']\n",
    "x_test = test_data.drop('Survived', axis=1)\n",
    "y_test = test_data['Survived']\n",
    "\n",
    "from sklearn.linear_model import LogisticRegression\n",
    "logreg = LogisticRegression()\n",
    "\n",
    "logreg.fit(x_train, y_train)\n",
    "predictions = logreg.predict(x_test)\n",
    "\n",
    "logreg.score(x_test, y_test)\n",
    "logreg.score(x_train, y_train)\n",
    "\n",
    "# The accuracy has dropped significantly from 92 to 82. The major reason might be we are using the name of the passengers.\n",
    "# Let us try rerun the logistic regression by removing the passenger name\n",
    "\n",
    "df['Survived'].value_counts()\n",
    "df['Cabin_Fixed'] = df['Cabin'].astype(str).str[0]  # To generalize the Cabin rather than having all seat number\n",
    "df['Cabin_Fixed'][df['Cabin'].isnull()] = df['Cabin']\n",
    "df.Fare.plot.hist(bins=20)  # To see if having a fare group can have an impact on the overall model\n",
    "bins = [0, 20, 250, 500]\n",
    "group = ['low', 'med', 'high']\n",
    "df['Fare_Group'] = pd.cut(df['Fare'], bins, labels=group)\n",
    "df.head()\n",
    "pd.crosstab(df['Cabin_Fixed'], df['Fare_Group'])\n",
    "\n",
    "\n",
    "df.drop(['Name', 'Ticket', 'Cabin'], axis=1, inplace=True)\n",
    "df = pd.get_dummies(df)\n",
    "df.fillna(0, inplace=True)\n",
    "df.shape\n",
    "train_data = df[0:699]\n",
    "test_data = df[700:890]\n",
    "x_train = train_data.drop('Survived', axis=1)\n",
    "y_train = train_data['Survived']\n",
    "x_test = test_data.drop('Survived', axis=1)\n",
    "y_test = test_data['Survived']\n",
    "\n",
    "from sklearn.linear_model import LogisticRegression\n",
    "logreg = LogisticRegression()\n",
    "\n",
    "logreg.fit(x_train, y_train)\n",
    "predictions = logreg.predict(x_test)\n",
    "\n",
    "logreg.score(x_test, y_test)  # 0.81\n",
    "logreg.score(x_train, y_train)  # 0.79\n",
    "\n",
    "accuracy_df = pd.DataFrame({'Actual_Values': y_test, 'Predicted_Values': predictions})\n",
    "pd.crosstab(accuracy_df['Actual_Values'], accuracy_df['Predicted_Values'])\n",
    "\n",
    "# Though the overall model did not improve, the test and train are more or less close which means that the model is now\n",
    "# more generalized, rather than over fitting the training data\n",
    "\n",
    "# Additional Reference: https://towardsdatascience.com/building-a-logistic-regression-in-python-step-by-step-becd4d56c9c8\n",
    "# https://towardsdatascience.com/fine-tuning-a-classifier-in-scikit-learn-66e048c21e65\n",
    "\n",
    "# UNDERSTANDING DECISION TREES:\n",
    "\n",
    "# Decision tree is nothing but slicing data by asking questions at each point. The question may start more generic to more focused\n",
    "# as we go deeper in to the node\n",
    "\n",
    "# The node at which the first decision split occurs is called the Root Node, and the last node is called the terminal nodes (or leaf node).\n",
    "# The number of decision branches required to arrive at the terminal node is called the depth of the tree\n",
    "\n",
    "# Splitting:\n",
    "# The effectiveness of the split relies on how good the first node split acts to divide the data in to event success vs event failure. For instance\n",
    "# where there are 10 girls (5 in class 9 and 5 in class 10), and 20 boys (10 in each class) in a school, and let us assume that all boys play cricket\n",
    "# and no girls play cricket. If the first split is made at Gender level, then the model would be more precisely able to segregate the event of\n",
    "# success vs failure (0 vs 100%) vs the first split taken by class (50% vs 50%)\n",
    "\n",
    "# The purity of the split is measured on gini index. Gini index is applicable to datasets with only success vs failure outcomes\n",
    "# i.e. two classes of dependent variable\n",
    "\n",
    "# The purity of the split does not always correspond to accuracy of the model in splitting the model as Success vs Failure\n",
    "# Suppose if all girls and boys play cricket, then the split by gender will actually divide the success outcomes in to two branches\n",
    "# In this particular case, the gini index will be the max possible value (i.e 1) but the success events are split between the two nodes\n",
    "\n",
    "\n",
    "import pandas as pd\n",
    "pd.set_option('display.max_rows', 100)\n",
    "pd.set_option('display.max_columns', 100)\n",
    "pd.set_option('expand_frame_repr', False)\n",
    "import numpy as np\n",
    "import matplotlib.pyplot as plt\n",
    "from sklearn.model_selection import train_test_split\n",
    "from sklearn.tree import DecisionTreeClassifier\n",
    "\n",
    "proj_dir = \"C:/Users/sivac/Documents/Python Projects/Introduction to Data Science Course/\"\n",
    "path = proj_dir + \"Data Files/Predictive Modeling and Machine Learning/decision_tree.csv\"\n",
    "df = pd.read_csv(path)\n",
    "# Note that the decision tree data set is the same as the titanic data set, but is cleaned and converted all strings to numeric data\n",
    "df.head()\n",
    "\n",
    "# Seperating independent and dependent variables\n",
    "\n",
    "x = df.drop('Survived', axis=1)\n",
    "y = df['Survived']\n",
    "\n",
    "x_train, x_test, y_train, y_test = train_test_split(x, y, random_state=1, stratify=y)\n",
    "# The random state argument is similar to seed, and stratify is to make sure the y variable is split in an equal proportion in test and train\n",
    "\n",
    "# Checking proportion of y in train and test to validate the stratify command:\n",
    "\n",
    "y_train.value_counts() / len(y_train)\n",
    "y_test.value_counts() / len(y_test)\n",
    "\n",
    "clf = DecisionTreeClassifier()\n",
    "clf.fit(x_train, y_train)\n",
    "clf.score(x_train, y_train)\n",
    "\n",
    "clf.score(x_test, y_test)\n",
    "\n",
    "# The prediction is not that good as the there is a huge drop between the train and the test data. Either the model is overfitted, or the test\n",
    "# is not a good resemblance of train data\n",
    "\n",
    "# UNDERSTANDING K MEANS:\n",
    "\n",
    "# Unsupervised Learning: There is no target variable in this case. The data is being accessed by the algorithm, and then categorized depending\n",
    "# on the similarities between different points.\n",
    "\n",
    "# Steps in K-means clustering:\n",
    "#   Assigns clusters randomly with the available data points in a plant\n",
    "#   Calculates the centroid for each of the clusters\n",
    "#   Now each points are accessed the distance from all the available centroids, and are then assigned the particular cluster to which they are close to\n",
    "#   The above steps are repeated until:\n",
    "#        The number of iterations reach the specified limit\n",
    "#        The centroid points do not change any more\n",
    "#        The individual points after many iterations do not change the clusters\n",
    "\n",
    "import pandas as pd\n",
    "pd.set_option('display.max_rows', 100)\n",
    "pd.set_option('display.max_columns', 100)\n",
    "pd.set_option('expand_frame_repr', False)\n",
    "#import numpy as np\n",
    "import matplotlib.pyplot as plt\n",
    "from sklearn.model_selection import train_test_split\n",
    "from sklearn.cluster import KMeans\n",
    "\n",
    "proj_dir = \"C:/Users/sivac/Documents/Python Projects/Introduction to Data Science Course/\"\n",
    "path = proj_dir + \"Data Files/Predictive Modeling and Machine Learning/student_evaluation.csv\"\n",
    "df = pd.read_csv(path)\n",
    "df.head()\n",
    "df.shape\n",
    "\n",
    "df.isnull().sum()  # To check for null values within the data set\n",
    "# There are no null values in the data set\n",
    "\n",
    "df.describe()\n",
    "\n",
    "kmeans = KMeans(n_clusters=2)  # We can check with two clusters\n",
    "kmeans.fit(df)\n",
    "pred = kmeans.predict(df)\n",
    "pred  # (pred is a numpy array)\n",
    "pd.Series(pred).value_counts()\n",
    "\n",
    "kmeans.inertia_  # Either way of calculating the Squared Sum of Errors\n",
    "kmeans.score(df)  # Either way of calculating the Squared Sum of Errors\n",
    "# The clusters with the lowest SSE value has the best representation of the clusters\n",
    "# We need to try different number of clusters, with different iterations to arrive at the best cluster segmentation\n",
    "\n",
    "SSE = []\n",
    "for cluster in range(1, 21):\n",
    "    kmeans = KMeans(n_jobs=-1, n_clusters=cluster)\n",
    "    kmeans.fit(df)\n",
    "    SSE.append(kmeans.inertia_)\n",
    "\n",
    "clusterResults = pd.DataFrame({'Cluster': range(1, 21), 'SSE': SSE})\n",
    "clusterResults\n",
    "\n",
    "# plt.figure(figsize=(12, 6))\n",
    "plt.plot(clusterResults['Cluster'], clusterResults['SSE'], marker='o')\n",
    "# From the above plot, we can infer that from 6 clusters onwards, the SSE decrease is marginal. Though this is\n",
    "# not a accurate test, we can still conclude that the optimal number of clusters is 6 to 7\n",
    "\n",
    "# Since KMeans is based on the distance between two points, it is important to scale the datasets\n",
    "from sklearn.preprocessing import StandardScaler\n",
    "scaler = StandardScaler()\n",
    "\n",
    "df_scaled = scaler.fit_transform(df)\n",
    "\n",
    "SSE_Scaled = []\n",
    "\n",
    "for cluster in range(1, 21):\n",
    "    kmeans = KMeans(n_jobs=-1, n_clusters=cluster)\n",
    "    kmeans.fit(df_scaled)\n",
    "    SSE_Scaled.append(kmeans.inertia_)\n",
    "\n",
    "scaledClusterResults = pd.DataFrame({'Cluster': range(1, 21), 'SSE_Scaled': SSE_Scaled})\n",
    "plt.plot(scaledClusterResults['Cluster'], scaledClusterResults['SSE_Scaled'], marker='o')\n",
    "\n",
    "# From the graph, it is can be inferred that the optimal number of clusters can be around 4 or 5\n",
    "\n",
    "kmeans = KMeans(n_clusters=4, n_jobs=-1)\n",
    "kmeans.fit(df_scaled)\n",
    "pred = kmeans.predict(df_scaled)\n",
    "\n",
    "df['Cluster'] = pred\n",
    "\n",
    "df[df['Cluster'] == 2]\n",
    "df['pred']"
   ]
  }
 ],
 "metadata": {
  "kernelspec": {
   "display_name": "base",
   "language": "python",
   "name": "python3"
  },
  "language_info": {
   "codemirror_mode": {
    "name": "ipython",
    "version": 3
   },
   "file_extension": ".py",
   "mimetype": "text/x-python",
   "name": "python",
   "nbconvert_exporter": "python",
   "pygments_lexer": "ipython3",
   "version": "3.9.13"
  }
 },
 "nbformat": 4,
 "nbformat_minor": 2
}
