{
 "cells": [
  {
   "cell_type": "markdown",
   "id": "81940ba5",
   "metadata": {
    "papermill": {
     "duration": 0.067822,
     "end_time": "2022-08-24T08:21:12.887097",
     "exception": false,
     "start_time": "2022-08-24T08:21:12.819275",
     "status": "completed"
    },
    "tags": []
   },
   "source": [
    "<div style=\"border-width:1; border-radius: 15px; border-style: solid; border-color: rgb(10, 10, 10); background-color: #2b6777; color:#ffffff;text-align: center;font: 14pt 'Candara';font-weight:bold;\"><h1>Airline passenger satisfaction (Part 1)</h1></div>"
   ]
  },
  {
   "cell_type": "markdown",
   "id": "8dfa1b09",
   "metadata": {
    "papermill": {
     "duration": 0.066842,
     "end_time": "2022-08-24T08:21:13.022931",
     "exception": false,
     "start_time": "2022-08-24T08:21:12.956089",
     "status": "completed"
    },
    "tags": []
   },
   "source": [
    "<center><a><img src=\"https://apartmentinteriors.ru/wp-content/uploads/samolot-charter-private-jet-charter-02.jpg\" border=\"3\" width=800 height=600 class=\"center\"></a>"
   ]
  },
  {
   "cell_type": "markdown",
   "id": "b3742ec0",
   "metadata": {
    "papermill": {
     "duration": 0.06621,
     "end_time": "2022-08-24T08:21:13.156115",
     "exception": false,
     "start_time": "2022-08-24T08:21:13.089905",
     "status": "completed"
    },
    "tags": []
   },
   "source": [
    "<div style=\"border-width:1; border-radius: 15px; border-style: solid; border-color: rgb(10, 10, 10); background-color: #52ab98; text-align: center;font: 14pt 'Candara';font-weight:bold;\"><h1>Task description</h1></div>"
   ]
  },
  {
   "cell_type": "markdown",
   "id": "7e99ce78",
   "metadata": {
    "papermill": {
     "duration": 0.065371,
     "end_time": "2022-08-24T08:21:13.288177",
     "exception": false,
     "start_time": "2022-08-24T08:21:13.222806",
     "status": "completed"
    },
    "tags": []
   },
   "source": [
    "**There is the following information about the passengers of some airline:**\n",
    "\n",
    "1. **Gender:** male or female\n",
    "2. **Customer type:** regular or non-regular airline customer\n",
    "3. **Age:** the actual age of the passenger\n",
    "4. **Type of travel:** the purpose of the passenger's flight (personal or business travel)\n",
    "5. **Class:** business, economy, economy plus\n",
    "6. **Flight distance**\n",
    "7. **Inflight wifi service:** satisfaction level with Wi-Fi service on board (0: not rated; 1-5)\n",
    "8. **Departure/Arrival time convenient:** departure/arrival time satisfaction level (0: not rated; 1-5)\n",
    "9. **Ease of Online booking:** online booking satisfaction rate (0: not rated; 1-5)\n",
    "10. **Gate location:** level of satisfaction with the gate location (0: not rated; 1-5)\n",
    "11. **Food and drink:** food and drink satisfaction level (0: not rated; 1-5)\n",
    "12. **Online boarding:** satisfaction level with online boarding (0: not rated; 1-5)\n",
    "13. **Seat comfort:** seat satisfaction level (0: not rated; 1-5)\n",
    "14. **Inflight entertainment:** satisfaction with inflight entertainment (0: not rated; 1-5)\n",
    "15. **On-board service:** level of satisfaction with on-board service (0: not rated; 1-5)\n",
    "16. **Leg room service**: level of satisfaction with leg room service (0: not rated; 1-5)\n",
    "17. **Baggage handling:** level of satisfaction with baggage handling (0: not rated; 1-5)\n",
    "18. **Checkin service:** level of satisfaction with checkin service (0: not rated; 1-5)\n",
    "19. **Inflight service:** level of satisfaction with inflight service (0: not rated; 1-5)\n",
    "20. **Cleanliness:** level of satisfaction with cleanliness (0: not rated; 1-5)\n",
    "21. **Departure delay in minutes**\n",
    "22. **Arrival delay in minutes**\n",
    "\n",
    "This data set contains a survey on <b>air passenger satisfaction</b>. The following <b>classification problem</b> is set:\n",
    "\n",
    "It is necessary to predict which of the <b>two</b> levels of satisfaction with the airline the passenger belongs to:\n",
    "<ol>\n",
    "    <li><em>Satisfaction</em></li>\n",
    "    <li><em>Neutral or dissatisfied</em></li>\n",
    "</ol>"
   ]
  },
  {
   "cell_type": "markdown",
   "id": "efb3c4f6",
   "metadata": {
    "papermill": {
     "duration": 0.066095,
     "end_time": "2022-08-24T08:21:13.419704",
     "exception": false,
     "start_time": "2022-08-24T08:21:13.353609",
     "status": "completed"
    },
    "tags": []
   },
   "source": [
    "<div style=\"border-width:1; border-radius: 15px; border-style: solid; border-color: rgb(10, 10, 10); background-color: #52ab98; text-align: center;font: 14pt 'Candara';font-weight:bold;\"><h1>Installation scikit-learn-intelex</h1></div>"
   ]
  },
  {
   "cell_type": "code",
   "execution_count": 1,
   "id": "cbebf33c",
   "metadata": {
    "execution": {
     "iopub.execute_input": "2022-08-24T08:21:13.559757Z",
     "iopub.status.busy": "2022-08-24T08:21:13.558449Z",
     "iopub.status.idle": "2022-08-24T08:22:00.205555Z",
     "shell.execute_reply": "2022-08-24T08:22:00.204258Z",
     "shell.execute_reply.started": "2022-08-08T09:36:42.093313Z"
    },
    "papermill": {
     "duration": 46.716973,
     "end_time": "2022-08-24T08:22:00.205893",
     "exception": false,
     "start_time": "2022-08-24T08:21:13.488920",
     "status": "completed"
    },
    "tags": []
   },
   "outputs": [
    {
     "name": "stdout",
     "output_type": "stream",
     "text": [
      "Collecting scikit-learn-intelex\r\n",
      "  Downloading scikit_learn_intelex-2021.6.3-py37-none-manylinux1_x86_64.whl (87 kB)\r\n",
      "     |████████████████████████████████| 87 kB 890 kB/s            \r\n",
      "\u001b[?25hRequirement already satisfied: scikit-learn>=0.22 in /opt/conda/lib/python3.7/site-packages (from scikit-learn-intelex) (0.23.2)\r\n",
      "Collecting daal4py==2021.6.3\r\n",
      "  Downloading daal4py-2021.6.3-py37-none-manylinux1_x86_64.whl (26.0 MB)\r\n",
      "     |████████████████████████████████| 26.0 MB 3.9 MB/s            \r\n",
      "\u001b[?25hRequirement already satisfied: numpy>=1.15 in /opt/conda/lib/python3.7/site-packages (from daal4py==2021.6.3->scikit-learn-intelex) (1.20.3)\r\n",
      "Collecting daal==2021.6.0\r\n",
      "  Downloading daal-2021.6.0-py2.py3-none-manylinux1_x86_64.whl (300.3 MB)\r\n",
      "     |████████████████████████████████| 300.3 MB 14 kB/s              \r\n",
      "\u001b[?25hCollecting tbb==2021.*\r\n",
      "  Downloading tbb-2021.6.0-py2.py3-none-manylinux1_x86_64.whl (4.0 MB)\r\n",
      "     |████████████████████████████████| 4.0 MB 32.6 MB/s            \r\n",
      "\u001b[?25hRequirement already satisfied: threadpoolctl>=2.0.0 in /opt/conda/lib/python3.7/site-packages (from scikit-learn>=0.22->scikit-learn-intelex) (3.0.0)\r\n",
      "Requirement already satisfied: joblib>=0.11 in /opt/conda/lib/python3.7/site-packages (from scikit-learn>=0.22->scikit-learn-intelex) (1.1.0)\r\n",
      "Requirement already satisfied: scipy>=0.19.1 in /opt/conda/lib/python3.7/site-packages (from scikit-learn>=0.22->scikit-learn-intelex) (1.7.3)\r\n",
      "Installing collected packages: tbb, daal, daal4py, scikit-learn-intelex\r\n",
      "Successfully installed daal-2021.6.0 daal4py-2021.6.3 scikit-learn-intelex-2021.6.3 tbb-2021.6.0\r\n",
      "\u001b[33mWARNING: Running pip as the 'root' user can result in broken permissions and conflicting behaviour with the system package manager. It is recommended to use a virtual environment instead: https://pip.pypa.io/warnings/venv\u001b[0m\r\n"
     ]
    }
   ],
   "source": [
    "!pip install scikit-learn-intelex"
   ]
  },
  {
   "cell_type": "code",
   "execution_count": 2,
   "id": "7118a75e",
   "metadata": {
    "execution": {
     "iopub.execute_input": "2022-08-24T08:22:00.637571Z",
     "iopub.status.busy": "2022-08-24T08:22:00.636392Z",
     "iopub.status.idle": "2022-08-24T08:22:02.524279Z",
     "shell.execute_reply": "2022-08-24T08:22:02.524848Z",
     "shell.execute_reply.started": "2022-08-08T09:37:49.961960Z"
    },
    "papermill": {
     "duration": 2.105465,
     "end_time": "2022-08-24T08:22:02.525129",
     "exception": false,
     "start_time": "2022-08-24T08:22:00.419664",
     "status": "completed"
    },
    "tags": []
   },
   "outputs": [
    {
     "name": "stderr",
     "output_type": "stream",
     "text": [
      "Intel(R) Extension for Scikit-learn* enabled (https://github.com/intel/scikit-learn-intelex)\n"
     ]
    }
   ],
   "source": [
    "from sklearnex import patch_sklearn\n",
    "patch_sklearn()"
   ]
  },
  {
   "cell_type": "markdown",
   "id": "095d4d20",
   "metadata": {
    "papermill": {
     "duration": 0.202895,
     "end_time": "2022-08-24T08:22:02.933675",
     "exception": false,
     "start_time": "2022-08-24T08:22:02.730780",
     "status": "completed"
    },
    "tags": []
   },
   "source": [
    "<div style=\"border-width:1; border-radius: 15px; border-style: solid; border-color: rgb(10, 10, 10); background-color: #52ab98; text-align: center;font: 14pt 'Candara';font-weight:bold;\"><h1>Reading data</h1></div>"
   ]
  },
  {
   "cell_type": "code",
   "execution_count": 3,
   "id": "7313ee3f",
   "metadata": {
    "execution": {
     "iopub.execute_input": "2022-08-24T08:22:03.353878Z",
     "iopub.status.busy": "2022-08-24T08:22:03.352916Z",
     "iopub.status.idle": "2022-08-24T08:22:03.520854Z",
     "shell.execute_reply": "2022-08-24T08:22:03.521514Z",
     "shell.execute_reply.started": "2022-08-08T09:38:03.752585Z"
    },
    "papermill": {
     "duration": 0.381542,
     "end_time": "2022-08-24T08:22:03.521744",
     "exception": false,
     "start_time": "2022-08-24T08:22:03.140202",
     "status": "completed"
    },
    "tags": []
   },
   "outputs": [],
   "source": [
    "import numpy as np\n",
    "import matplotlib.pyplot as plt\n",
    "import pandas as pd\n",
    "import seaborn as sns\n",
    "import sklearn\n",
    "from sklearn.neighbors import KNeighborsClassifier\n",
    "from sklearn.model_selection import GridSearchCV\n",
    "from sklearn.svm import SVC\n",
    "from sklearn import ensemble\n",
    "from sklearn.neural_network import MLPClassifier\n",
    "from sklearn.metrics import accuracy_score\n",
    "import warnings\n",
    "warnings.filterwarnings(\"ignore\")\n",
    "%matplotlib inline"
   ]
  },
  {
   "cell_type": "code",
   "execution_count": 4,
   "id": "23272bd5",
   "metadata": {
    "execution": {
     "iopub.execute_input": "2022-08-24T08:22:03.939401Z",
     "iopub.status.busy": "2022-08-24T08:22:03.935113Z",
     "iopub.status.idle": "2022-08-24T08:22:04.454255Z",
     "shell.execute_reply": "2022-08-24T08:22:04.453508Z",
     "shell.execute_reply.started": "2022-08-08T09:38:04.468753Z"
    },
    "papermill": {
     "duration": 0.728661,
     "end_time": "2022-08-24T08:22:04.454448",
     "exception": false,
     "start_time": "2022-08-24T08:22:03.725787",
     "status": "completed"
    },
    "tags": []
   },
   "outputs": [],
   "source": [
    "data = pd.read_csv(\"/kaggle/input/airline-passenger-satisfaction/train.csv\")"
   ]
  },
  {
   "cell_type": "markdown",
   "id": "26cebc47",
   "metadata": {
    "papermill": {
     "duration": 0.230348,
     "end_time": "2022-08-24T08:22:04.891773",
     "exception": false,
     "start_time": "2022-08-24T08:22:04.661425",
     "status": "completed"
    },
    "tags": []
   },
   "source": [
    "Table dimensions:"
   ]
  },
  {
   "cell_type": "code",
   "execution_count": 5,
   "id": "aa502790",
   "metadata": {
    "execution": {
     "iopub.execute_input": "2022-08-24T08:22:05.356278Z",
     "iopub.status.busy": "2022-08-24T08:22:05.355445Z",
     "iopub.status.idle": "2022-08-24T08:22:05.359621Z",
     "shell.execute_reply": "2022-08-24T08:22:05.360147Z",
     "shell.execute_reply.started": "2022-08-08T09:38:06.201554Z"
    },
    "papermill": {
     "duration": 0.220131,
     "end_time": "2022-08-24T08:22:05.360356",
     "exception": false,
     "start_time": "2022-08-24T08:22:05.140225",
     "status": "completed"
    },
    "tags": []
   },
   "outputs": [
    {
     "data": {
      "text/plain": [
       "(103904, 25)"
      ]
     },
     "execution_count": 5,
     "metadata": {},
     "output_type": "execute_result"
    }
   ],
   "source": [
    "data.shape"
   ]
  },
  {
   "cell_type": "markdown",
   "id": "45271c49",
   "metadata": {
    "papermill": {
     "duration": 0.204029,
     "end_time": "2022-08-24T08:22:05.768237",
     "exception": false,
     "start_time": "2022-08-24T08:22:05.564208",
     "status": "completed"
    },
    "tags": []
   },
   "source": [
    "Each row corresponds to one passenger, and each column to a specific feature.<br>\n",
    "Let's look at the first and last rows of the data set:"
   ]
  },
  {
   "cell_type": "code",
   "execution_count": 6,
   "id": "e8e898e4",
   "metadata": {
    "execution": {
     "iopub.execute_input": "2022-08-24T08:22:06.188038Z",
     "iopub.status.busy": "2022-08-24T08:22:06.187285Z",
     "iopub.status.idle": "2022-08-24T08:22:06.231475Z",
     "shell.execute_reply": "2022-08-24T08:22:06.230815Z",
     "shell.execute_reply.started": "2022-08-08T09:38:07.612707Z"
    },
    "papermill": {
     "duration": 0.254441,
     "end_time": "2022-08-24T08:22:06.231656",
     "exception": false,
     "start_time": "2022-08-24T08:22:05.977215",
     "status": "completed"
    },
    "tags": []
   },
   "outputs": [
    {
     "data": {
      "text/html": [
       "<div>\n",
       "<style scoped>\n",
       "    .dataframe tbody tr th:only-of-type {\n",
       "        vertical-align: middle;\n",
       "    }\n",
       "\n",
       "    .dataframe tbody tr th {\n",
       "        vertical-align: top;\n",
       "    }\n",
       "\n",
       "    .dataframe thead th {\n",
       "        text-align: right;\n",
       "    }\n",
       "</style>\n",
       "<table border=\"1\" class=\"dataframe\">\n",
       "  <thead>\n",
       "    <tr style=\"text-align: right;\">\n",
       "      <th></th>\n",
       "      <th>Unnamed: 0</th>\n",
       "      <th>id</th>\n",
       "      <th>Gender</th>\n",
       "      <th>Customer Type</th>\n",
       "      <th>Age</th>\n",
       "      <th>Type of Travel</th>\n",
       "      <th>Class</th>\n",
       "      <th>Flight Distance</th>\n",
       "      <th>Inflight wifi service</th>\n",
       "      <th>Departure/Arrival time convenient</th>\n",
       "      <th>...</th>\n",
       "      <th>Inflight entertainment</th>\n",
       "      <th>On-board service</th>\n",
       "      <th>Leg room service</th>\n",
       "      <th>Baggage handling</th>\n",
       "      <th>Checkin service</th>\n",
       "      <th>Inflight service</th>\n",
       "      <th>Cleanliness</th>\n",
       "      <th>Departure Delay in Minutes</th>\n",
       "      <th>Arrival Delay in Minutes</th>\n",
       "      <th>satisfaction</th>\n",
       "    </tr>\n",
       "  </thead>\n",
       "  <tbody>\n",
       "    <tr>\n",
       "      <th>0</th>\n",
       "      <td>0</td>\n",
       "      <td>70172</td>\n",
       "      <td>Male</td>\n",
       "      <td>Loyal Customer</td>\n",
       "      <td>13</td>\n",
       "      <td>Personal Travel</td>\n",
       "      <td>Eco Plus</td>\n",
       "      <td>460</td>\n",
       "      <td>3</td>\n",
       "      <td>4</td>\n",
       "      <td>...</td>\n",
       "      <td>5</td>\n",
       "      <td>4</td>\n",
       "      <td>3</td>\n",
       "      <td>4</td>\n",
       "      <td>4</td>\n",
       "      <td>5</td>\n",
       "      <td>5</td>\n",
       "      <td>25</td>\n",
       "      <td>18.0</td>\n",
       "      <td>neutral or dissatisfied</td>\n",
       "    </tr>\n",
       "    <tr>\n",
       "      <th>1</th>\n",
       "      <td>1</td>\n",
       "      <td>5047</td>\n",
       "      <td>Male</td>\n",
       "      <td>disloyal Customer</td>\n",
       "      <td>25</td>\n",
       "      <td>Business travel</td>\n",
       "      <td>Business</td>\n",
       "      <td>235</td>\n",
       "      <td>3</td>\n",
       "      <td>2</td>\n",
       "      <td>...</td>\n",
       "      <td>1</td>\n",
       "      <td>1</td>\n",
       "      <td>5</td>\n",
       "      <td>3</td>\n",
       "      <td>1</td>\n",
       "      <td>4</td>\n",
       "      <td>1</td>\n",
       "      <td>1</td>\n",
       "      <td>6.0</td>\n",
       "      <td>neutral or dissatisfied</td>\n",
       "    </tr>\n",
       "    <tr>\n",
       "      <th>2</th>\n",
       "      <td>2</td>\n",
       "      <td>110028</td>\n",
       "      <td>Female</td>\n",
       "      <td>Loyal Customer</td>\n",
       "      <td>26</td>\n",
       "      <td>Business travel</td>\n",
       "      <td>Business</td>\n",
       "      <td>1142</td>\n",
       "      <td>2</td>\n",
       "      <td>2</td>\n",
       "      <td>...</td>\n",
       "      <td>5</td>\n",
       "      <td>4</td>\n",
       "      <td>3</td>\n",
       "      <td>4</td>\n",
       "      <td>4</td>\n",
       "      <td>4</td>\n",
       "      <td>5</td>\n",
       "      <td>0</td>\n",
       "      <td>0.0</td>\n",
       "      <td>satisfied</td>\n",
       "    </tr>\n",
       "    <tr>\n",
       "      <th>3</th>\n",
       "      <td>3</td>\n",
       "      <td>24026</td>\n",
       "      <td>Female</td>\n",
       "      <td>Loyal Customer</td>\n",
       "      <td>25</td>\n",
       "      <td>Business travel</td>\n",
       "      <td>Business</td>\n",
       "      <td>562</td>\n",
       "      <td>2</td>\n",
       "      <td>5</td>\n",
       "      <td>...</td>\n",
       "      <td>2</td>\n",
       "      <td>2</td>\n",
       "      <td>5</td>\n",
       "      <td>3</td>\n",
       "      <td>1</td>\n",
       "      <td>4</td>\n",
       "      <td>2</td>\n",
       "      <td>11</td>\n",
       "      <td>9.0</td>\n",
       "      <td>neutral or dissatisfied</td>\n",
       "    </tr>\n",
       "    <tr>\n",
       "      <th>4</th>\n",
       "      <td>4</td>\n",
       "      <td>119299</td>\n",
       "      <td>Male</td>\n",
       "      <td>Loyal Customer</td>\n",
       "      <td>61</td>\n",
       "      <td>Business travel</td>\n",
       "      <td>Business</td>\n",
       "      <td>214</td>\n",
       "      <td>3</td>\n",
       "      <td>3</td>\n",
       "      <td>...</td>\n",
       "      <td>3</td>\n",
       "      <td>3</td>\n",
       "      <td>4</td>\n",
       "      <td>4</td>\n",
       "      <td>3</td>\n",
       "      <td>3</td>\n",
       "      <td>3</td>\n",
       "      <td>0</td>\n",
       "      <td>0.0</td>\n",
       "      <td>satisfied</td>\n",
       "    </tr>\n",
       "  </tbody>\n",
       "</table>\n",
       "<p>5 rows × 25 columns</p>\n",
       "</div>"
      ],
      "text/plain": [
       "   Unnamed: 0      id  Gender      Customer Type  Age   Type of Travel  \\\n",
       "0           0   70172    Male     Loyal Customer   13  Personal Travel   \n",
       "1           1    5047    Male  disloyal Customer   25  Business travel   \n",
       "2           2  110028  Female     Loyal Customer   26  Business travel   \n",
       "3           3   24026  Female     Loyal Customer   25  Business travel   \n",
       "4           4  119299    Male     Loyal Customer   61  Business travel   \n",
       "\n",
       "      Class  Flight Distance  Inflight wifi service  \\\n",
       "0  Eco Plus              460                      3   \n",
       "1  Business              235                      3   \n",
       "2  Business             1142                      2   \n",
       "3  Business              562                      2   \n",
       "4  Business              214                      3   \n",
       "\n",
       "   Departure/Arrival time convenient  ...  Inflight entertainment  \\\n",
       "0                                  4  ...                       5   \n",
       "1                                  2  ...                       1   \n",
       "2                                  2  ...                       5   \n",
       "3                                  5  ...                       2   \n",
       "4                                  3  ...                       3   \n",
       "\n",
       "   On-board service  Leg room service  Baggage handling  Checkin service  \\\n",
       "0                 4                 3                 4                4   \n",
       "1                 1                 5                 3                1   \n",
       "2                 4                 3                 4                4   \n",
       "3                 2                 5                 3                1   \n",
       "4                 3                 4                 4                3   \n",
       "\n",
       "   Inflight service  Cleanliness  Departure Delay in Minutes  \\\n",
       "0                 5            5                          25   \n",
       "1                 4            1                           1   \n",
       "2                 4            5                           0   \n",
       "3                 4            2                          11   \n",
       "4                 3            3                           0   \n",
       "\n",
       "   Arrival Delay in Minutes             satisfaction  \n",
       "0                      18.0  neutral or dissatisfied  \n",
       "1                       6.0  neutral or dissatisfied  \n",
       "2                       0.0                satisfied  \n",
       "3                       9.0  neutral or dissatisfied  \n",
       "4                       0.0                satisfied  \n",
       "\n",
       "[5 rows x 25 columns]"
      ]
     },
     "execution_count": 6,
     "metadata": {},
     "output_type": "execute_result"
    }
   ],
   "source": [
    "data.head()"
   ]
  },
  {
   "cell_type": "code",
   "execution_count": 7,
   "id": "6f10f6d2",
   "metadata": {
    "execution": {
     "iopub.execute_input": "2022-08-24T08:22:06.673716Z",
     "iopub.status.busy": "2022-08-24T08:22:06.672898Z",
     "iopub.status.idle": "2022-08-24T08:22:06.677718Z",
     "shell.execute_reply": "2022-08-24T08:22:06.677126Z",
     "shell.execute_reply.started": "2022-08-08T09:38:08.084424Z"
    },
    "papermill": {
     "duration": 0.235183,
     "end_time": "2022-08-24T08:22:06.677929",
     "exception": false,
     "start_time": "2022-08-24T08:22:06.442746",
     "status": "completed"
    },
    "tags": []
   },
   "outputs": [
    {
     "data": {
      "text/html": [
       "<div>\n",
       "<style scoped>\n",
       "    .dataframe tbody tr th:only-of-type {\n",
       "        vertical-align: middle;\n",
       "    }\n",
       "\n",
       "    .dataframe tbody tr th {\n",
       "        vertical-align: top;\n",
       "    }\n",
       "\n",
       "    .dataframe thead th {\n",
       "        text-align: right;\n",
       "    }\n",
       "</style>\n",
       "<table border=\"1\" class=\"dataframe\">\n",
       "  <thead>\n",
       "    <tr style=\"text-align: right;\">\n",
       "      <th></th>\n",
       "      <th>Unnamed: 0</th>\n",
       "      <th>id</th>\n",
       "      <th>Gender</th>\n",
       "      <th>Customer Type</th>\n",
       "      <th>Age</th>\n",
       "      <th>Type of Travel</th>\n",
       "      <th>Class</th>\n",
       "      <th>Flight Distance</th>\n",
       "      <th>Inflight wifi service</th>\n",
       "      <th>Departure/Arrival time convenient</th>\n",
       "      <th>...</th>\n",
       "      <th>Inflight entertainment</th>\n",
       "      <th>On-board service</th>\n",
       "      <th>Leg room service</th>\n",
       "      <th>Baggage handling</th>\n",
       "      <th>Checkin service</th>\n",
       "      <th>Inflight service</th>\n",
       "      <th>Cleanliness</th>\n",
       "      <th>Departure Delay in Minutes</th>\n",
       "      <th>Arrival Delay in Minutes</th>\n",
       "      <th>satisfaction</th>\n",
       "    </tr>\n",
       "  </thead>\n",
       "  <tbody>\n",
       "    <tr>\n",
       "      <th>103899</th>\n",
       "      <td>103899</td>\n",
       "      <td>94171</td>\n",
       "      <td>Female</td>\n",
       "      <td>disloyal Customer</td>\n",
       "      <td>23</td>\n",
       "      <td>Business travel</td>\n",
       "      <td>Eco</td>\n",
       "      <td>192</td>\n",
       "      <td>2</td>\n",
       "      <td>1</td>\n",
       "      <td>...</td>\n",
       "      <td>2</td>\n",
       "      <td>3</td>\n",
       "      <td>1</td>\n",
       "      <td>4</td>\n",
       "      <td>2</td>\n",
       "      <td>3</td>\n",
       "      <td>2</td>\n",
       "      <td>3</td>\n",
       "      <td>0.0</td>\n",
       "      <td>neutral or dissatisfied</td>\n",
       "    </tr>\n",
       "    <tr>\n",
       "      <th>103900</th>\n",
       "      <td>103900</td>\n",
       "      <td>73097</td>\n",
       "      <td>Male</td>\n",
       "      <td>Loyal Customer</td>\n",
       "      <td>49</td>\n",
       "      <td>Business travel</td>\n",
       "      <td>Business</td>\n",
       "      <td>2347</td>\n",
       "      <td>4</td>\n",
       "      <td>4</td>\n",
       "      <td>...</td>\n",
       "      <td>5</td>\n",
       "      <td>5</td>\n",
       "      <td>5</td>\n",
       "      <td>5</td>\n",
       "      <td>5</td>\n",
       "      <td>5</td>\n",
       "      <td>4</td>\n",
       "      <td>0</td>\n",
       "      <td>0.0</td>\n",
       "      <td>satisfied</td>\n",
       "    </tr>\n",
       "    <tr>\n",
       "      <th>103901</th>\n",
       "      <td>103901</td>\n",
       "      <td>68825</td>\n",
       "      <td>Male</td>\n",
       "      <td>disloyal Customer</td>\n",
       "      <td>30</td>\n",
       "      <td>Business travel</td>\n",
       "      <td>Business</td>\n",
       "      <td>1995</td>\n",
       "      <td>1</td>\n",
       "      <td>1</td>\n",
       "      <td>...</td>\n",
       "      <td>4</td>\n",
       "      <td>3</td>\n",
       "      <td>2</td>\n",
       "      <td>4</td>\n",
       "      <td>5</td>\n",
       "      <td>5</td>\n",
       "      <td>4</td>\n",
       "      <td>7</td>\n",
       "      <td>14.0</td>\n",
       "      <td>neutral or dissatisfied</td>\n",
       "    </tr>\n",
       "    <tr>\n",
       "      <th>103902</th>\n",
       "      <td>103902</td>\n",
       "      <td>54173</td>\n",
       "      <td>Female</td>\n",
       "      <td>disloyal Customer</td>\n",
       "      <td>22</td>\n",
       "      <td>Business travel</td>\n",
       "      <td>Eco</td>\n",
       "      <td>1000</td>\n",
       "      <td>1</td>\n",
       "      <td>1</td>\n",
       "      <td>...</td>\n",
       "      <td>1</td>\n",
       "      <td>4</td>\n",
       "      <td>5</td>\n",
       "      <td>1</td>\n",
       "      <td>5</td>\n",
       "      <td>4</td>\n",
       "      <td>1</td>\n",
       "      <td>0</td>\n",
       "      <td>0.0</td>\n",
       "      <td>neutral or dissatisfied</td>\n",
       "    </tr>\n",
       "    <tr>\n",
       "      <th>103903</th>\n",
       "      <td>103903</td>\n",
       "      <td>62567</td>\n",
       "      <td>Male</td>\n",
       "      <td>Loyal Customer</td>\n",
       "      <td>27</td>\n",
       "      <td>Business travel</td>\n",
       "      <td>Business</td>\n",
       "      <td>1723</td>\n",
       "      <td>1</td>\n",
       "      <td>3</td>\n",
       "      <td>...</td>\n",
       "      <td>1</td>\n",
       "      <td>1</td>\n",
       "      <td>1</td>\n",
       "      <td>4</td>\n",
       "      <td>4</td>\n",
       "      <td>3</td>\n",
       "      <td>1</td>\n",
       "      <td>0</td>\n",
       "      <td>0.0</td>\n",
       "      <td>neutral or dissatisfied</td>\n",
       "    </tr>\n",
       "  </tbody>\n",
       "</table>\n",
       "<p>5 rows × 25 columns</p>\n",
       "</div>"
      ],
      "text/plain": [
       "        Unnamed: 0     id  Gender      Customer Type  Age   Type of Travel  \\\n",
       "103899      103899  94171  Female  disloyal Customer   23  Business travel   \n",
       "103900      103900  73097    Male     Loyal Customer   49  Business travel   \n",
       "103901      103901  68825    Male  disloyal Customer   30  Business travel   \n",
       "103902      103902  54173  Female  disloyal Customer   22  Business travel   \n",
       "103903      103903  62567    Male     Loyal Customer   27  Business travel   \n",
       "\n",
       "           Class  Flight Distance  Inflight wifi service  \\\n",
       "103899       Eco              192                      2   \n",
       "103900  Business             2347                      4   \n",
       "103901  Business             1995                      1   \n",
       "103902       Eco             1000                      1   \n",
       "103903  Business             1723                      1   \n",
       "\n",
       "        Departure/Arrival time convenient  ...  Inflight entertainment  \\\n",
       "103899                                  1  ...                       2   \n",
       "103900                                  4  ...                       5   \n",
       "103901                                  1  ...                       4   \n",
       "103902                                  1  ...                       1   \n",
       "103903                                  3  ...                       1   \n",
       "\n",
       "        On-board service  Leg room service  Baggage handling  Checkin service  \\\n",
       "103899                 3                 1                 4                2   \n",
       "103900                 5                 5                 5                5   \n",
       "103901                 3                 2                 4                5   \n",
       "103902                 4                 5                 1                5   \n",
       "103903                 1                 1                 4                4   \n",
       "\n",
       "        Inflight service  Cleanliness  Departure Delay in Minutes  \\\n",
       "103899                 3            2                           3   \n",
       "103900                 5            4                           0   \n",
       "103901                 5            4                           7   \n",
       "103902                 4            1                           0   \n",
       "103903                 3            1                           0   \n",
       "\n",
       "        Arrival Delay in Minutes             satisfaction  \n",
       "103899                       0.0  neutral or dissatisfied  \n",
       "103900                       0.0                satisfied  \n",
       "103901                      14.0  neutral or dissatisfied  \n",
       "103902                       0.0  neutral or dissatisfied  \n",
       "103903                       0.0  neutral or dissatisfied  \n",
       "\n",
       "[5 rows x 25 columns]"
      ]
     },
     "execution_count": 7,
     "metadata": {},
     "output_type": "execute_result"
    }
   ],
   "source": [
    "data.tail()"
   ]
  },
  {
   "cell_type": "markdown",
   "id": "28b8d498",
   "metadata": {
    "papermill": {
     "duration": 0.208786,
     "end_time": "2022-08-24T08:22:07.092151",
     "exception": false,
     "start_time": "2022-08-24T08:22:06.883365",
     "status": "completed"
    },
    "tags": []
   },
   "source": [
    "Let's take a closer look at the dataset data:"
   ]
  },
  {
   "cell_type": "code",
   "execution_count": 8,
   "id": "5c03f8d5",
   "metadata": {
    "execution": {
     "iopub.execute_input": "2022-08-24T08:22:07.516859Z",
     "iopub.status.busy": "2022-08-24T08:22:07.515880Z",
     "iopub.status.idle": "2022-08-24T08:22:07.571057Z",
     "shell.execute_reply": "2022-08-24T08:22:07.571588Z",
     "shell.execute_reply.started": "2022-08-08T09:38:09.026711Z"
    },
    "papermill": {
     "duration": 0.272075,
     "end_time": "2022-08-24T08:22:07.571828",
     "exception": false,
     "start_time": "2022-08-24T08:22:07.299753",
     "status": "completed"
    },
    "tags": []
   },
   "outputs": [
    {
     "name": "stdout",
     "output_type": "stream",
     "text": [
      "<class 'pandas.core.frame.DataFrame'>\n",
      "RangeIndex: 103904 entries, 0 to 103903\n",
      "Data columns (total 25 columns):\n",
      " #   Column                             Non-Null Count   Dtype  \n",
      "---  ------                             --------------   -----  \n",
      " 0   Unnamed: 0                         103904 non-null  int64  \n",
      " 1   id                                 103904 non-null  int64  \n",
      " 2   Gender                             103904 non-null  object \n",
      " 3   Customer Type                      103904 non-null  object \n",
      " 4   Age                                103904 non-null  int64  \n",
      " 5   Type of Travel                     103904 non-null  object \n",
      " 6   Class                              103904 non-null  object \n",
      " 7   Flight Distance                    103904 non-null  int64  \n",
      " 8   Inflight wifi service              103904 non-null  int64  \n",
      " 9   Departure/Arrival time convenient  103904 non-null  int64  \n",
      " 10  Ease of Online booking             103904 non-null  int64  \n",
      " 11  Gate location                      103904 non-null  int64  \n",
      " 12  Food and drink                     103904 non-null  int64  \n",
      " 13  Online boarding                    103904 non-null  int64  \n",
      " 14  Seat comfort                       103904 non-null  int64  \n",
      " 15  Inflight entertainment             103904 non-null  int64  \n",
      " 16  On-board service                   103904 non-null  int64  \n",
      " 17  Leg room service                   103904 non-null  int64  \n",
      " 18  Baggage handling                   103904 non-null  int64  \n",
      " 19  Checkin service                    103904 non-null  int64  \n",
      " 20  Inflight service                   103904 non-null  int64  \n",
      " 21  Cleanliness                        103904 non-null  int64  \n",
      " 22  Departure Delay in Minutes         103904 non-null  int64  \n",
      " 23  Arrival Delay in Minutes           103594 non-null  float64\n",
      " 24  satisfaction                       103904 non-null  object \n",
      "dtypes: float64(1), int64(19), object(5)\n",
      "memory usage: 19.8+ MB\n"
     ]
    }
   ],
   "source": [
    "data.info()"
   ]
  },
  {
   "cell_type": "markdown",
   "id": "fbf62e8e",
   "metadata": {
    "papermill": {
     "duration": 0.259496,
     "end_time": "2022-08-24T08:22:08.037453",
     "exception": false,
     "start_time": "2022-08-24T08:22:07.777957",
     "status": "completed"
    },
    "tags": []
   },
   "source": [
    "You may notice the following:\n",
    "<ol>\n",
    "     <li><b>The column</b> corresponding to the <b>Arrival Delay in Minutes feature has 310 missing values</b>.</li>\n",
    "     <li><b>The first two features are useless and will not affect the classification</b>, so you should get rid of them.</li>\n",
    "     <li><b>Many columns contain categorical values</b> but are of type 'object' or 'int64'. Let's replace this type with a special one designed for storing categorical values.</li>\n",
    "</ol>"
   ]
  },
  {
   "cell_type": "code",
   "execution_count": 9,
   "id": "ee203335",
   "metadata": {
    "execution": {
     "iopub.execute_input": "2022-08-24T08:22:08.595077Z",
     "iopub.status.busy": "2022-08-24T08:22:08.593981Z",
     "iopub.status.idle": "2022-08-24T08:22:08.616876Z",
     "shell.execute_reply": "2022-08-24T08:22:08.615834Z",
     "shell.execute_reply.started": "2022-08-08T09:38:09.904706Z"
    },
    "papermill": {
     "duration": 0.302266,
     "end_time": "2022-08-24T08:22:08.617183",
     "exception": false,
     "start_time": "2022-08-24T08:22:08.314917",
     "status": "completed"
    },
    "tags": []
   },
   "outputs": [],
   "source": [
    "data = data.drop(data.iloc[:,[0, 1]], axis = 1)"
   ]
  },
  {
   "cell_type": "code",
   "execution_count": 10,
   "id": "dcc128a0",
   "metadata": {
    "execution": {
     "iopub.execute_input": "2022-08-24T08:22:09.142285Z",
     "iopub.status.busy": "2022-08-24T08:22:09.137789Z",
     "iopub.status.idle": "2022-08-24T08:22:09.319171Z",
     "shell.execute_reply": "2022-08-24T08:22:09.318550Z",
     "shell.execute_reply.started": "2022-08-08T09:38:11.724186Z"
    },
    "papermill": {
     "duration": 0.469163,
     "end_time": "2022-08-24T08:22:09.319381",
     "exception": false,
     "start_time": "2022-08-24T08:22:08.850218",
     "status": "completed"
    },
    "tags": []
   },
   "outputs": [],
   "source": [
    "categorical_indexes = [0, 1, 3, 4] + list(range(6, 20))\n",
    "data.iloc[:,categorical_indexes] = data.iloc[:,categorical_indexes].astype('category')"
   ]
  },
  {
   "cell_type": "markdown",
   "id": "a6e7384f",
   "metadata": {
    "papermill": {
     "duration": 0.216836,
     "end_time": "2022-08-24T08:22:09.761381",
     "exception": false,
     "start_time": "2022-08-24T08:22:09.544545",
     "status": "completed"
    },
    "tags": []
   },
   "source": [
    "Now the dataset information looks like this:"
   ]
  },
  {
   "cell_type": "code",
   "execution_count": 11,
   "id": "16bfdb94",
   "metadata": {
    "execution": {
     "iopub.execute_input": "2022-08-24T08:22:10.310383Z",
     "iopub.status.busy": "2022-08-24T08:22:10.309549Z",
     "iopub.status.idle": "2022-08-24T08:22:10.340272Z",
     "shell.execute_reply": "2022-08-24T08:22:10.340829Z",
     "shell.execute_reply.started": "2022-08-08T09:38:13.111176Z"
    },
    "papermill": {
     "duration": 0.274967,
     "end_time": "2022-08-24T08:22:10.341078",
     "exception": false,
     "start_time": "2022-08-24T08:22:10.066111",
     "status": "completed"
    },
    "tags": []
   },
   "outputs": [
    {
     "name": "stdout",
     "output_type": "stream",
     "text": [
      "<class 'pandas.core.frame.DataFrame'>\n",
      "RangeIndex: 103904 entries, 0 to 103903\n",
      "Data columns (total 23 columns):\n",
      " #   Column                             Non-Null Count   Dtype   \n",
      "---  ------                             --------------   -----   \n",
      " 0   Gender                             103904 non-null  category\n",
      " 1   Customer Type                      103904 non-null  category\n",
      " 2   Age                                103904 non-null  int64   \n",
      " 3   Type of Travel                     103904 non-null  category\n",
      " 4   Class                              103904 non-null  category\n",
      " 5   Flight Distance                    103904 non-null  int64   \n",
      " 6   Inflight wifi service              103904 non-null  category\n",
      " 7   Departure/Arrival time convenient  103904 non-null  category\n",
      " 8   Ease of Online booking             103904 non-null  category\n",
      " 9   Gate location                      103904 non-null  category\n",
      " 10  Food and drink                     103904 non-null  category\n",
      " 11  Online boarding                    103904 non-null  category\n",
      " 12  Seat comfort                       103904 non-null  category\n",
      " 13  Inflight entertainment             103904 non-null  category\n",
      " 14  On-board service                   103904 non-null  category\n",
      " 15  Leg room service                   103904 non-null  category\n",
      " 16  Baggage handling                   103904 non-null  category\n",
      " 17  Checkin service                    103904 non-null  category\n",
      " 18  Inflight service                   103904 non-null  category\n",
      " 19  Cleanliness                        103904 non-null  category\n",
      " 20  Departure Delay in Minutes         103904 non-null  int64   \n",
      " 21  Arrival Delay in Minutes           103594 non-null  float64 \n",
      " 22  satisfaction                       103904 non-null  object  \n",
      "dtypes: category(18), float64(1), int64(3), object(1)\n",
      "memory usage: 5.8+ MB\n"
     ]
    }
   ],
   "source": [
    "data.info()"
   ]
  },
  {
   "cell_type": "markdown",
   "id": "dbf7fee7",
   "metadata": {
    "papermill": {
     "duration": 0.217424,
     "end_time": "2022-08-24T08:22:10.776744",
     "exception": false,
     "start_time": "2022-08-24T08:22:10.559320",
     "status": "completed"
    },
    "tags": []
   },
   "source": [
    "The first 22 features have been detailed above. The <b>satisfaction</b> feature is the target."
   ]
  },
  {
   "cell_type": "markdown",
   "id": "b228f912",
   "metadata": {
    "papermill": {
     "duration": 0.20455,
     "end_time": "2022-08-24T08:22:11.197340",
     "exception": false,
     "start_time": "2022-08-24T08:22:10.992790",
     "status": "completed"
    },
    "tags": []
   },
   "source": [
    "<div style=\"border-width:1; border-radius: 15px; border-style: solid; border-color: rgb(10, 10, 10); background-color: #52ab98; text-align: center;font: 14pt 'Candara';font-weight:bold;\"><h1>Data visualization and calculation of the main characteristics</h1></div>"
   ]
  },
  {
   "cell_type": "markdown",
   "id": "b0e8cd3e",
   "metadata": {
    "papermill": {
     "duration": 0.204233,
     "end_time": "2022-08-24T08:22:11.606739",
     "exception": false,
     "start_time": "2022-08-24T08:22:11.402506",
     "status": "completed"
    },
    "tags": []
   },
   "source": [
    "Get summary information about quantitative features by calling the \"describe\" method with default parameters:"
   ]
  },
  {
   "cell_type": "code",
   "execution_count": 12,
   "id": "b62c35d4",
   "metadata": {
    "execution": {
     "iopub.execute_input": "2022-08-24T08:22:12.021455Z",
     "iopub.status.busy": "2022-08-24T08:22:12.020271Z",
     "iopub.status.idle": "2022-08-24T08:22:12.070159Z",
     "shell.execute_reply": "2022-08-24T08:22:12.070706Z",
     "shell.execute_reply.started": "2022-08-08T09:38:15.054792Z"
    },
    "papermill": {
     "duration": 0.260217,
     "end_time": "2022-08-24T08:22:12.070928",
     "exception": false,
     "start_time": "2022-08-24T08:22:11.810711",
     "status": "completed"
    },
    "tags": []
   },
   "outputs": [
    {
     "data": {
      "text/html": [
       "<div>\n",
       "<style scoped>\n",
       "    .dataframe tbody tr th:only-of-type {\n",
       "        vertical-align: middle;\n",
       "    }\n",
       "\n",
       "    .dataframe tbody tr th {\n",
       "        vertical-align: top;\n",
       "    }\n",
       "\n",
       "    .dataframe thead th {\n",
       "        text-align: right;\n",
       "    }\n",
       "</style>\n",
       "<table border=\"1\" class=\"dataframe\">\n",
       "  <thead>\n",
       "    <tr style=\"text-align: right;\">\n",
       "      <th></th>\n",
       "      <th>Age</th>\n",
       "      <th>Flight Distance</th>\n",
       "      <th>Departure Delay in Minutes</th>\n",
       "      <th>Arrival Delay in Minutes</th>\n",
       "    </tr>\n",
       "  </thead>\n",
       "  <tbody>\n",
       "    <tr>\n",
       "      <th>count</th>\n",
       "      <td>103904.000000</td>\n",
       "      <td>103904.000000</td>\n",
       "      <td>103904.000000</td>\n",
       "      <td>103594.000000</td>\n",
       "    </tr>\n",
       "    <tr>\n",
       "      <th>mean</th>\n",
       "      <td>39.379706</td>\n",
       "      <td>1189.448375</td>\n",
       "      <td>14.815618</td>\n",
       "      <td>15.178678</td>\n",
       "    </tr>\n",
       "    <tr>\n",
       "      <th>std</th>\n",
       "      <td>15.114964</td>\n",
       "      <td>997.147281</td>\n",
       "      <td>38.230901</td>\n",
       "      <td>38.698682</td>\n",
       "    </tr>\n",
       "    <tr>\n",
       "      <th>min</th>\n",
       "      <td>7.000000</td>\n",
       "      <td>31.000000</td>\n",
       "      <td>0.000000</td>\n",
       "      <td>0.000000</td>\n",
       "    </tr>\n",
       "    <tr>\n",
       "      <th>25%</th>\n",
       "      <td>27.000000</td>\n",
       "      <td>414.000000</td>\n",
       "      <td>0.000000</td>\n",
       "      <td>0.000000</td>\n",
       "    </tr>\n",
       "    <tr>\n",
       "      <th>50%</th>\n",
       "      <td>40.000000</td>\n",
       "      <td>843.000000</td>\n",
       "      <td>0.000000</td>\n",
       "      <td>0.000000</td>\n",
       "    </tr>\n",
       "    <tr>\n",
       "      <th>75%</th>\n",
       "      <td>51.000000</td>\n",
       "      <td>1743.000000</td>\n",
       "      <td>12.000000</td>\n",
       "      <td>13.000000</td>\n",
       "    </tr>\n",
       "    <tr>\n",
       "      <th>max</th>\n",
       "      <td>85.000000</td>\n",
       "      <td>4983.000000</td>\n",
       "      <td>1592.000000</td>\n",
       "      <td>1584.000000</td>\n",
       "    </tr>\n",
       "  </tbody>\n",
       "</table>\n",
       "</div>"
      ],
      "text/plain": [
       "                 Age  Flight Distance  Departure Delay in Minutes  \\\n",
       "count  103904.000000    103904.000000               103904.000000   \n",
       "mean       39.379706      1189.448375                   14.815618   \n",
       "std        15.114964       997.147281                   38.230901   \n",
       "min         7.000000        31.000000                    0.000000   \n",
       "25%        27.000000       414.000000                    0.000000   \n",
       "50%        40.000000       843.000000                    0.000000   \n",
       "75%        51.000000      1743.000000                   12.000000   \n",
       "max        85.000000      4983.000000                 1592.000000   \n",
       "\n",
       "       Arrival Delay in Minutes  \n",
       "count             103594.000000  \n",
       "mean                  15.178678  \n",
       "std                   38.698682  \n",
       "min                    0.000000  \n",
       "25%                    0.000000  \n",
       "50%                    0.000000  \n",
       "75%                   13.000000  \n",
       "max                 1584.000000  "
      ]
     },
     "execution_count": 12,
     "metadata": {},
     "output_type": "execute_result"
    }
   ],
   "source": [
    "data.describe()"
   ]
  },
  {
   "cell_type": "markdown",
   "id": "afbf08cb",
   "metadata": {
    "papermill": {
     "duration": 0.203786,
     "end_time": "2022-08-24T08:22:12.481235",
     "exception": false,
     "start_time": "2022-08-24T08:22:12.277449",
     "status": "completed"
    },
    "tags": []
   },
   "source": [
    "For each quantitative attribute, mean values, standard deviation, minimum and maximum values, median and quartile values are given.\n",
    "\n",
    "Now we get information about categorical features:"
   ]
  },
  {
   "cell_type": "code",
   "execution_count": 13,
   "id": "8e5a5e7b",
   "metadata": {
    "execution": {
     "iopub.execute_input": "2022-08-24T08:22:12.902893Z",
     "iopub.status.busy": "2022-08-24T08:22:12.901737Z",
     "iopub.status.idle": "2022-08-24T08:22:12.966401Z",
     "shell.execute_reply": "2022-08-24T08:22:12.967084Z",
     "shell.execute_reply.started": "2022-08-08T09:38:16.134772Z"
    },
    "papermill": {
     "duration": 0.278712,
     "end_time": "2022-08-24T08:22:12.967303",
     "exception": false,
     "start_time": "2022-08-24T08:22:12.688591",
     "status": "completed"
    },
    "tags": []
   },
   "outputs": [
    {
     "data": {
      "text/html": [
       "<div>\n",
       "<style scoped>\n",
       "    .dataframe tbody tr th:only-of-type {\n",
       "        vertical-align: middle;\n",
       "    }\n",
       "\n",
       "    .dataframe tbody tr th {\n",
       "        vertical-align: top;\n",
       "    }\n",
       "\n",
       "    .dataframe thead th {\n",
       "        text-align: right;\n",
       "    }\n",
       "</style>\n",
       "<table border=\"1\" class=\"dataframe\">\n",
       "  <thead>\n",
       "    <tr style=\"text-align: right;\">\n",
       "      <th></th>\n",
       "      <th>Gender</th>\n",
       "      <th>Customer Type</th>\n",
       "      <th>Type of Travel</th>\n",
       "      <th>Class</th>\n",
       "      <th>Inflight wifi service</th>\n",
       "      <th>Departure/Arrival time convenient</th>\n",
       "      <th>Ease of Online booking</th>\n",
       "      <th>Gate location</th>\n",
       "      <th>Food and drink</th>\n",
       "      <th>Online boarding</th>\n",
       "      <th>Seat comfort</th>\n",
       "      <th>Inflight entertainment</th>\n",
       "      <th>On-board service</th>\n",
       "      <th>Leg room service</th>\n",
       "      <th>Baggage handling</th>\n",
       "      <th>Checkin service</th>\n",
       "      <th>Inflight service</th>\n",
       "      <th>Cleanliness</th>\n",
       "    </tr>\n",
       "  </thead>\n",
       "  <tbody>\n",
       "    <tr>\n",
       "      <th>count</th>\n",
       "      <td>103904</td>\n",
       "      <td>103904</td>\n",
       "      <td>103904</td>\n",
       "      <td>103904</td>\n",
       "      <td>103904</td>\n",
       "      <td>103904</td>\n",
       "      <td>103904</td>\n",
       "      <td>103904</td>\n",
       "      <td>103904</td>\n",
       "      <td>103904</td>\n",
       "      <td>103904</td>\n",
       "      <td>103904</td>\n",
       "      <td>103904</td>\n",
       "      <td>103904</td>\n",
       "      <td>103904</td>\n",
       "      <td>103904</td>\n",
       "      <td>103904</td>\n",
       "      <td>103904</td>\n",
       "    </tr>\n",
       "    <tr>\n",
       "      <th>unique</th>\n",
       "      <td>2</td>\n",
       "      <td>2</td>\n",
       "      <td>2</td>\n",
       "      <td>3</td>\n",
       "      <td>6</td>\n",
       "      <td>6</td>\n",
       "      <td>6</td>\n",
       "      <td>6</td>\n",
       "      <td>6</td>\n",
       "      <td>6</td>\n",
       "      <td>6</td>\n",
       "      <td>6</td>\n",
       "      <td>6</td>\n",
       "      <td>6</td>\n",
       "      <td>5</td>\n",
       "      <td>6</td>\n",
       "      <td>6</td>\n",
       "      <td>6</td>\n",
       "    </tr>\n",
       "    <tr>\n",
       "      <th>top</th>\n",
       "      <td>Female</td>\n",
       "      <td>Loyal Customer</td>\n",
       "      <td>Business travel</td>\n",
       "      <td>Business</td>\n",
       "      <td>3</td>\n",
       "      <td>4</td>\n",
       "      <td>3</td>\n",
       "      <td>3</td>\n",
       "      <td>4</td>\n",
       "      <td>4</td>\n",
       "      <td>4</td>\n",
       "      <td>4</td>\n",
       "      <td>4</td>\n",
       "      <td>4</td>\n",
       "      <td>4</td>\n",
       "      <td>4</td>\n",
       "      <td>4</td>\n",
       "      <td>4</td>\n",
       "    </tr>\n",
       "    <tr>\n",
       "      <th>freq</th>\n",
       "      <td>52727</td>\n",
       "      <td>84923</td>\n",
       "      <td>71655</td>\n",
       "      <td>49665</td>\n",
       "      <td>25868</td>\n",
       "      <td>25546</td>\n",
       "      <td>24449</td>\n",
       "      <td>28577</td>\n",
       "      <td>24359</td>\n",
       "      <td>30762</td>\n",
       "      <td>31765</td>\n",
       "      <td>29423</td>\n",
       "      <td>30867</td>\n",
       "      <td>28789</td>\n",
       "      <td>37383</td>\n",
       "      <td>29055</td>\n",
       "      <td>37945</td>\n",
       "      <td>27179</td>\n",
       "    </tr>\n",
       "  </tbody>\n",
       "</table>\n",
       "</div>"
      ],
      "text/plain": [
       "        Gender   Customer Type   Type of Travel     Class  \\\n",
       "count   103904          103904           103904    103904   \n",
       "unique       2               2                2         3   \n",
       "top     Female  Loyal Customer  Business travel  Business   \n",
       "freq     52727           84923            71655     49665   \n",
       "\n",
       "        Inflight wifi service  Departure/Arrival time convenient  \\\n",
       "count                  103904                             103904   \n",
       "unique                      6                                  6   \n",
       "top                         3                                  4   \n",
       "freq                    25868                              25546   \n",
       "\n",
       "        Ease of Online booking  Gate location  Food and drink  \\\n",
       "count                   103904         103904          103904   \n",
       "unique                       6              6               6   \n",
       "top                          3              3               4   \n",
       "freq                     24449          28577           24359   \n",
       "\n",
       "        Online boarding  Seat comfort  Inflight entertainment  \\\n",
       "count            103904        103904                  103904   \n",
       "unique                6             6                       6   \n",
       "top                   4             4                       4   \n",
       "freq              30762         31765                   29423   \n",
       "\n",
       "        On-board service  Leg room service  Baggage handling  Checkin service  \\\n",
       "count             103904            103904            103904           103904   \n",
       "unique                 6                 6                 5                6   \n",
       "top                    4                 4                 4                4   \n",
       "freq               30867             28789             37383            29055   \n",
       "\n",
       "        Inflight service  Cleanliness  \n",
       "count             103904       103904  \n",
       "unique                 6            6  \n",
       "top                    4            4  \n",
       "freq               37945        27179  "
      ]
     },
     "execution_count": 13,
     "metadata": {},
     "output_type": "execute_result"
    }
   ],
   "source": [
    "data.describe(include = ['category'])"
   ]
  },
  {
   "cell_type": "markdown",
   "id": "8448dccc",
   "metadata": {
    "papermill": {
     "duration": 0.205036,
     "end_time": "2022-08-24T08:22:13.380130",
     "exception": false,
     "start_time": "2022-08-24T08:22:13.175094",
     "status": "completed"
    },
    "tags": []
   },
   "source": [
    "For each categorical feature, the total number of values, the number of unique values, the most frequently occurring element and the total number of such elements are given.\n",
    "\n",
    "Let's look at the ratio of the values of the target variable:"
   ]
  },
  {
   "cell_type": "code",
   "execution_count": 14,
   "id": "2ef27c42",
   "metadata": {
    "execution": {
     "iopub.execute_input": "2022-08-24T08:22:13.797387Z",
     "iopub.status.busy": "2022-08-24T08:22:13.796357Z",
     "iopub.status.idle": "2022-08-24T08:22:13.988191Z",
     "shell.execute_reply": "2022-08-24T08:22:13.989515Z",
     "shell.execute_reply.started": "2022-08-08T09:38:17.093452Z"
    },
    "papermill": {
     "duration": 0.403515,
     "end_time": "2022-08-24T08:22:13.989911",
     "exception": false,
     "start_time": "2022-08-24T08:22:13.586396",
     "status": "completed"
    },
    "tags": []
   },
   "outputs": [
    {
     "data": {
      "image/png": "[encoded data removed]",
      "text/plain": [
       "<Figure size 432x288 with 1 Axes>"
      ]
     },
     "metadata": {},
     "output_type": "display_data"
    }
   ],
   "source": [
    "plt.pie(data.satisfaction.value_counts(), labels = [\"Neutral or dissatisfied\", \"Satisfied\"], colors = sns.color_palette(\"YlOrBr\"), autopct = '%1.1f%%')\n",
    "pass"
   ]
  },
  {
   "cell_type": "markdown",
   "id": "cc50410c",
   "metadata": {
    "papermill": {
     "duration": 0.206346,
     "end_time": "2022-08-24T08:22:14.438897",
     "exception": false,
     "start_time": "2022-08-24T08:22:14.232551",
     "status": "completed"
    },
    "tags": []
   },
   "source": [
    "As you can see from the pie chart, <b>the selection is more or less balanced</b>.\n",
    "\n",
    "Let's calculate the correlation matrix for quantitative features and use the visual image of this matrix:"
   ]
  },
  {
   "cell_type": "code",
   "execution_count": 15,
   "id": "18d03952",
   "metadata": {
    "execution": {
     "iopub.execute_input": "2022-08-24T08:22:14.867096Z",
     "iopub.status.busy": "2022-08-24T08:22:14.866322Z",
     "iopub.status.idle": "2022-08-24T08:22:14.889981Z",
     "shell.execute_reply": "2022-08-24T08:22:14.889319Z",
     "shell.execute_reply.started": "2022-08-08T09:38:17.987547Z"
    },
    "papermill": {
     "duration": 0.239901,
     "end_time": "2022-08-24T08:22:14.890189",
     "exception": false,
     "start_time": "2022-08-24T08:22:14.650288",
     "status": "completed"
    },
    "tags": []
   },
   "outputs": [
    {
     "data": {
      "text/html": [
       "<div>\n",
       "<style scoped>\n",
       "    .dataframe tbody tr th:only-of-type {\n",
       "        vertical-align: middle;\n",
       "    }\n",
       "\n",
       "    .dataframe tbody tr th {\n",
       "        vertical-align: top;\n",
       "    }\n",
       "\n",
       "    .dataframe thead th {\n",
       "        text-align: right;\n",
       "    }\n",
       "</style>\n",
       "<table border=\"1\" class=\"dataframe\">\n",
       "  <thead>\n",
       "    <tr style=\"text-align: right;\">\n",
       "      <th></th>\n",
       "      <th>Age</th>\n",
       "      <th>Flight Distance</th>\n",
       "      <th>Departure Delay in Minutes</th>\n",
       "      <th>Arrival Delay in Minutes</th>\n",
       "    </tr>\n",
       "  </thead>\n",
       "  <tbody>\n",
       "    <tr>\n",
       "      <th>Age</th>\n",
       "      <td>1.000000</td>\n",
       "      <td>0.099461</td>\n",
       "      <td>-0.010152</td>\n",
       "      <td>-0.012147</td>\n",
       "    </tr>\n",
       "    <tr>\n",
       "      <th>Flight Distance</th>\n",
       "      <td>0.099461</td>\n",
       "      <td>1.000000</td>\n",
       "      <td>0.002158</td>\n",
       "      <td>-0.002426</td>\n",
       "    </tr>\n",
       "    <tr>\n",
       "      <th>Departure Delay in Minutes</th>\n",
       "      <td>-0.010152</td>\n",
       "      <td>0.002158</td>\n",
       "      <td>1.000000</td>\n",
       "      <td>0.965481</td>\n",
       "    </tr>\n",
       "    <tr>\n",
       "      <th>Arrival Delay in Minutes</th>\n",
       "      <td>-0.012147</td>\n",
       "      <td>-0.002426</td>\n",
       "      <td>0.965481</td>\n",
       "      <td>1.000000</td>\n",
       "    </tr>\n",
       "  </tbody>\n",
       "</table>\n",
       "</div>"
      ],
      "text/plain": [
       "                                 Age  Flight Distance  \\\n",
       "Age                         1.000000         0.099461   \n",
       "Flight Distance             0.099461         1.000000   \n",
       "Departure Delay in Minutes -0.010152         0.002158   \n",
       "Arrival Delay in Minutes   -0.012147        -0.002426   \n",
       "\n",
       "                            Departure Delay in Minutes  \\\n",
       "Age                                          -0.010152   \n",
       "Flight Distance                               0.002158   \n",
       "Departure Delay in Minutes                    1.000000   \n",
       "Arrival Delay in Minutes                      0.965481   \n",
       "\n",
       "                            Arrival Delay in Minutes  \n",
       "Age                                        -0.012147  \n",
       "Flight Distance                            -0.002426  \n",
       "Departure Delay in Minutes                  0.965481  \n",
       "Arrival Delay in Minutes                    1.000000  "
      ]
     },
     "execution_count": 15,
     "metadata": {},
     "output_type": "execute_result"
    }
   ],
   "source": [
    "corr_mat = data.corr()\n",
    "corr_mat"
   ]
  },
  {
   "cell_type": "code",
   "execution_count": 16,
   "id": "8b14454e",
   "metadata": {
    "execution": {
     "iopub.execute_input": "2022-08-24T08:22:15.349693Z",
     "iopub.status.busy": "2022-08-24T08:22:15.335709Z",
     "iopub.status.idle": "2022-08-24T08:22:15.555561Z",
     "shell.execute_reply": "2022-08-24T08:22:15.556098Z",
     "shell.execute_reply.started": "2022-08-08T09:38:18.408016Z"
    },
    "papermill": {
     "duration": 0.453508,
     "end_time": "2022-08-24T08:22:15.556311",
     "exception": false,
     "start_time": "2022-08-24T08:22:15.102803",
     "status": "completed"
    },
    "tags": []
   },
   "outputs": [
    {
     "data": {
      "image/png": "[encoded data removed]",
      "text/plain": [
       "<Figure size 432x288 with 2 Axes>"
      ]
     },
     "metadata": {
      "needs_background": "light"
     },
     "output_type": "display_data"
    }
   ],
   "source": [
    "sns.heatmap(corr_mat, square = True, cmap = 'Blues')\n",
    "pass"
   ]
  },
  {
   "cell_type": "markdown",
   "id": "621183bc",
   "metadata": {
    "papermill": {
     "duration": 0.208087,
     "end_time": "2022-08-24T08:22:15.973127",
     "exception": false,
     "start_time": "2022-08-24T08:22:15.765040",
     "status": "completed"
    },
    "tags": []
   },
   "source": [
    "You can see that there is a strong correlation between the features <em>'Departure delay in minutes'</em> and <em>'Arrival delay in minutes'</em>. The value of the correlation coefficient reaches the following value:"
   ]
  },
  {
   "cell_type": "code",
   "execution_count": 17,
   "id": "b20ae8bd",
   "metadata": {
    "execution": {
     "iopub.execute_input": "2022-08-24T08:22:16.433427Z",
     "iopub.status.busy": "2022-08-24T08:22:16.432338Z",
     "iopub.status.idle": "2022-08-24T08:22:16.442051Z",
     "shell.execute_reply": "2022-08-24T08:22:16.442612Z",
     "shell.execute_reply.started": "2022-08-08T09:38:19.149118Z"
    },
    "papermill": {
     "duration": 0.223961,
     "end_time": "2022-08-24T08:22:16.442830",
     "exception": false,
     "start_time": "2022-08-24T08:22:16.218869",
     "status": "completed"
    },
    "scrolled": true,
    "tags": []
   },
   "outputs": [
    {
     "data": {
      "text/plain": [
       "Departure Delay in Minutes  Arrival Delay in Minutes    0.965481\n",
       "dtype: float64"
      ]
     },
     "execution_count": 17,
     "metadata": {},
     "output_type": "execute_result"
    }
   ],
   "source": [
    "corr_mat.where(np.triu(corr_mat > 0.5, k=1)).stack().sort_values(ascending = False)"
   ]
  },
  {
   "cell_type": "markdown",
   "id": "e4abcc62",
   "metadata": {
    "papermill": {
     "duration": 0.22356,
     "end_time": "2022-08-24T08:22:16.928122",
     "exception": false,
     "start_time": "2022-08-24T08:22:16.704562",
     "status": "completed"
    },
    "tags": []
   },
   "source": [
    "Let's build a scatterplot for these features:"
   ]
  },
  {
   "cell_type": "code",
   "execution_count": 18,
   "id": "f482bc80",
   "metadata": {
    "execution": {
     "iopub.execute_input": "2022-08-24T08:22:17.371670Z",
     "iopub.status.busy": "2022-08-24T08:22:17.370719Z",
     "iopub.status.idle": "2022-08-24T08:22:17.955097Z",
     "shell.execute_reply": "2022-08-24T08:22:17.954513Z",
     "shell.execute_reply.started": "2022-08-08T09:38:19.869612Z"
    },
    "papermill": {
     "duration": 0.807336,
     "end_time": "2022-08-24T08:22:17.955272",
     "exception": false,
     "start_time": "2022-08-24T08:22:17.147936",
     "status": "completed"
    },
    "tags": []
   },
   "outputs": [
    {
     "data": {
      "image/png": "[encoded data removed]",
      "text/plain": [
       "<Figure size 432x288 with 1 Axes>"
      ]
     },
     "metadata": {
      "needs_background": "light"
     },
     "output_type": "display_data"
    }
   ],
   "source": [
    "plt.scatter(data['Arrival Delay in Minutes'], data['Departure Delay in Minutes'], alpha = 0.5)\n",
    "pass"
   ]
  },
  {
   "cell_type": "markdown",
   "id": "f9549162",
   "metadata": {
    "papermill": {
     "duration": 0.207202,
     "end_time": "2022-08-24T08:22:18.382107",
     "exception": false,
     "start_time": "2022-08-24T08:22:18.174905",
     "status": "completed"
    },
    "tags": []
   },
   "source": [
    "You can see that the points lined up more or less along a straight line going from the lower left corner to the upper right. Thus, in some approximation <b>the dependence of the arrival time delay on the departure time delay is linear</b>.\n",
    "\n",
    "The results obtained are quite logical and can be explained as follows. If the flight of the airline's customers was delayed by a certain amount of time at departure, then the flight will be delayed by about the same amount of time at landing (provided that the aircraft does not accelerate in flight to make up for lost time)."
   ]
  },
  {
   "cell_type": "markdown",
   "id": "2a9a7515",
   "metadata": {
    "papermill": {
     "duration": 0.208295,
     "end_time": "2022-08-24T08:22:18.797522",
     "exception": false,
     "start_time": "2022-08-24T08:22:18.589227",
     "status": "completed"
    },
    "tags": []
   },
   "source": [
    "Consider the ratio of values for each of the categorical features:"
   ]
  },
  {
   "cell_type": "code",
   "execution_count": 19,
   "id": "7fa0ab9f",
   "metadata": {
    "execution": {
     "iopub.execute_input": "2022-08-24T08:22:19.218778Z",
     "iopub.status.busy": "2022-08-24T08:22:19.218030Z",
     "iopub.status.idle": "2022-08-24T08:22:21.343296Z",
     "shell.execute_reply": "2022-08-24T08:22:21.343978Z",
     "shell.execute_reply.started": "2022-08-08T09:38:21.233383Z"
    },
    "papermill": {
     "duration": 2.338764,
     "end_time": "2022-08-24T08:22:21.344232",
     "exception": false,
     "start_time": "2022-08-24T08:22:19.005468",
     "status": "completed"
    },
    "tags": []
   },
   "outputs": [
    {
     "data": {
      "image/png": "[encoded data removed]",
      "text/plain": [
       "<Figure size 1440x1440 with 18 Axes>"
      ]
     },
     "metadata": {},
     "output_type": "display_data"
    }
   ],
   "source": [
    "categ = data.iloc[:,categorical_indexes]\n",
    "fig, axes = plt.subplots(6, 3, figsize = (20, 20))\n",
    "for i, col in enumerate(categ):\n",
    "    column_values = data[col].value_counts()\n",
    "    labels = column_values.index\n",
    "    sizes = column_values.values\n",
    "    axes[i//3, i%3].pie(sizes, labels = labels, colors = sns.color_palette(\"YlOrBr\"), autopct = '%1.0f%%', startangle = 90)\n",
    "    axes[i//3, i%3].axis('equal')\n",
    "    axes[i//3, i%3].set_title(col)\n",
    "plt.show()"
   ]
  },
  {
   "cell_type": "markdown",
   "id": "b4524566",
   "metadata": {
    "papermill": {
     "duration": 0.22112,
     "end_time": "2022-08-24T08:22:21.794607",
     "exception": false,
     "start_time": "2022-08-24T08:22:21.573487",
     "status": "completed"
    },
    "tags": []
   },
   "source": [
    "Some conclusions about the considered sample:\n",
    "<ul>\n",
    "    <li>The number of men and women in this sample is approximately the same</li>\n",
    "    <li>The vast majority of the airline's customers are repeat customers</li>\n",
    "    <li>Most of our clients flew for business rather than personal reasons</li>\n",
    "    <li>About half of the passengers were in business class</li>\n",
    "    <li>More than 60% of passengers were satisfied with the luggage transportation service (rated 4-5 out of 5)</li>\n",
    "    <li>More than 50% of passengers were comfortable sitting in their seats (rated 4-5 out of 5)</li>\n",
    "</ul>"
   ]
  },
  {
   "cell_type": "markdown",
   "id": "3292af4a",
   "metadata": {
    "papermill": {
     "duration": 0.215382,
     "end_time": "2022-08-24T08:22:22.231527",
     "exception": false,
     "start_time": "2022-08-24T08:22:22.016145",
     "status": "completed"
    },
    "tags": []
   },
   "source": [
    "Now let's look at a few \"boxes with whiskers\" (box diagrams)."
   ]
  },
  {
   "cell_type": "code",
   "execution_count": 20,
   "id": "1b125443",
   "metadata": {
    "execution": {
     "iopub.execute_input": "2022-08-24T08:22:22.688288Z",
     "iopub.status.busy": "2022-08-24T08:22:22.685613Z",
     "iopub.status.idle": "2022-08-24T08:22:23.558611Z",
     "shell.execute_reply": "2022-08-24T08:22:23.557862Z",
     "shell.execute_reply.started": "2022-08-08T09:38:26.110888Z"
    },
    "papermill": {
     "duration": 1.112921,
     "end_time": "2022-08-24T08:22:23.558788",
     "exception": false,
     "start_time": "2022-08-24T08:22:22.445867",
     "status": "completed"
    },
    "tags": []
   },
   "outputs": [
    {
     "data": {
      "image/png": "[encoded data removed]",
      "text/plain": [
       "<Figure size 1080x360 with 2 Axes>"
      ]
     },
     "metadata": {
      "needs_background": "light"
     },
     "output_type": "display_data"
    }
   ],
   "source": [
    "f, ax = plt.subplots(1, 2, figsize = (15,5))\n",
    "sns.boxplot(x = \"Customer Type\", y = \"Age\", palette = \"YlOrBr\", data = data, ax = ax[0])\n",
    "sns.histplot(data, x = \"Age\", hue = \"Customer Type\", multiple = \"stack\", palette = \"YlOrBr\", edgecolor = \".3\", linewidth = .5, ax = ax[1])\n",
    "pass"
   ]
  },
  {
   "cell_type": "markdown",
   "id": "b22a0bcf",
   "metadata": {
    "papermill": {
     "duration": 0.215957,
     "end_time": "2022-08-24T08:22:23.990482",
     "exception": false,
     "start_time": "2022-08-24T08:22:23.774525",
     "status": "completed"
    },
    "tags": []
   },
   "source": [
    "From this box diagram, we can conclude that <b>most of the airline's regular customers are between the ages of 30 and 50 (their average age is slightly over 40)</b>. The age range of non-regular customers is slightly smaller (from 25 to 40 years old, on average - a little less than 30)."
   ]
  },
  {
   "cell_type": "code",
   "execution_count": 21,
   "id": "c1db2bfb",
   "metadata": {
    "execution": {
     "iopub.execute_input": "2022-08-24T08:22:24.428816Z",
     "iopub.status.busy": "2022-08-24T08:22:24.428089Z",
     "iopub.status.idle": "2022-08-24T08:22:25.725084Z",
     "shell.execute_reply": "2022-08-24T08:22:25.724504Z",
     "shell.execute_reply.started": "2022-08-08T09:38:26.951055Z"
    },
    "papermill": {
     "duration": 1.51759,
     "end_time": "2022-08-24T08:22:25.725258",
     "exception": false,
     "start_time": "2022-08-24T08:22:24.207668",
     "status": "completed"
    },
    "scrolled": true,
    "tags": []
   },
   "outputs": [
    {
     "data": {
      "image/png": "[encoded data removed]",
      "text/plain": [
       "<Figure size 1080x360 with 2 Axes>"
      ]
     },
     "metadata": {
      "needs_background": "light"
     },
     "output_type": "display_data"
    }
   ],
   "source": [
    "f, ax = plt.subplots(1, 2, figsize = (15,5))\n",
    "sns.boxplot(x = \"Class\", y = \"Age\", palette = \"YlOrBr\", data = data, ax = ax[0])\n",
    "sns.histplot(data, x = \"Age\", hue = \"Class\", multiple = \"stack\", palette = \"YlOrBr\", edgecolor = \".3\", linewidth = .5, ax = ax[1])\n",
    "pass"
   ]
  },
  {
   "cell_type": "markdown",
   "id": "f0ff7dac",
   "metadata": {
    "papermill": {
     "duration": 0.219937,
     "end_time": "2022-08-24T08:22:26.163660",
     "exception": false,
     "start_time": "2022-08-24T08:22:25.943723",
     "status": "completed"
    },
    "tags": []
   },
   "source": [
    "It can be seen that, on average, the age range of those customers who travel in business class is the same (according to the previous box chart) as the age range of regular customers. Based on this observation, it can be assumed that <b>regular customers mainly buy business class for themselves</b>."
   ]
  },
  {
   "cell_type": "code",
   "execution_count": 22,
   "id": "cfa4edda",
   "metadata": {
    "execution": {
     "iopub.execute_input": "2022-08-24T08:22:26.619102Z",
     "iopub.status.busy": "2022-08-24T08:22:26.617957Z",
     "iopub.status.idle": "2022-08-24T08:22:27.756855Z",
     "shell.execute_reply": "2022-08-24T08:22:27.757566Z",
     "shell.execute_reply.started": "2022-08-08T09:38:28.132136Z"
    },
    "papermill": {
     "duration": 1.379151,
     "end_time": "2022-08-24T08:22:27.757780",
     "exception": false,
     "start_time": "2022-08-24T08:22:26.378629",
     "status": "completed"
    },
    "tags": []
   },
   "outputs": [
    {
     "data": {
      "image/png": "[encoded data removed]",
      "text/plain": [
       "<Figure size 1080x360 with 2 Axes>"
      ]
     },
     "metadata": {
      "needs_background": "light"
     },
     "output_type": "display_data"
    }
   ],
   "source": [
    "f, ax = plt.subplots(1, 2, figsize = (15,5))\n",
    "sns.boxplot(x = \"Class\", y = \"Flight Distance\", palette = \"YlOrBr\", data = data, ax = ax[0])\n",
    "sns.histplot(data, x = \"Flight Distance\", hue = \"Class\", multiple = \"stack\", palette = \"YlOrBr\", edgecolor = \".3\", linewidth = .5, ax = ax[1])\n",
    "pass"
   ]
  },
  {
   "cell_type": "markdown",
   "id": "bbd7b783",
   "metadata": {
    "papermill": {
     "duration": 0.212002,
     "end_time": "2022-08-24T08:22:28.194345",
     "exception": false,
     "start_time": "2022-08-24T08:22:27.982343",
     "status": "completed"
    },
    "tags": []
   },
   "source": [
    "From this box diagram, the following conclusion can be drawn: <b>customers whose flight distance is long, mostly fly in business class</b>."
   ]
  },
  {
   "cell_type": "code",
   "execution_count": 23,
   "id": "58cee2d6",
   "metadata": {
    "execution": {
     "iopub.execute_input": "2022-08-24T08:22:28.631576Z",
     "iopub.status.busy": "2022-08-24T08:22:28.630808Z",
     "iopub.status.idle": "2022-08-24T08:22:32.494541Z",
     "shell.execute_reply": "2022-08-24T08:22:32.495091Z",
     "shell.execute_reply.started": "2022-08-08T09:38:29.270323Z"
    },
    "papermill": {
     "duration": 4.09253,
     "end_time": "2022-08-24T08:22:32.495309",
     "exception": false,
     "start_time": "2022-08-24T08:22:28.402779",
     "status": "completed"
    },
    "tags": []
   },
   "outputs": [
    {
     "data": {
      "image/png": "[encoded data removed]",
      "text/plain": [
       "<Figure size 1080x576 with 4 Axes>"
      ]
     },
     "metadata": {
      "needs_background": "light"
     },
     "output_type": "display_data"
    }
   ],
   "source": [
    "f, ax = plt.subplots(2, 2, figsize = (15,8))\n",
    "sns.boxplot(x = \"Inflight entertainment\", y = \"Flight Distance\", palette = \"YlOrBr\", data = data, ax = ax[0, 0])\n",
    "sns.histplot(data, x = \"Flight Distance\", hue = \"Inflight entertainment\", multiple = \"stack\", palette = \"YlOrBr\", edgecolor = \".3\", linewidth = .5, ax = ax[0, 1])\n",
    "sns.boxplot(x = \"Leg room service\", y = \"Flight Distance\", palette = \"YlOrBr\", data = data, ax = ax[1, 0])\n",
    "sns.histplot(data, x = \"Flight Distance\", hue = \"Leg room service\", multiple = \"stack\", palette = \"YlOrBr\", edgecolor = \".3\", linewidth = .5, ax = ax[1, 1])\n",
    "pass"
   ]
  },
  {
   "cell_type": "markdown",
   "id": "5e746ee9",
   "metadata": {
    "papermill": {
     "duration": 0.21985,
     "end_time": "2022-08-24T08:22:32.955184",
     "exception": false,
     "start_time": "2022-08-24T08:22:32.735334",
     "status": "completed"
    },
    "tags": []
   },
   "source": [
    "The following pattern can be seen: <b>the more distance an aircraft passenger travels (respectively, the longer they are in flight), the more they are satisfied with the entertainment in flight and the extra legroom (on average)</b>."
   ]
  },
  {
   "cell_type": "markdown",
   "id": "422b41f4",
   "metadata": {
    "papermill": {
     "duration": 0.215588,
     "end_time": "2022-08-24T08:22:33.388856",
     "exception": false,
     "start_time": "2022-08-24T08:22:33.173268",
     "status": "completed"
    },
    "tags": []
   },
   "source": [
    "Now consider the dependence graphs of some categorical features on the target - <em>satisfaction of air passengers</em>:"
   ]
  },
  {
   "cell_type": "code",
   "execution_count": 24,
   "id": "4841c9d3",
   "metadata": {
    "execution": {
     "iopub.execute_input": "2022-08-24T08:22:33.828062Z",
     "iopub.status.busy": "2022-08-24T08:22:33.826957Z",
     "iopub.status.idle": "2022-08-24T08:22:34.033231Z",
     "shell.execute_reply": "2022-08-24T08:22:34.033749Z",
     "shell.execute_reply.started": "2022-08-08T09:38:32.993180Z"
    },
    "papermill": {
     "duration": 0.428576,
     "end_time": "2022-08-24T08:22:34.033976",
     "exception": false,
     "start_time": "2022-08-24T08:22:33.605400",
     "status": "completed"
    },
    "scrolled": true,
    "tags": []
   },
   "outputs": [
    {
     "data": {
      "image/png": "[encoded data removed]",
      "text/plain": [
       "<Figure size 432x288 with 1 Axes>"
      ]
     },
     "metadata": {
      "needs_background": "light"
     },
     "output_type": "display_data"
    }
   ],
   "source": [
    "sns.countplot(x = 'Class', hue = 'satisfaction', palette = \"YlOrBr\", data = data)\n",
    "plt.show()"
   ]
  },
  {
   "cell_type": "markdown",
   "id": "f3b79a35",
   "metadata": {
    "papermill": {
     "duration": 0.217202,
     "end_time": "2022-08-24T08:22:34.468941",
     "exception": false,
     "start_time": "2022-08-24T08:22:34.251739",
     "status": "completed"
    },
    "tags": []
   },
   "source": [
    "This chart is very revealing. You can see that <b>most of the passengers who flew in economy plus or economy class were dissatisfied with the flight, and those who were lucky enough to fly in business class were satisfied</b>."
   ]
  },
  {
   "cell_type": "code",
   "execution_count": 25,
   "id": "2f14cf1a",
   "metadata": {
    "execution": {
     "iopub.execute_input": "2022-08-24T08:22:34.912355Z",
     "iopub.status.busy": "2022-08-24T08:22:34.911282Z",
     "iopub.status.idle": "2022-08-24T08:22:35.228895Z",
     "shell.execute_reply": "2022-08-24T08:22:35.228108Z",
     "shell.execute_reply.started": "2022-08-08T09:38:33.195535Z"
    },
    "papermill": {
     "duration": 0.541792,
     "end_time": "2022-08-24T08:22:35.229090",
     "exception": false,
     "start_time": "2022-08-24T08:22:34.687298",
     "status": "completed"
    },
    "scrolled": true,
    "tags": []
   },
   "outputs": [
    {
     "data": {
      "image/png": "[encoded data removed]",
      "text/plain": [
       "<Figure size 432x288 with 1 Axes>"
      ]
     },
     "metadata": {
      "needs_background": "light"
     },
     "output_type": "display_data"
    }
   ],
   "source": [
    "sns.countplot(x = 'Inflight wifi service', hue = 'satisfaction', palette = \"YlOrBr\", data = data)\n",
    "plt.show()"
   ]
  },
  {
   "cell_type": "markdown",
   "id": "032b2873",
   "metadata": {
    "papermill": {
     "duration": 0.217091,
     "end_time": "2022-08-24T08:22:35.665157",
     "exception": false,
     "start_time": "2022-08-24T08:22:35.448066",
     "status": "completed"
    },
    "tags": []
   },
   "source": [
    "According to this graph, you can see that <b>almost all passengers who rated the wifi service 5 out of 5 points were satisfied with the flight</b>."
   ]
  },
  {
   "cell_type": "code",
   "execution_count": 26,
   "id": "526dbe43",
   "metadata": {
    "execution": {
     "iopub.execute_input": "2022-08-24T08:22:36.110721Z",
     "iopub.status.busy": "2022-08-24T08:22:36.109657Z",
     "iopub.status.idle": "2022-08-24T08:22:36.647966Z",
     "shell.execute_reply": "2022-08-24T08:22:36.648624Z",
     "shell.execute_reply.started": "2022-08-08T09:38:33.479153Z"
    },
    "papermill": {
     "duration": 0.763177,
     "end_time": "2022-08-24T08:22:36.648836",
     "exception": false,
     "start_time": "2022-08-24T08:22:35.885659",
     "status": "completed"
    },
    "tags": []
   },
   "outputs": [
    {
     "data": {
      "image/png": "[encoded data removed]",
      "text/plain": [
       "<Figure size 1440x360 with 2 Axes>"
      ]
     },
     "metadata": {
      "needs_background": "light"
     },
     "output_type": "display_data"
    }
   ],
   "source": [
    "f, ax = plt.subplots(1, 2, figsize = (20,5))\n",
    "sns.countplot(x = 'Seat comfort', hue = 'satisfaction', palette = \"YlOrBr\", data = data,ax = ax[0])\n",
    "sns.countplot(x = 'Leg room service', hue = 'satisfaction', palette = \"YlOrBr\", data = data, ax = ax[1])\n",
    "plt.show()\n"
   ]
  },
  {
   "cell_type": "markdown",
   "id": "a0ae9448",
   "metadata": {
    "papermill": {
     "duration": 0.232919,
     "end_time": "2022-08-24T08:22:37.111098",
     "exception": false,
     "start_time": "2022-08-24T08:22:36.878179",
     "status": "completed"
    },
    "tags": []
   },
   "source": [
    "From the graphs above, we can conclude the following: <b>most passengers who rated the comfort of the seats and the extra legroom at 4 and 5 points out of 5 were satisfied with the flight</b>."
   ]
  },
  {
   "cell_type": "markdown",
   "id": "05c6741b",
   "metadata": {
    "papermill": {
     "duration": 0.224954,
     "end_time": "2022-08-24T08:22:37.555341",
     "exception": false,
     "start_time": "2022-08-24T08:22:37.330387",
     "status": "completed"
    },
    "tags": []
   },
   "source": [
    "<div style=\"border-width:1; border-radius: 15px; border-style: solid; border-color: rgb(10, 10, 10); background-color: #52ab98; text-align: center;font: 14pt 'Candara';font-weight:bold;\"><h1>Filling in missing values</h1></div>"
   ]
  },
  {
   "cell_type": "markdown",
   "id": "f782ecbb",
   "metadata": {
    "papermill": {
     "duration": 0.232868,
     "end_time": "2022-08-24T08:22:38.013648",
     "exception": false,
     "start_time": "2022-08-24T08:22:37.780780",
     "status": "completed"
    },
    "tags": []
   },
   "source": [
    "Let's see how many missing values are in each column of the table:"
   ]
  },
  {
   "cell_type": "code",
   "execution_count": 27,
   "id": "4c0a8261",
   "metadata": {
    "execution": {
     "iopub.execute_input": "2022-08-24T08:22:38.491573Z",
     "iopub.status.busy": "2022-08-24T08:22:38.490779Z",
     "iopub.status.idle": "2022-08-24T08:22:38.505768Z",
     "shell.execute_reply": "2022-08-24T08:22:38.506315Z",
     "shell.execute_reply.started": "2022-08-08T09:38:37.511960Z"
    },
    "papermill": {
     "duration": 0.249335,
     "end_time": "2022-08-24T08:22:38.506550",
     "exception": false,
     "start_time": "2022-08-24T08:22:38.257215",
     "status": "completed"
    },
    "tags": []
   },
   "outputs": [
    {
     "data": {
      "text/plain": [
       "Gender                                 0\n",
       "Customer Type                          0\n",
       "Age                                    0\n",
       "Type of Travel                         0\n",
       "Class                                  0\n",
       "Flight Distance                        0\n",
       "Inflight wifi service                  0\n",
       "Departure/Arrival time convenient      0\n",
       "Ease of Online booking                 0\n",
       "Gate location                          0\n",
       "Food and drink                         0\n",
       "Online boarding                        0\n",
       "Seat comfort                           0\n",
       "Inflight entertainment                 0\n",
       "On-board service                       0\n",
       "Leg room service                       0\n",
       "Baggage handling                       0\n",
       "Checkin service                        0\n",
       "Inflight service                       0\n",
       "Cleanliness                            0\n",
       "Departure Delay in Minutes             0\n",
       "Arrival Delay in Minutes             310\n",
       "satisfaction                           0\n",
       "dtype: int64"
      ]
     },
     "execution_count": 27,
     "metadata": {},
     "output_type": "execute_result"
    }
   ],
   "source": [
    "data.isna().sum()"
   ]
  },
  {
   "cell_type": "markdown",
   "id": "f8147f12",
   "metadata": {
    "papermill": {
     "duration": 0.230264,
     "end_time": "2022-08-24T08:22:38.963056",
     "exception": false,
     "start_time": "2022-08-24T08:22:38.732792",
     "status": "completed"
    },
    "tags": []
   },
   "source": [
    "Fill in the missing values with <b>medians</b> in the columns corresponding to quantitative features:"
   ]
  },
  {
   "cell_type": "code",
   "execution_count": 28,
   "id": "4ea91c60",
   "metadata": {
    "execution": {
     "iopub.execute_input": "2022-08-24T08:22:39.420636Z",
     "iopub.status.busy": "2022-08-24T08:22:39.419547Z",
     "iopub.status.idle": "2022-08-24T08:22:39.426837Z",
     "shell.execute_reply": "2022-08-24T08:22:39.427358Z",
     "shell.execute_reply.started": "2022-08-08T09:38:38.321363Z"
    },
    "papermill": {
     "duration": 0.23713,
     "end_time": "2022-08-24T08:22:39.427617",
     "exception": false,
     "start_time": "2022-08-24T08:22:39.190487",
     "status": "completed"
    },
    "tags": []
   },
   "outputs": [],
   "source": [
    "data['Arrival Delay in Minutes'].fillna(data['Arrival Delay in Minutes'].median(axis = 0), inplace = True)"
   ]
  },
  {
   "cell_type": "code",
   "execution_count": 29,
   "id": "af881579",
   "metadata": {
    "execution": {
     "iopub.execute_input": "2022-08-24T08:22:39.885119Z",
     "iopub.status.busy": "2022-08-24T08:22:39.883986Z",
     "iopub.status.idle": "2022-08-24T08:22:39.904167Z",
     "shell.execute_reply": "2022-08-24T08:22:39.904653Z",
     "shell.execute_reply.started": "2022-08-08T09:38:38.718652Z"
    },
    "papermill": {
     "duration": 0.251739,
     "end_time": "2022-08-24T08:22:39.904881",
     "exception": false,
     "start_time": "2022-08-24T08:22:39.653142",
     "status": "completed"
    },
    "tags": []
   },
   "outputs": [
    {
     "data": {
      "text/plain": [
       "Gender                               0\n",
       "Customer Type                        0\n",
       "Age                                  0\n",
       "Type of Travel                       0\n",
       "Class                                0\n",
       "Flight Distance                      0\n",
       "Inflight wifi service                0\n",
       "Departure/Arrival time convenient    0\n",
       "Ease of Online booking               0\n",
       "Gate location                        0\n",
       "Food and drink                       0\n",
       "Online boarding                      0\n",
       "Seat comfort                         0\n",
       "Inflight entertainment               0\n",
       "On-board service                     0\n",
       "Leg room service                     0\n",
       "Baggage handling                     0\n",
       "Checkin service                      0\n",
       "Inflight service                     0\n",
       "Cleanliness                          0\n",
       "Departure Delay in Minutes           0\n",
       "Arrival Delay in Minutes             0\n",
       "satisfaction                         0\n",
       "dtype: int64"
      ]
     },
     "execution_count": 29,
     "metadata": {},
     "output_type": "execute_result"
    }
   ],
   "source": [
    "data.isna().sum()"
   ]
  },
  {
   "cell_type": "code",
   "execution_count": 30,
   "id": "a6d3873c",
   "metadata": {
    "execution": {
     "iopub.execute_input": "2022-08-24T08:22:40.372632Z",
     "iopub.status.busy": "2022-08-24T08:22:40.368342Z",
     "iopub.status.idle": "2022-08-24T08:22:40.405737Z",
     "shell.execute_reply": "2022-08-24T08:22:40.406283Z",
     "shell.execute_reply.started": "2022-08-08T09:38:39.184810Z"
    },
    "papermill": {
     "duration": 0.27442,
     "end_time": "2022-08-24T08:22:40.406497",
     "exception": false,
     "start_time": "2022-08-24T08:22:40.132077",
     "status": "completed"
    },
    "tags": []
   },
   "outputs": [
    {
     "data": {
      "text/html": [
       "<div>\n",
       "<style scoped>\n",
       "    .dataframe tbody tr th:only-of-type {\n",
       "        vertical-align: middle;\n",
       "    }\n",
       "\n",
       "    .dataframe tbody tr th {\n",
       "        vertical-align: top;\n",
       "    }\n",
       "\n",
       "    .dataframe thead th {\n",
       "        text-align: right;\n",
       "    }\n",
       "</style>\n",
       "<table border=\"1\" class=\"dataframe\">\n",
       "  <thead>\n",
       "    <tr style=\"text-align: right;\">\n",
       "      <th></th>\n",
       "      <th>Age</th>\n",
       "      <th>Flight Distance</th>\n",
       "      <th>Departure Delay in Minutes</th>\n",
       "      <th>Arrival Delay in Minutes</th>\n",
       "    </tr>\n",
       "  </thead>\n",
       "  <tbody>\n",
       "    <tr>\n",
       "      <th>count</th>\n",
       "      <td>103904.000000</td>\n",
       "      <td>103904.000000</td>\n",
       "      <td>103904.000000</td>\n",
       "      <td>103904.000000</td>\n",
       "    </tr>\n",
       "    <tr>\n",
       "      <th>mean</th>\n",
       "      <td>39.379706</td>\n",
       "      <td>1189.448375</td>\n",
       "      <td>14.815618</td>\n",
       "      <td>15.133392</td>\n",
       "    </tr>\n",
       "    <tr>\n",
       "      <th>std</th>\n",
       "      <td>15.114964</td>\n",
       "      <td>997.147281</td>\n",
       "      <td>38.230901</td>\n",
       "      <td>38.649776</td>\n",
       "    </tr>\n",
       "    <tr>\n",
       "      <th>min</th>\n",
       "      <td>7.000000</td>\n",
       "      <td>31.000000</td>\n",
       "      <td>0.000000</td>\n",
       "      <td>0.000000</td>\n",
       "    </tr>\n",
       "    <tr>\n",
       "      <th>25%</th>\n",
       "      <td>27.000000</td>\n",
       "      <td>414.000000</td>\n",
       "      <td>0.000000</td>\n",
       "      <td>0.000000</td>\n",
       "    </tr>\n",
       "    <tr>\n",
       "      <th>50%</th>\n",
       "      <td>40.000000</td>\n",
       "      <td>843.000000</td>\n",
       "      <td>0.000000</td>\n",
       "      <td>0.000000</td>\n",
       "    </tr>\n",
       "    <tr>\n",
       "      <th>75%</th>\n",
       "      <td>51.000000</td>\n",
       "      <td>1743.000000</td>\n",
       "      <td>12.000000</td>\n",
       "      <td>13.000000</td>\n",
       "    </tr>\n",
       "    <tr>\n",
       "      <th>max</th>\n",
       "      <td>85.000000</td>\n",
       "      <td>4983.000000</td>\n",
       "      <td>1592.000000</td>\n",
       "      <td>1584.000000</td>\n",
       "    </tr>\n",
       "  </tbody>\n",
       "</table>\n",
       "</div>"
      ],
      "text/plain": [
       "                 Age  Flight Distance  Departure Delay in Minutes  \\\n",
       "count  103904.000000    103904.000000               103904.000000   \n",
       "mean       39.379706      1189.448375                   14.815618   \n",
       "std        15.114964       997.147281                   38.230901   \n",
       "min         7.000000        31.000000                    0.000000   \n",
       "25%        27.000000       414.000000                    0.000000   \n",
       "50%        40.000000       843.000000                    0.000000   \n",
       "75%        51.000000      1743.000000                   12.000000   \n",
       "max        85.000000      4983.000000                 1592.000000   \n",
       "\n",
       "       Arrival Delay in Minutes  \n",
       "count             103904.000000  \n",
       "mean                  15.133392  \n",
       "std                   38.649776  \n",
       "min                    0.000000  \n",
       "25%                    0.000000  \n",
       "50%                    0.000000  \n",
       "75%                   13.000000  \n",
       "max                 1584.000000  "
      ]
     },
     "execution_count": 30,
     "metadata": {},
     "output_type": "execute_result"
    }
   ],
   "source": [
    "data.describe()"
   ]
  },
  {
   "cell_type": "markdown",
   "id": "75e524da",
   "metadata": {
    "papermill": {
     "duration": 0.231672,
     "end_time": "2022-08-24T08:22:40.865761",
     "exception": false,
     "start_time": "2022-08-24T08:22:40.634089",
     "status": "completed"
    },
    "tags": []
   },
   "source": [
    "This table shows that there are no more missing values."
   ]
  },
  {
   "cell_type": "markdown",
   "id": "460683e8",
   "metadata": {
    "papermill": {
     "duration": 0.22716,
     "end_time": "2022-08-24T08:22:41.323378",
     "exception": false,
     "start_time": "2022-08-24T08:22:41.096218",
     "status": "completed"
    },
    "tags": []
   },
   "source": [
    "<div style=\"border-width:1; border-radius: 15px; border-style: solid; border-color: rgb(10, 10, 10); background-color: #52ab98; text-align: center;font: 14pt 'Candara';font-weight:bold;\"><h1>Handling categorical features</h1></div>"
   ]
  },
  {
   "cell_type": "markdown",
   "id": "aa645473",
   "metadata": {
    "papermill": {
     "duration": 0.237808,
     "end_time": "2022-08-24T08:22:41.788227",
     "exception": false,
     "start_time": "2022-08-24T08:22:41.550419",
     "status": "completed"
    },
    "tags": []
   },
   "source": [
    "We divide the signs into quantitative and categorical:"
   ]
  },
  {
   "cell_type": "code",
   "execution_count": 31,
   "id": "06beb2c6",
   "metadata": {
    "execution": {
     "iopub.execute_input": "2022-08-24T08:22:42.252267Z",
     "iopub.status.busy": "2022-08-24T08:22:42.251035Z",
     "iopub.status.idle": "2022-08-24T08:22:42.306292Z",
     "shell.execute_reply": "2022-08-24T08:22:42.305652Z",
     "shell.execute_reply.started": "2022-08-08T09:40:14.035318Z"
    },
    "papermill": {
     "duration": 0.289421,
     "end_time": "2022-08-24T08:22:42.306503",
     "exception": false,
     "start_time": "2022-08-24T08:22:42.017082",
     "status": "completed"
    },
    "tags": []
   },
   "outputs": [],
   "source": [
    "numerical_columns = [c for c in data.columns if data[c].dtype.name != 'category']\n",
    "numerical_columns.remove('satisfaction')\n",
    "categorical_columns = [c for c in data.columns if data[c].dtype.name == 'category']\n",
    "data_describe = data.describe(include = ['category'])"
   ]
  },
  {
   "cell_type": "markdown",
   "id": "8a035e58",
   "metadata": {
    "papermill": {
     "duration": 0.225239,
     "end_time": "2022-08-24T08:22:42.756778",
     "exception": false,
     "start_time": "2022-08-24T08:22:42.531539",
     "status": "completed"
    },
    "tags": []
   },
   "source": [
    "We divide categorical features into binary and non-binary:"
   ]
  },
  {
   "cell_type": "code",
   "execution_count": 32,
   "id": "f7c26945",
   "metadata": {
    "execution": {
     "iopub.execute_input": "2022-08-24T08:22:43.222771Z",
     "iopub.status.busy": "2022-08-24T08:22:43.221585Z",
     "iopub.status.idle": "2022-08-24T08:22:43.225503Z",
     "shell.execute_reply": "2022-08-24T08:22:43.226020Z",
     "shell.execute_reply.started": "2022-08-08T09:40:15.620161Z"
    },
    "papermill": {
     "duration": 0.241791,
     "end_time": "2022-08-24T08:22:43.226232",
     "exception": false,
     "start_time": "2022-08-24T08:22:42.984441",
     "status": "completed"
    },
    "tags": []
   },
   "outputs": [
    {
     "name": "stdout",
     "output_type": "stream",
     "text": [
      "['Gender', 'Customer Type', 'Type of Travel'] ['Class', 'Inflight wifi service', 'Departure/Arrival time convenient', 'Ease of Online booking', 'Gate location', 'Food and drink', 'Online boarding', 'Seat comfort', 'Inflight entertainment', 'On-board service', 'Leg room service', 'Baggage handling', 'Checkin service', 'Inflight service', 'Cleanliness']\n"
     ]
    }
   ],
   "source": [
    "binary_columns = [c for c in categorical_columns if data_describe[c]['unique'] == 2]\n",
    "nonbinary_columns = [c for c in categorical_columns if data_describe[c]['unique'] > 2]\n",
    "print(binary_columns, nonbinary_columns)"
   ]
  },
  {
   "cell_type": "markdown",
   "id": "36c2c015",
   "metadata": {
    "papermill": {
     "duration": 0.224652,
     "end_time": "2022-08-24T08:22:43.677398",
     "exception": false,
     "start_time": "2022-08-24T08:22:43.452746",
     "status": "completed"
    },
    "tags": []
   },
   "source": [
    "Let's look at the unique values for each binary feature:"
   ]
  },
  {
   "cell_type": "code",
   "execution_count": 33,
   "id": "7e9243e6",
   "metadata": {
    "execution": {
     "iopub.execute_input": "2022-08-24T08:22:44.145718Z",
     "iopub.status.busy": "2022-08-24T08:22:44.144786Z",
     "iopub.status.idle": "2022-08-24T08:22:44.155564Z",
     "shell.execute_reply": "2022-08-24T08:22:44.156144Z",
     "shell.execute_reply.started": "2022-08-08T09:40:22.081255Z"
    },
    "papermill": {
     "duration": 0.252405,
     "end_time": "2022-08-24T08:22:44.156387",
     "exception": false,
     "start_time": "2022-08-24T08:22:43.903982",
     "status": "completed"
    },
    "tags": []
   },
   "outputs": [
    {
     "name": "stdout",
     "output_type": "stream",
     "text": [
      "Gender : Male, Female.\n",
      "Customer Type : Loyal Customer, disloyal Customer.\n",
      "Type of Travel : Personal Travel, Business travel.\n"
     ]
    }
   ],
   "source": [
    "for col in binary_columns:\n",
    "    print(col, ': ', end = '')\n",
    "    for uniq in data[col].unique():\n",
    "        if uniq == data[col].unique()[-1]:\n",
    "            print(uniq, end = '.')\n",
    "        else:\n",
    "            print(uniq, end = ', ')\n",
    "    print()"
   ]
  },
  {
   "cell_type": "markdown",
   "id": "7ed6ba9f",
   "metadata": {
    "papermill": {
     "duration": 0.228141,
     "end_time": "2022-08-24T08:22:44.615608",
     "exception": false,
     "start_time": "2022-08-24T08:22:44.387467",
     "status": "completed"
    },
    "tags": []
   },
   "source": [
    "Let's do the binarization:"
   ]
  },
  {
   "cell_type": "code",
   "execution_count": 34,
   "id": "a003c9e5",
   "metadata": {
    "execution": {
     "iopub.execute_input": "2022-08-24T08:22:45.078037Z",
     "iopub.status.busy": "2022-08-24T08:22:45.077317Z",
     "iopub.status.idle": "2022-08-24T08:22:45.081359Z",
     "shell.execute_reply": "2022-08-24T08:22:45.080806Z",
     "shell.execute_reply.started": "2022-08-08T09:40:52.464590Z"
    },
    "papermill": {
     "duration": 0.241186,
     "end_time": "2022-08-24T08:22:45.081531",
     "exception": false,
     "start_time": "2022-08-24T08:22:44.840345",
     "status": "completed"
    },
    "tags": []
   },
   "outputs": [
    {
     "data": {
      "text/plain": [
       "0         False\n",
       "1          True\n",
       "2          True\n",
       "3          True\n",
       "4          True\n",
       "          ...  \n",
       "103899     True\n",
       "103900     True\n",
       "103901     True\n",
       "103902     True\n",
       "103903     True\n",
       "Name: Type of Travel, Length: 103904, dtype: bool"
      ]
     },
     "execution_count": 34,
     "metadata": {},
     "output_type": "execute_result"
    }
   ],
   "source": [
    "data[col] == uniq"
   ]
  },
  {
   "cell_type": "code",
   "execution_count": 35,
   "id": "1348a798",
   "metadata": {
    "execution": {
     "iopub.execute_input": "2022-08-24T08:22:45.548804Z",
     "iopub.status.busy": "2022-08-24T08:22:45.548099Z",
     "iopub.status.idle": "2022-08-24T08:22:45.701541Z",
     "shell.execute_reply": "2022-08-24T08:22:45.700931Z",
     "shell.execute_reply.started": "2022-08-08T10:05:08.702782Z"
    },
    "papermill": {
     "duration": 0.392637,
     "end_time": "2022-08-24T08:22:45.701725",
     "exception": false,
     "start_time": "2022-08-24T08:22:45.309088",
     "status": "completed"
    },
    "tags": []
   },
   "outputs": [
    {
     "name": "stdout",
     "output_type": "stream",
     "text": [
      "count     103904\n",
      "unique         2\n",
      "top            1\n",
      "freq       52727\n",
      "Name: Gender, dtype: int64\n",
      "\n",
      "count     103904\n",
      "unique         2\n",
      "top            0\n",
      "freq       84923\n",
      "Name: Customer Type, dtype: int64\n",
      "\n",
      "count     103904\n",
      "unique         2\n",
      "top            1\n",
      "freq       71655\n",
      "Name: Type of Travel, dtype: int64\n",
      "\n"
     ]
    }
   ],
   "source": [
    "for col in binary_columns:\n",
    "    data[col] = data[col].astype('object')\n",
    "    k = 0\n",
    "    for uniq in data[col].unique():\n",
    "        data.at[data[col] == uniq, col] = k\n",
    "        k +=1 \n",
    "for col in binary_columns:\n",
    "    print(data[col].describe(), end = '\\n\\n')"
   ]
  },
  {
   "cell_type": "markdown",
   "id": "dbec69b0",
   "metadata": {
    "papermill": {
     "duration": 0.233241,
     "end_time": "2022-08-24T08:22:46.166189",
     "exception": false,
     "start_time": "2022-08-24T08:22:45.932948",
     "status": "completed"
    },
    "tags": []
   },
   "source": [
    "Now let's look at non-binary categorical features:"
   ]
  },
  {
   "cell_type": "code",
   "execution_count": 36,
   "id": "8b30de63",
   "metadata": {
    "execution": {
     "iopub.execute_input": "2022-08-24T08:22:46.632665Z",
     "iopub.status.busy": "2022-08-24T08:22:46.631917Z",
     "iopub.status.idle": "2022-08-24T08:22:46.663436Z",
     "shell.execute_reply": "2022-08-24T08:22:46.664101Z",
     "shell.execute_reply.started": "2022-02-06T20:16:15.303236Z"
    },
    "papermill": {
     "duration": 0.269816,
     "end_time": "2022-08-24T08:22:46.664313",
     "exception": false,
     "start_time": "2022-08-24T08:22:46.394497",
     "status": "completed"
    },
    "tags": []
   },
   "outputs": [
    {
     "data": {
      "text/html": [
       "<div>\n",
       "<style scoped>\n",
       "    .dataframe tbody tr th:only-of-type {\n",
       "        vertical-align: middle;\n",
       "    }\n",
       "\n",
       "    .dataframe tbody tr th {\n",
       "        vertical-align: top;\n",
       "    }\n",
       "\n",
       "    .dataframe thead th {\n",
       "        text-align: right;\n",
       "    }\n",
       "</style>\n",
       "<table border=\"1\" class=\"dataframe\">\n",
       "  <thead>\n",
       "    <tr style=\"text-align: right;\">\n",
       "      <th></th>\n",
       "      <th>Class</th>\n",
       "      <th>Inflight wifi service</th>\n",
       "      <th>Departure/Arrival time convenient</th>\n",
       "      <th>Ease of Online booking</th>\n",
       "      <th>Gate location</th>\n",
       "      <th>Food and drink</th>\n",
       "      <th>Online boarding</th>\n",
       "      <th>Seat comfort</th>\n",
       "      <th>Inflight entertainment</th>\n",
       "      <th>On-board service</th>\n",
       "      <th>Leg room service</th>\n",
       "      <th>Baggage handling</th>\n",
       "      <th>Checkin service</th>\n",
       "      <th>Inflight service</th>\n",
       "      <th>Cleanliness</th>\n",
       "    </tr>\n",
       "  </thead>\n",
       "  <tbody>\n",
       "    <tr>\n",
       "      <th>0</th>\n",
       "      <td>Eco Plus</td>\n",
       "      <td>3</td>\n",
       "      <td>4</td>\n",
       "      <td>3</td>\n",
       "      <td>1</td>\n",
       "      <td>5</td>\n",
       "      <td>3</td>\n",
       "      <td>5</td>\n",
       "      <td>5</td>\n",
       "      <td>4</td>\n",
       "      <td>3</td>\n",
       "      <td>4</td>\n",
       "      <td>4</td>\n",
       "      <td>5</td>\n",
       "      <td>5</td>\n",
       "    </tr>\n",
       "    <tr>\n",
       "      <th>1</th>\n",
       "      <td>Business</td>\n",
       "      <td>3</td>\n",
       "      <td>2</td>\n",
       "      <td>3</td>\n",
       "      <td>3</td>\n",
       "      <td>1</td>\n",
       "      <td>3</td>\n",
       "      <td>1</td>\n",
       "      <td>1</td>\n",
       "      <td>1</td>\n",
       "      <td>5</td>\n",
       "      <td>3</td>\n",
       "      <td>1</td>\n",
       "      <td>4</td>\n",
       "      <td>1</td>\n",
       "    </tr>\n",
       "    <tr>\n",
       "      <th>2</th>\n",
       "      <td>Business</td>\n",
       "      <td>2</td>\n",
       "      <td>2</td>\n",
       "      <td>2</td>\n",
       "      <td>2</td>\n",
       "      <td>5</td>\n",
       "      <td>5</td>\n",
       "      <td>5</td>\n",
       "      <td>5</td>\n",
       "      <td>4</td>\n",
       "      <td>3</td>\n",
       "      <td>4</td>\n",
       "      <td>4</td>\n",
       "      <td>4</td>\n",
       "      <td>5</td>\n",
       "    </tr>\n",
       "    <tr>\n",
       "      <th>3</th>\n",
       "      <td>Business</td>\n",
       "      <td>2</td>\n",
       "      <td>5</td>\n",
       "      <td>5</td>\n",
       "      <td>5</td>\n",
       "      <td>2</td>\n",
       "      <td>2</td>\n",
       "      <td>2</td>\n",
       "      <td>2</td>\n",
       "      <td>2</td>\n",
       "      <td>5</td>\n",
       "      <td>3</td>\n",
       "      <td>1</td>\n",
       "      <td>4</td>\n",
       "      <td>2</td>\n",
       "    </tr>\n",
       "    <tr>\n",
       "      <th>4</th>\n",
       "      <td>Business</td>\n",
       "      <td>3</td>\n",
       "      <td>3</td>\n",
       "      <td>3</td>\n",
       "      <td>3</td>\n",
       "      <td>4</td>\n",
       "      <td>5</td>\n",
       "      <td>5</td>\n",
       "      <td>3</td>\n",
       "      <td>3</td>\n",
       "      <td>4</td>\n",
       "      <td>4</td>\n",
       "      <td>3</td>\n",
       "      <td>3</td>\n",
       "      <td>3</td>\n",
       "    </tr>\n",
       "    <tr>\n",
       "      <th>...</th>\n",
       "      <td>...</td>\n",
       "      <td>...</td>\n",
       "      <td>...</td>\n",
       "      <td>...</td>\n",
       "      <td>...</td>\n",
       "      <td>...</td>\n",
       "      <td>...</td>\n",
       "      <td>...</td>\n",
       "      <td>...</td>\n",
       "      <td>...</td>\n",
       "      <td>...</td>\n",
       "      <td>...</td>\n",
       "      <td>...</td>\n",
       "      <td>...</td>\n",
       "      <td>...</td>\n",
       "    </tr>\n",
       "    <tr>\n",
       "      <th>103899</th>\n",
       "      <td>Eco</td>\n",
       "      <td>2</td>\n",
       "      <td>1</td>\n",
       "      <td>2</td>\n",
       "      <td>3</td>\n",
       "      <td>2</td>\n",
       "      <td>2</td>\n",
       "      <td>2</td>\n",
       "      <td>2</td>\n",
       "      <td>3</td>\n",
       "      <td>1</td>\n",
       "      <td>4</td>\n",
       "      <td>2</td>\n",
       "      <td>3</td>\n",
       "      <td>2</td>\n",
       "    </tr>\n",
       "    <tr>\n",
       "      <th>103900</th>\n",
       "      <td>Business</td>\n",
       "      <td>4</td>\n",
       "      <td>4</td>\n",
       "      <td>4</td>\n",
       "      <td>4</td>\n",
       "      <td>2</td>\n",
       "      <td>4</td>\n",
       "      <td>5</td>\n",
       "      <td>5</td>\n",
       "      <td>5</td>\n",
       "      <td>5</td>\n",
       "      <td>5</td>\n",
       "      <td>5</td>\n",
       "      <td>5</td>\n",
       "      <td>4</td>\n",
       "    </tr>\n",
       "    <tr>\n",
       "      <th>103901</th>\n",
       "      <td>Business</td>\n",
       "      <td>1</td>\n",
       "      <td>1</td>\n",
       "      <td>1</td>\n",
       "      <td>3</td>\n",
       "      <td>4</td>\n",
       "      <td>1</td>\n",
       "      <td>5</td>\n",
       "      <td>4</td>\n",
       "      <td>3</td>\n",
       "      <td>2</td>\n",
       "      <td>4</td>\n",
       "      <td>5</td>\n",
       "      <td>5</td>\n",
       "      <td>4</td>\n",
       "    </tr>\n",
       "    <tr>\n",
       "      <th>103902</th>\n",
       "      <td>Eco</td>\n",
       "      <td>1</td>\n",
       "      <td>1</td>\n",
       "      <td>1</td>\n",
       "      <td>5</td>\n",
       "      <td>1</td>\n",
       "      <td>1</td>\n",
       "      <td>1</td>\n",
       "      <td>1</td>\n",
       "      <td>4</td>\n",
       "      <td>5</td>\n",
       "      <td>1</td>\n",
       "      <td>5</td>\n",
       "      <td>4</td>\n",
       "      <td>1</td>\n",
       "    </tr>\n",
       "    <tr>\n",
       "      <th>103903</th>\n",
       "      <td>Business</td>\n",
       "      <td>1</td>\n",
       "      <td>3</td>\n",
       "      <td>3</td>\n",
       "      <td>3</td>\n",
       "      <td>1</td>\n",
       "      <td>1</td>\n",
       "      <td>1</td>\n",
       "      <td>1</td>\n",
       "      <td>1</td>\n",
       "      <td>1</td>\n",
       "      <td>4</td>\n",
       "      <td>4</td>\n",
       "      <td>3</td>\n",
       "      <td>1</td>\n",
       "    </tr>\n",
       "  </tbody>\n",
       "</table>\n",
       "<p>103904 rows × 15 columns</p>\n",
       "</div>"
      ],
      "text/plain": [
       "           Class Inflight wifi service Departure/Arrival time convenient  \\\n",
       "0       Eco Plus                     3                                 4   \n",
       "1       Business                     3                                 2   \n",
       "2       Business                     2                                 2   \n",
       "3       Business                     2                                 5   \n",
       "4       Business                     3                                 3   \n",
       "...          ...                   ...                               ...   \n",
       "103899       Eco                     2                                 1   \n",
       "103900  Business                     4                                 4   \n",
       "103901  Business                     1                                 1   \n",
       "103902       Eco                     1                                 1   \n",
       "103903  Business                     1                                 3   \n",
       "\n",
       "       Ease of Online booking Gate location Food and drink Online boarding  \\\n",
       "0                           3             1              5               3   \n",
       "1                           3             3              1               3   \n",
       "2                           2             2              5               5   \n",
       "3                           5             5              2               2   \n",
       "4                           3             3              4               5   \n",
       "...                       ...           ...            ...             ...   \n",
       "103899                      2             3              2               2   \n",
       "103900                      4             4              2               4   \n",
       "103901                      1             3              4               1   \n",
       "103902                      1             5              1               1   \n",
       "103903                      3             3              1               1   \n",
       "\n",
       "       Seat comfort Inflight entertainment On-board service Leg room service  \\\n",
       "0                 5                      5                4                3   \n",
       "1                 1                      1                1                5   \n",
       "2                 5                      5                4                3   \n",
       "3                 2                      2                2                5   \n",
       "4                 5                      3                3                4   \n",
       "...             ...                    ...              ...              ...   \n",
       "103899            2                      2                3                1   \n",
       "103900            5                      5                5                5   \n",
       "103901            5                      4                3                2   \n",
       "103902            1                      1                4                5   \n",
       "103903            1                      1                1                1   \n",
       "\n",
       "       Baggage handling Checkin service Inflight service Cleanliness  \n",
       "0                     4               4                5           5  \n",
       "1                     3               1                4           1  \n",
       "2                     4               4                4           5  \n",
       "3                     3               1                4           2  \n",
       "4                     4               3                3           3  \n",
       "...                 ...             ...              ...         ...  \n",
       "103899                4               2                3           2  \n",
       "103900                5               5                5           4  \n",
       "103901                4               5                5           4  \n",
       "103902                1               5                4           1  \n",
       "103903                4               4                3           1  \n",
       "\n",
       "[103904 rows x 15 columns]"
      ]
     },
     "execution_count": 36,
     "metadata": {},
     "output_type": "execute_result"
    }
   ],
   "source": [
    "data[nonbinary_columns]"
   ]
  },
  {
   "cell_type": "markdown",
   "id": "8469aac9",
   "metadata": {
    "papermill": {
     "duration": 0.233184,
     "end_time": "2022-08-24T08:22:47.125716",
     "exception": false,
     "start_time": "2022-08-24T08:22:46.892532",
     "status": "completed"
    },
    "tags": []
   },
   "source": [
    "The following vectorization method is applicable to non-binary features:\n",
    "\n",
    "The feature j, which takes s values, will be replaced by s features, which take the values 0 or 1, depending on what the value of the original feature j is.\n",
    "\n",
    "This vectorization is carried out by the get_dummies method:"
   ]
  },
  {
   "cell_type": "code",
   "execution_count": 37,
   "id": "3bfe11bf",
   "metadata": {
    "execution": {
     "iopub.execute_input": "2022-08-24T08:22:47.593929Z",
     "iopub.status.busy": "2022-08-24T08:22:47.593122Z",
     "iopub.status.idle": "2022-08-24T08:22:47.674292Z",
     "shell.execute_reply": "2022-08-24T08:22:47.673582Z",
     "shell.execute_reply.started": "2022-02-06T20:16:15.342655Z"
    },
    "papermill": {
     "duration": 0.318415,
     "end_time": "2022-08-24T08:22:47.674460",
     "exception": false,
     "start_time": "2022-08-24T08:22:47.356045",
     "status": "completed"
    },
    "tags": []
   },
   "outputs": [
    {
     "name": "stdout",
     "output_type": "stream",
     "text": [
      "Index(['Class_Business', 'Class_Eco', 'Class_Eco Plus',\n",
      "       'Inflight wifi service_0', 'Inflight wifi service_1',\n",
      "       'Inflight wifi service_2', 'Inflight wifi service_3',\n",
      "       'Inflight wifi service_4', 'Inflight wifi service_5',\n",
      "       'Departure/Arrival time convenient_0',\n",
      "       'Departure/Arrival time convenient_1',\n",
      "       'Departure/Arrival time convenient_2',\n",
      "       'Departure/Arrival time convenient_3',\n",
      "       'Departure/Arrival time convenient_4',\n",
      "       'Departure/Arrival time convenient_5', 'Ease of Online booking_0',\n",
      "       'Ease of Online booking_1', 'Ease of Online booking_2',\n",
      "       'Ease of Online booking_3', 'Ease of Online booking_4',\n",
      "       'Ease of Online booking_5', 'Gate location_0', 'Gate location_1',\n",
      "       'Gate location_2', 'Gate location_3', 'Gate location_4',\n",
      "       'Gate location_5', 'Food and drink_0', 'Food and drink_1',\n",
      "       'Food and drink_2', 'Food and drink_3', 'Food and drink_4',\n",
      "       'Food and drink_5', 'Online boarding_0', 'Online boarding_1',\n",
      "       'Online boarding_2', 'Online boarding_3', 'Online boarding_4',\n",
      "       'Online boarding_5', 'Seat comfort_0', 'Seat comfort_1',\n",
      "       'Seat comfort_2', 'Seat comfort_3', 'Seat comfort_4', 'Seat comfort_5',\n",
      "       'Inflight entertainment_0', 'Inflight entertainment_1',\n",
      "       'Inflight entertainment_2', 'Inflight entertainment_3',\n",
      "       'Inflight entertainment_4', 'Inflight entertainment_5',\n",
      "       'On-board service_0', 'On-board service_1', 'On-board service_2',\n",
      "       'On-board service_3', 'On-board service_4', 'On-board service_5',\n",
      "       'Leg room service_0', 'Leg room service_1', 'Leg room service_2',\n",
      "       'Leg room service_3', 'Leg room service_4', 'Leg room service_5',\n",
      "       'Baggage handling_1', 'Baggage handling_2', 'Baggage handling_3',\n",
      "       'Baggage handling_4', 'Baggage handling_5', 'Checkin service_0',\n",
      "       'Checkin service_1', 'Checkin service_2', 'Checkin service_3',\n",
      "       'Checkin service_4', 'Checkin service_5', 'Inflight service_0',\n",
      "       'Inflight service_1', 'Inflight service_2', 'Inflight service_3',\n",
      "       'Inflight service_4', 'Inflight service_5', 'Cleanliness_0',\n",
      "       'Cleanliness_1', 'Cleanliness_2', 'Cleanliness_3', 'Cleanliness_4',\n",
      "       'Cleanliness_5'],\n",
      "      dtype='object')\n"
     ]
    }
   ],
   "source": [
    "data_nonbinary = pd.get_dummies(data[nonbinary_columns])\n",
    "print(data_nonbinary.columns)"
   ]
  },
  {
   "cell_type": "code",
   "execution_count": 38,
   "id": "0f2b6e45",
   "metadata": {
    "execution": {
     "iopub.execute_input": "2022-08-24T08:22:48.150612Z",
     "iopub.status.busy": "2022-08-24T08:22:48.148186Z",
     "iopub.status.idle": "2022-08-24T08:22:48.153748Z",
     "shell.execute_reply": "2022-08-24T08:22:48.154416Z",
     "shell.execute_reply.started": "2022-02-06T20:16:15.422910Z"
    },
    "papermill": {
     "duration": 0.246184,
     "end_time": "2022-08-24T08:22:48.154653",
     "exception": false,
     "start_time": "2022-08-24T08:22:47.908469",
     "status": "completed"
    },
    "tags": []
   },
   "outputs": [
    {
     "data": {
      "text/plain": [
       "86"
      ]
     },
     "execution_count": 38,
     "metadata": {},
     "output_type": "execute_result"
    }
   ],
   "source": [
    "len(data_nonbinary.columns)"
   ]
  },
  {
   "cell_type": "markdown",
   "id": "bf39c4f1",
   "metadata": {
    "papermill": {
     "duration": 0.222069,
     "end_time": "2022-08-24T08:22:48.632515",
     "exception": false,
     "start_time": "2022-08-24T08:22:48.410446",
     "status": "completed"
    },
    "tags": []
   },
   "source": [
    "<div style=\"border-width:1; border-radius: 15px; border-style: solid; border-color: rgb(10, 10, 10); background-color: #52ab98; text-align: center;font: 14pt 'Candara';font-weight:bold;\"><h1>Normalization of quantitative features</h1></div>"
   ]
  },
  {
   "cell_type": "markdown",
   "id": "dcc66a95",
   "metadata": {
    "papermill": {
     "duration": 0.263971,
     "end_time": "2022-08-24T08:22:49.119943",
     "exception": false,
     "start_time": "2022-08-24T08:22:48.855972",
     "status": "completed"
    },
    "tags": []
   },
   "source": [
    "We have the following quantitative characteristics:"
   ]
  },
  {
   "cell_type": "code",
   "execution_count": 39,
   "id": "b02ac547",
   "metadata": {
    "execution": {
     "iopub.execute_input": "2022-08-24T08:22:49.569105Z",
     "iopub.status.busy": "2022-08-24T08:22:49.568071Z",
     "iopub.status.idle": "2022-08-24T08:22:49.611978Z",
     "shell.execute_reply": "2022-08-24T08:22:49.611408Z",
     "shell.execute_reply.started": "2022-02-06T20:16:15.430968Z"
    },
    "papermill": {
     "duration": 0.269632,
     "end_time": "2022-08-24T08:22:49.612190",
     "exception": false,
     "start_time": "2022-08-24T08:22:49.342558",
     "status": "completed"
    },
    "tags": []
   },
   "outputs": [
    {
     "data": {
      "text/html": [
       "<div>\n",
       "<style scoped>\n",
       "    .dataframe tbody tr th:only-of-type {\n",
       "        vertical-align: middle;\n",
       "    }\n",
       "\n",
       "    .dataframe tbody tr th {\n",
       "        vertical-align: top;\n",
       "    }\n",
       "\n",
       "    .dataframe thead th {\n",
       "        text-align: right;\n",
       "    }\n",
       "</style>\n",
       "<table border=\"1\" class=\"dataframe\">\n",
       "  <thead>\n",
       "    <tr style=\"text-align: right;\">\n",
       "      <th></th>\n",
       "      <th>Age</th>\n",
       "      <th>Flight Distance</th>\n",
       "      <th>Departure Delay in Minutes</th>\n",
       "      <th>Arrival Delay in Minutes</th>\n",
       "    </tr>\n",
       "  </thead>\n",
       "  <tbody>\n",
       "    <tr>\n",
       "      <th>count</th>\n",
       "      <td>103904.000000</td>\n",
       "      <td>103904.000000</td>\n",
       "      <td>103904.000000</td>\n",
       "      <td>103904.000000</td>\n",
       "    </tr>\n",
       "    <tr>\n",
       "      <th>mean</th>\n",
       "      <td>39.379706</td>\n",
       "      <td>1189.448375</td>\n",
       "      <td>14.815618</td>\n",
       "      <td>15.133392</td>\n",
       "    </tr>\n",
       "    <tr>\n",
       "      <th>std</th>\n",
       "      <td>15.114964</td>\n",
       "      <td>997.147281</td>\n",
       "      <td>38.230901</td>\n",
       "      <td>38.649776</td>\n",
       "    </tr>\n",
       "    <tr>\n",
       "      <th>min</th>\n",
       "      <td>7.000000</td>\n",
       "      <td>31.000000</td>\n",
       "      <td>0.000000</td>\n",
       "      <td>0.000000</td>\n",
       "    </tr>\n",
       "    <tr>\n",
       "      <th>25%</th>\n",
       "      <td>27.000000</td>\n",
       "      <td>414.000000</td>\n",
       "      <td>0.000000</td>\n",
       "      <td>0.000000</td>\n",
       "    </tr>\n",
       "    <tr>\n",
       "      <th>50%</th>\n",
       "      <td>40.000000</td>\n",
       "      <td>843.000000</td>\n",
       "      <td>0.000000</td>\n",
       "      <td>0.000000</td>\n",
       "    </tr>\n",
       "    <tr>\n",
       "      <th>75%</th>\n",
       "      <td>51.000000</td>\n",
       "      <td>1743.000000</td>\n",
       "      <td>12.000000</td>\n",
       "      <td>13.000000</td>\n",
       "    </tr>\n",
       "    <tr>\n",
       "      <th>max</th>\n",
       "      <td>85.000000</td>\n",
       "      <td>4983.000000</td>\n",
       "      <td>1592.000000</td>\n",
       "      <td>1584.000000</td>\n",
       "    </tr>\n",
       "  </tbody>\n",
       "</table>\n",
       "</div>"
      ],
      "text/plain": [
       "                 Age  Flight Distance  Departure Delay in Minutes  \\\n",
       "count  103904.000000    103904.000000               103904.000000   \n",
       "mean       39.379706      1189.448375                   14.815618   \n",
       "std        15.114964       997.147281                   38.230901   \n",
       "min         7.000000        31.000000                    0.000000   \n",
       "25%        27.000000       414.000000                    0.000000   \n",
       "50%        40.000000       843.000000                    0.000000   \n",
       "75%        51.000000      1743.000000                   12.000000   \n",
       "max        85.000000      4983.000000                 1592.000000   \n",
       "\n",
       "       Arrival Delay in Minutes  \n",
       "count             103904.000000  \n",
       "mean                  15.133392  \n",
       "std                   38.649776  \n",
       "min                    0.000000  \n",
       "25%                    0.000000  \n",
       "50%                    0.000000  \n",
       "75%                   13.000000  \n",
       "max                 1584.000000  "
      ]
     },
     "execution_count": 39,
     "metadata": {},
     "output_type": "execute_result"
    }
   ],
   "source": [
    "data_numerical = data[numerical_columns]\n",
    "data_numerical.describe()"
   ]
  },
  {
   "cell_type": "markdown",
   "id": "0d2a145f",
   "metadata": {
    "papermill": {
     "duration": 0.22649,
     "end_time": "2022-08-24T08:22:50.060875",
     "exception": false,
     "start_time": "2022-08-24T08:22:49.834385",
     "status": "completed"
    },
    "tags": []
   },
   "source": [
    "Let's perform a <b>standardization</b> (<em>linear transformation that reduces all values to zero mean and one standard deviation</em>) of all quantitative features:"
   ]
  },
  {
   "cell_type": "code",
   "execution_count": 40,
   "id": "ccdd591d",
   "metadata": {
    "execution": {
     "iopub.execute_input": "2022-08-24T08:22:50.518519Z",
     "iopub.status.busy": "2022-08-24T08:22:50.517347Z",
     "iopub.status.idle": "2022-08-24T08:22:50.530029Z",
     "shell.execute_reply": "2022-08-24T08:22:50.529398Z",
     "shell.execute_reply.started": "2022-02-06T20:16:15.476162Z"
    },
    "papermill": {
     "duration": 0.246349,
     "end_time": "2022-08-24T08:22:50.530197",
     "exception": false,
     "start_time": "2022-08-24T08:22:50.283848",
     "status": "completed"
    },
    "tags": []
   },
   "outputs": [],
   "source": [
    "data_numerical = (data_numerical - data_numerical.mean(axis = 0))/data_numerical.std(axis = 0)"
   ]
  },
  {
   "cell_type": "code",
   "execution_count": 41,
   "id": "ce1fd4c8",
   "metadata": {
    "execution": {
     "iopub.execute_input": "2022-08-24T08:22:50.984539Z",
     "iopub.status.busy": "2022-08-24T08:22:50.983760Z",
     "iopub.status.idle": "2022-08-24T08:22:51.032814Z",
     "shell.execute_reply": "2022-08-24T08:22:51.033313Z",
     "shell.execute_reply.started": "2022-02-06T20:16:15.489140Z"
    },
    "papermill": {
     "duration": 0.278963,
     "end_time": "2022-08-24T08:22:51.033507",
     "exception": false,
     "start_time": "2022-08-24T08:22:50.754544",
     "status": "completed"
    },
    "tags": []
   },
   "outputs": [
    {
     "data": {
      "text/html": [
       "<div>\n",
       "<style scoped>\n",
       "    .dataframe tbody tr th:only-of-type {\n",
       "        vertical-align: middle;\n",
       "    }\n",
       "\n",
       "    .dataframe tbody tr th {\n",
       "        vertical-align: top;\n",
       "    }\n",
       "\n",
       "    .dataframe thead th {\n",
       "        text-align: right;\n",
       "    }\n",
       "</style>\n",
       "<table border=\"1\" class=\"dataframe\">\n",
       "  <thead>\n",
       "    <tr style=\"text-align: right;\">\n",
       "      <th></th>\n",
       "      <th>Age</th>\n",
       "      <th>Flight Distance</th>\n",
       "      <th>Departure Delay in Minutes</th>\n",
       "      <th>Arrival Delay in Minutes</th>\n",
       "    </tr>\n",
       "  </thead>\n",
       "  <tbody>\n",
       "    <tr>\n",
       "      <th>count</th>\n",
       "      <td>1.039040e+05</td>\n",
       "      <td>1.039040e+05</td>\n",
       "      <td>1.039040e+05</td>\n",
       "      <td>1.039040e+05</td>\n",
       "    </tr>\n",
       "    <tr>\n",
       "      <th>mean</th>\n",
       "      <td>-2.062606e-16</td>\n",
       "      <td>1.667322e-16</td>\n",
       "      <td>4.673560e-16</td>\n",
       "      <td>1.740579e-16</td>\n",
       "    </tr>\n",
       "    <tr>\n",
       "      <th>std</th>\n",
       "      <td>1.000000e+00</td>\n",
       "      <td>1.000000e+00</td>\n",
       "      <td>1.000000e+00</td>\n",
       "      <td>1.000000e+00</td>\n",
       "    </tr>\n",
       "    <tr>\n",
       "      <th>min</th>\n",
       "      <td>-2.142229e+00</td>\n",
       "      <td>-1.161763e+00</td>\n",
       "      <td>-3.875299e-01</td>\n",
       "      <td>-3.915519e-01</td>\n",
       "    </tr>\n",
       "    <tr>\n",
       "      <th>25%</th>\n",
       "      <td>-8.190365e-01</td>\n",
       "      <td>-7.776668e-01</td>\n",
       "      <td>-3.875299e-01</td>\n",
       "      <td>-3.915519e-01</td>\n",
       "    </tr>\n",
       "    <tr>\n",
       "      <th>50%</th>\n",
       "      <td>4.103839e-02</td>\n",
       "      <td>-3.474395e-01</td>\n",
       "      <td>-3.875299e-01</td>\n",
       "      <td>-3.915519e-01</td>\n",
       "    </tr>\n",
       "    <tr>\n",
       "      <th>75%</th>\n",
       "      <td>7.687940e-01</td>\n",
       "      <td>5.551353e-01</td>\n",
       "      <td>-7.364771e-02</td>\n",
       "      <td>-5.519805e-02</td>\n",
       "    </tr>\n",
       "    <tr>\n",
       "      <th>max</th>\n",
       "      <td>3.018221e+00</td>\n",
       "      <td>3.804405e+00</td>\n",
       "      <td>4.125418e+01</td>\n",
       "      <td>4.059187e+01</td>\n",
       "    </tr>\n",
       "  </tbody>\n",
       "</table>\n",
       "</div>"
      ],
      "text/plain": [
       "                Age  Flight Distance  Departure Delay in Minutes  \\\n",
       "count  1.039040e+05     1.039040e+05                1.039040e+05   \n",
       "mean  -2.062606e-16     1.667322e-16                4.673560e-16   \n",
       "std    1.000000e+00     1.000000e+00                1.000000e+00   \n",
       "min   -2.142229e+00    -1.161763e+00               -3.875299e-01   \n",
       "25%   -8.190365e-01    -7.776668e-01               -3.875299e-01   \n",
       "50%    4.103839e-02    -3.474395e-01               -3.875299e-01   \n",
       "75%    7.687940e-01     5.551353e-01               -7.364771e-02   \n",
       "max    3.018221e+00     3.804405e+00                4.125418e+01   \n",
       "\n",
       "       Arrival Delay in Minutes  \n",
       "count              1.039040e+05  \n",
       "mean               1.740579e-16  \n",
       "std                1.000000e+00  \n",
       "min               -3.915519e-01  \n",
       "25%               -3.915519e-01  \n",
       "50%               -3.915519e-01  \n",
       "75%               -5.519805e-02  \n",
       "max                4.059187e+01  "
      ]
     },
     "execution_count": 41,
     "metadata": {},
     "output_type": "execute_result"
    }
   ],
   "source": [
    "data_numerical.describe()"
   ]
  },
  {
   "cell_type": "markdown",
   "id": "fc6d11fd",
   "metadata": {
    "papermill": {
     "duration": 0.231913,
     "end_time": "2022-08-24T08:22:51.496746",
     "exception": false,
     "start_time": "2022-08-24T08:22:51.264833",
     "status": "completed"
    },
    "tags": []
   },
   "source": [
    "<div style=\"border-width:1; border-radius: 15px; border-style: solid; border-color: rgb(10, 10, 10); background-color: #52ab98; text-align: center;font: 14pt 'Candara';font-weight:bold;\"><h1>Table formation</h1></div>"
   ]
  },
  {
   "cell_type": "markdown",
   "id": "74d0f627",
   "metadata": {
    "papermill": {
     "duration": 0.237461,
     "end_time": "2022-08-24T08:22:51.969751",
     "exception": false,
     "start_time": "2022-08-24T08:22:51.732290",
     "status": "completed"
    },
    "tags": []
   },
   "source": [
    "We join all the transformed columns into one table:"
   ]
  },
  {
   "cell_type": "code",
   "execution_count": 42,
   "id": "fbbe1ae0",
   "metadata": {
    "execution": {
     "iopub.execute_input": "2022-08-24T08:22:52.451784Z",
     "iopub.status.busy": "2022-08-24T08:22:52.450958Z",
     "iopub.status.idle": "2022-08-24T08:22:52.481442Z",
     "shell.execute_reply": "2022-08-24T08:22:52.481924Z",
     "shell.execute_reply.started": "2022-02-06T20:16:15.533217Z"
    },
    "papermill": {
     "duration": 0.272631,
     "end_time": "2022-08-24T08:22:52.482164",
     "exception": false,
     "start_time": "2022-08-24T08:22:52.209533",
     "status": "completed"
    },
    "tags": []
   },
   "outputs": [
    {
     "name": "stdout",
     "output_type": "stream",
     "text": [
      "(103904, 93)\n"
     ]
    }
   ],
   "source": [
    "target = data['satisfaction']\n",
    "data = pd.concat((data_numerical, data_nonbinary, data[binary_columns]), axis = 1)\n",
    "print(data.shape)"
   ]
  },
  {
   "cell_type": "markdown",
   "id": "82b9deb7",
   "metadata": {
    "papermill": {
     "duration": 0.232304,
     "end_time": "2022-08-24T08:22:52.954394",
     "exception": false,
     "start_time": "2022-08-24T08:22:52.722090",
     "status": "completed"
    },
    "tags": []
   },
   "source": [
    "Now it looks like this:"
   ]
  },
  {
   "cell_type": "code",
   "execution_count": 43,
   "id": "303237da",
   "metadata": {
    "execution": {
     "iopub.execute_input": "2022-08-24T08:22:53.464198Z",
     "iopub.status.busy": "2022-08-24T08:22:53.463475Z",
     "iopub.status.idle": "2022-08-24T08:22:53.837880Z",
     "shell.execute_reply": "2022-08-24T08:22:53.838447Z",
     "shell.execute_reply.started": "2022-02-06T20:16:15.554062Z"
    },
    "papermill": {
     "duration": 0.648028,
     "end_time": "2022-08-24T08:22:53.838665",
     "exception": false,
     "start_time": "2022-08-24T08:22:53.190637",
     "status": "completed"
    },
    "tags": []
   },
   "outputs": [
    {
     "data": {
      "text/html": [
       "<div>\n",
       "<style scoped>\n",
       "    .dataframe tbody tr th:only-of-type {\n",
       "        vertical-align: middle;\n",
       "    }\n",
       "\n",
       "    .dataframe tbody tr th {\n",
       "        vertical-align: top;\n",
       "    }\n",
       "\n",
       "    .dataframe thead th {\n",
       "        text-align: right;\n",
       "    }\n",
       "</style>\n",
       "<table border=\"1\" class=\"dataframe\">\n",
       "  <thead>\n",
       "    <tr style=\"text-align: right;\">\n",
       "      <th></th>\n",
       "      <th>Age</th>\n",
       "      <th>Flight Distance</th>\n",
       "      <th>Departure Delay in Minutes</th>\n",
       "      <th>Arrival Delay in Minutes</th>\n",
       "      <th>Class_Business</th>\n",
       "      <th>Class_Eco</th>\n",
       "      <th>Class_Eco Plus</th>\n",
       "      <th>Inflight wifi service_0</th>\n",
       "      <th>Inflight wifi service_1</th>\n",
       "      <th>Inflight wifi service_2</th>\n",
       "      <th>...</th>\n",
       "      <th>Inflight service_2</th>\n",
       "      <th>Inflight service_3</th>\n",
       "      <th>Inflight service_4</th>\n",
       "      <th>Inflight service_5</th>\n",
       "      <th>Cleanliness_0</th>\n",
       "      <th>Cleanliness_1</th>\n",
       "      <th>Cleanliness_2</th>\n",
       "      <th>Cleanliness_3</th>\n",
       "      <th>Cleanliness_4</th>\n",
       "      <th>Cleanliness_5</th>\n",
       "    </tr>\n",
       "  </thead>\n",
       "  <tbody>\n",
       "    <tr>\n",
       "      <th>count</th>\n",
       "      <td>1.039040e+05</td>\n",
       "      <td>1.039040e+05</td>\n",
       "      <td>1.039040e+05</td>\n",
       "      <td>1.039040e+05</td>\n",
       "      <td>103904.000000</td>\n",
       "      <td>103904.000000</td>\n",
       "      <td>103904.000000</td>\n",
       "      <td>103904.000000</td>\n",
       "      <td>103904.000000</td>\n",
       "      <td>103904.000000</td>\n",
       "      <td>...</td>\n",
       "      <td>103904.000000</td>\n",
       "      <td>103904.000000</td>\n",
       "      <td>103904.000000</td>\n",
       "      <td>103904.000000</td>\n",
       "      <td>103904.000000</td>\n",
       "      <td>103904.000000</td>\n",
       "      <td>103904.000000</td>\n",
       "      <td>103904.000000</td>\n",
       "      <td>103904.000000</td>\n",
       "      <td>103904.000000</td>\n",
       "    </tr>\n",
       "    <tr>\n",
       "      <th>mean</th>\n",
       "      <td>-2.062606e-16</td>\n",
       "      <td>1.667322e-16</td>\n",
       "      <td>4.673560e-16</td>\n",
       "      <td>1.740579e-16</td>\n",
       "      <td>0.477989</td>\n",
       "      <td>0.449886</td>\n",
       "      <td>0.072124</td>\n",
       "      <td>0.029864</td>\n",
       "      <td>0.171697</td>\n",
       "      <td>0.248595</td>\n",
       "      <td>...</td>\n",
       "      <td>0.110265</td>\n",
       "      <td>0.195363</td>\n",
       "      <td>0.365193</td>\n",
       "      <td>0.260972</td>\n",
       "      <td>0.000115</td>\n",
       "      <td>0.128176</td>\n",
       "      <td>0.155259</td>\n",
       "      <td>0.236507</td>\n",
       "      <td>0.261578</td>\n",
       "      <td>0.218365</td>\n",
       "    </tr>\n",
       "    <tr>\n",
       "      <th>std</th>\n",
       "      <td>1.000000e+00</td>\n",
       "      <td>1.000000e+00</td>\n",
       "      <td>1.000000e+00</td>\n",
       "      <td>1.000000e+00</td>\n",
       "      <td>0.499518</td>\n",
       "      <td>0.497485</td>\n",
       "      <td>0.258695</td>\n",
       "      <td>0.170213</td>\n",
       "      <td>0.377119</td>\n",
       "      <td>0.432200</td>\n",
       "      <td>...</td>\n",
       "      <td>0.313222</td>\n",
       "      <td>0.396482</td>\n",
       "      <td>0.481487</td>\n",
       "      <td>0.439167</td>\n",
       "      <td>0.010746</td>\n",
       "      <td>0.334287</td>\n",
       "      <td>0.362153</td>\n",
       "      <td>0.424939</td>\n",
       "      <td>0.439496</td>\n",
       "      <td>0.413138</td>\n",
       "    </tr>\n",
       "    <tr>\n",
       "      <th>min</th>\n",
       "      <td>-2.142229e+00</td>\n",
       "      <td>-1.161763e+00</td>\n",
       "      <td>-3.875299e-01</td>\n",
       "      <td>-3.915519e-01</td>\n",
       "      <td>0.000000</td>\n",
       "      <td>0.000000</td>\n",
       "      <td>0.000000</td>\n",
       "      <td>0.000000</td>\n",
       "      <td>0.000000</td>\n",
       "      <td>0.000000</td>\n",
       "      <td>...</td>\n",
       "      <td>0.000000</td>\n",
       "      <td>0.000000</td>\n",
       "      <td>0.000000</td>\n",
       "      <td>0.000000</td>\n",
       "      <td>0.000000</td>\n",
       "      <td>0.000000</td>\n",
       "      <td>0.000000</td>\n",
       "      <td>0.000000</td>\n",
       "      <td>0.000000</td>\n",
       "      <td>0.000000</td>\n",
       "    </tr>\n",
       "    <tr>\n",
       "      <th>25%</th>\n",
       "      <td>-8.190365e-01</td>\n",
       "      <td>-7.776668e-01</td>\n",
       "      <td>-3.875299e-01</td>\n",
       "      <td>-3.915519e-01</td>\n",
       "      <td>0.000000</td>\n",
       "      <td>0.000000</td>\n",
       "      <td>0.000000</td>\n",
       "      <td>0.000000</td>\n",
       "      <td>0.000000</td>\n",
       "      <td>0.000000</td>\n",
       "      <td>...</td>\n",
       "      <td>0.000000</td>\n",
       "      <td>0.000000</td>\n",
       "      <td>0.000000</td>\n",
       "      <td>0.000000</td>\n",
       "      <td>0.000000</td>\n",
       "      <td>0.000000</td>\n",
       "      <td>0.000000</td>\n",
       "      <td>0.000000</td>\n",
       "      <td>0.000000</td>\n",
       "      <td>0.000000</td>\n",
       "    </tr>\n",
       "    <tr>\n",
       "      <th>50%</th>\n",
       "      <td>4.103839e-02</td>\n",
       "      <td>-3.474395e-01</td>\n",
       "      <td>-3.875299e-01</td>\n",
       "      <td>-3.915519e-01</td>\n",
       "      <td>0.000000</td>\n",
       "      <td>0.000000</td>\n",
       "      <td>0.000000</td>\n",
       "      <td>0.000000</td>\n",
       "      <td>0.000000</td>\n",
       "      <td>0.000000</td>\n",
       "      <td>...</td>\n",
       "      <td>0.000000</td>\n",
       "      <td>0.000000</td>\n",
       "      <td>0.000000</td>\n",
       "      <td>0.000000</td>\n",
       "      <td>0.000000</td>\n",
       "      <td>0.000000</td>\n",
       "      <td>0.000000</td>\n",
       "      <td>0.000000</td>\n",
       "      <td>0.000000</td>\n",
       "      <td>0.000000</td>\n",
       "    </tr>\n",
       "    <tr>\n",
       "      <th>75%</th>\n",
       "      <td>7.687940e-01</td>\n",
       "      <td>5.551353e-01</td>\n",
       "      <td>-7.364771e-02</td>\n",
       "      <td>-5.519805e-02</td>\n",
       "      <td>1.000000</td>\n",
       "      <td>1.000000</td>\n",
       "      <td>0.000000</td>\n",
       "      <td>0.000000</td>\n",
       "      <td>0.000000</td>\n",
       "      <td>0.000000</td>\n",
       "      <td>...</td>\n",
       "      <td>0.000000</td>\n",
       "      <td>0.000000</td>\n",
       "      <td>1.000000</td>\n",
       "      <td>1.000000</td>\n",
       "      <td>0.000000</td>\n",
       "      <td>0.000000</td>\n",
       "      <td>0.000000</td>\n",
       "      <td>0.000000</td>\n",
       "      <td>1.000000</td>\n",
       "      <td>0.000000</td>\n",
       "    </tr>\n",
       "    <tr>\n",
       "      <th>max</th>\n",
       "      <td>3.018221e+00</td>\n",
       "      <td>3.804405e+00</td>\n",
       "      <td>4.125418e+01</td>\n",
       "      <td>4.059187e+01</td>\n",
       "      <td>1.000000</td>\n",
       "      <td>1.000000</td>\n",
       "      <td>1.000000</td>\n",
       "      <td>1.000000</td>\n",
       "      <td>1.000000</td>\n",
       "      <td>1.000000</td>\n",
       "      <td>...</td>\n",
       "      <td>1.000000</td>\n",
       "      <td>1.000000</td>\n",
       "      <td>1.000000</td>\n",
       "      <td>1.000000</td>\n",
       "      <td>1.000000</td>\n",
       "      <td>1.000000</td>\n",
       "      <td>1.000000</td>\n",
       "      <td>1.000000</td>\n",
       "      <td>1.000000</td>\n",
       "      <td>1.000000</td>\n",
       "    </tr>\n",
       "  </tbody>\n",
       "</table>\n",
       "<p>8 rows × 90 columns</p>\n",
       "</div>"
      ],
      "text/plain": [
       "                Age  Flight Distance  Departure Delay in Minutes  \\\n",
       "count  1.039040e+05     1.039040e+05                1.039040e+05   \n",
       "mean  -2.062606e-16     1.667322e-16                4.673560e-16   \n",
       "std    1.000000e+00     1.000000e+00                1.000000e+00   \n",
       "min   -2.142229e+00    -1.161763e+00               -3.875299e-01   \n",
       "25%   -8.190365e-01    -7.776668e-01               -3.875299e-01   \n",
       "50%    4.103839e-02    -3.474395e-01               -3.875299e-01   \n",
       "75%    7.687940e-01     5.551353e-01               -7.364771e-02   \n",
       "max    3.018221e+00     3.804405e+00                4.125418e+01   \n",
       "\n",
       "       Arrival Delay in Minutes  Class_Business      Class_Eco  \\\n",
       "count              1.039040e+05   103904.000000  103904.000000   \n",
       "mean               1.740579e-16        0.477989       0.449886   \n",
       "std                1.000000e+00        0.499518       0.497485   \n",
       "min               -3.915519e-01        0.000000       0.000000   \n",
       "25%               -3.915519e-01        0.000000       0.000000   \n",
       "50%               -3.915519e-01        0.000000       0.000000   \n",
       "75%               -5.519805e-02        1.000000       1.000000   \n",
       "max                4.059187e+01        1.000000       1.000000   \n",
       "\n",
       "       Class_Eco Plus  Inflight wifi service_0  Inflight wifi service_1  \\\n",
       "count   103904.000000            103904.000000            103904.000000   \n",
       "mean         0.072124                 0.029864                 0.171697   \n",
       "std          0.258695                 0.170213                 0.377119   \n",
       "min          0.000000                 0.000000                 0.000000   \n",
       "25%          0.000000                 0.000000                 0.000000   \n",
       "50%          0.000000                 0.000000                 0.000000   \n",
       "75%          0.000000                 0.000000                 0.000000   \n",
       "max          1.000000                 1.000000                 1.000000   \n",
       "\n",
       "       Inflight wifi service_2  ...  Inflight service_2  Inflight service_3  \\\n",
       "count            103904.000000  ...       103904.000000       103904.000000   \n",
       "mean                  0.248595  ...            0.110265            0.195363   \n",
       "std                   0.432200  ...            0.313222            0.396482   \n",
       "min                   0.000000  ...            0.000000            0.000000   \n",
       "25%                   0.000000  ...            0.000000            0.000000   \n",
       "50%                   0.000000  ...            0.000000            0.000000   \n",
       "75%                   0.000000  ...            0.000000            0.000000   \n",
       "max                   1.000000  ...            1.000000            1.000000   \n",
       "\n",
       "       Inflight service_4  Inflight service_5  Cleanliness_0  Cleanliness_1  \\\n",
       "count       103904.000000       103904.000000  103904.000000  103904.000000   \n",
       "mean             0.365193            0.260972       0.000115       0.128176   \n",
       "std              0.481487            0.439167       0.010746       0.334287   \n",
       "min              0.000000            0.000000       0.000000       0.000000   \n",
       "25%              0.000000            0.000000       0.000000       0.000000   \n",
       "50%              0.000000            0.000000       0.000000       0.000000   \n",
       "75%              1.000000            1.000000       0.000000       0.000000   \n",
       "max              1.000000            1.000000       1.000000       1.000000   \n",
       "\n",
       "       Cleanliness_2  Cleanliness_3  Cleanliness_4  Cleanliness_5  \n",
       "count  103904.000000  103904.000000  103904.000000  103904.000000  \n",
       "mean        0.155259       0.236507       0.261578       0.218365  \n",
       "std         0.362153       0.424939       0.439496       0.413138  \n",
       "min         0.000000       0.000000       0.000000       0.000000  \n",
       "25%         0.000000       0.000000       0.000000       0.000000  \n",
       "50%         0.000000       0.000000       0.000000       0.000000  \n",
       "75%         0.000000       0.000000       1.000000       0.000000  \n",
       "max         1.000000       1.000000       1.000000       1.000000  \n",
       "\n",
       "[8 rows x 90 columns]"
      ]
     },
     "execution_count": 43,
     "metadata": {},
     "output_type": "execute_result"
    }
   ],
   "source": [
    "data.describe()"
   ]
  },
  {
   "cell_type": "markdown",
   "id": "4acf6743",
   "metadata": {
    "papermill": {
     "duration": 0.22757,
     "end_time": "2022-08-24T08:22:54.316329",
     "exception": false,
     "start_time": "2022-08-24T08:22:54.088759",
     "status": "completed"
    },
    "tags": []
   },
   "source": [
    "<div style=\"border-width:1; border-radius: 15px; border-style: solid; border-color: rgb(10, 10, 10); background-color: #52ab98; text-align: center;font: 14pt 'Candara';font-weight:bold;\"><h1>Splitting the data on training and test sets</h1></div>"
   ]
  },
  {
   "cell_type": "markdown",
   "id": "c3586ad7",
   "metadata": {
    "papermill": {
     "duration": 0.226514,
     "end_time": "2022-08-24T08:22:54.770601",
     "exception": false,
     "start_time": "2022-08-24T08:22:54.544087",
     "status": "completed"
    },
    "tags": []
   },
   "source": [
    "Get <b>X</b> and <b>y</b>:"
   ]
  },
  {
   "cell_type": "code",
   "execution_count": 44,
   "id": "fe539003",
   "metadata": {
    "execution": {
     "iopub.execute_input": "2022-08-24T08:22:55.230229Z",
     "iopub.status.busy": "2022-08-24T08:22:55.229422Z",
     "iopub.status.idle": "2022-08-24T08:22:55.234773Z",
     "shell.execute_reply": "2022-08-24T08:22:55.235420Z",
     "shell.execute_reply.started": "2022-02-06T20:16:15.937730Z"
    },
    "papermill": {
     "duration": 0.237392,
     "end_time": "2022-08-24T08:22:55.235631",
     "exception": false,
     "start_time": "2022-08-24T08:22:54.998239",
     "status": "completed"
    },
    "tags": []
   },
   "outputs": [
    {
     "data": {
      "text/plain": [
       "(103904, 93)"
      ]
     },
     "execution_count": 44,
     "metadata": {},
     "output_type": "execute_result"
    }
   ],
   "source": [
    "X = data\n",
    "y = target\n",
    "N, d = X.shape\n",
    "N, d"
   ]
  },
  {
   "cell_type": "code",
   "execution_count": 45,
   "id": "40fe69f2",
   "metadata": {
    "execution": {
     "iopub.execute_input": "2022-08-24T08:22:55.690663Z",
     "iopub.status.busy": "2022-08-24T08:22:55.689627Z",
     "iopub.status.idle": "2022-08-24T08:22:55.696393Z",
     "shell.execute_reply": "2022-08-24T08:22:55.695699Z",
     "shell.execute_reply.started": "2022-02-06T20:16:15.946265Z"
    },
    "papermill": {
     "duration": 0.236618,
     "end_time": "2022-08-24T08:22:55.696558",
     "exception": false,
     "start_time": "2022-08-24T08:22:55.459940",
     "status": "completed"
    },
    "tags": []
   },
   "outputs": [
    {
     "data": {
      "text/plain": [
       "Index(['Age', 'Flight Distance', 'Departure Delay in Minutes',\n",
       "       'Arrival Delay in Minutes', 'Class_Business', 'Class_Eco',\n",
       "       'Class_Eco Plus', 'Inflight wifi service_0', 'Inflight wifi service_1',\n",
       "       'Inflight wifi service_2', 'Inflight wifi service_3',\n",
       "       'Inflight wifi service_4', 'Inflight wifi service_5',\n",
       "       'Departure/Arrival time convenient_0',\n",
       "       'Departure/Arrival time convenient_1',\n",
       "       'Departure/Arrival time convenient_2',\n",
       "       'Departure/Arrival time convenient_3',\n",
       "       'Departure/Arrival time convenient_4',\n",
       "       'Departure/Arrival time convenient_5', 'Ease of Online booking_0',\n",
       "       'Ease of Online booking_1', 'Ease of Online booking_2',\n",
       "       'Ease of Online booking_3', 'Ease of Online booking_4',\n",
       "       'Ease of Online booking_5', 'Gate location_0', 'Gate location_1',\n",
       "       'Gate location_2', 'Gate location_3', 'Gate location_4',\n",
       "       'Gate location_5', 'Food and drink_0', 'Food and drink_1',\n",
       "       'Food and drink_2', 'Food and drink_3', 'Food and drink_4',\n",
       "       'Food and drink_5', 'Online boarding_0', 'Online boarding_1',\n",
       "       'Online boarding_2', 'Online boarding_3', 'Online boarding_4',\n",
       "       'Online boarding_5', 'Seat comfort_0', 'Seat comfort_1',\n",
       "       'Seat comfort_2', 'Seat comfort_3', 'Seat comfort_4', 'Seat comfort_5',\n",
       "       'Inflight entertainment_0', 'Inflight entertainment_1',\n",
       "       'Inflight entertainment_2', 'Inflight entertainment_3',\n",
       "       'Inflight entertainment_4', 'Inflight entertainment_5',\n",
       "       'On-board service_0', 'On-board service_1', 'On-board service_2',\n",
       "       'On-board service_3', 'On-board service_4', 'On-board service_5',\n",
       "       'Leg room service_0', 'Leg room service_1', 'Leg room service_2',\n",
       "       'Leg room service_3', 'Leg room service_4', 'Leg room service_5',\n",
       "       'Baggage handling_1', 'Baggage handling_2', 'Baggage handling_3',\n",
       "       'Baggage handling_4', 'Baggage handling_5', 'Checkin service_0',\n",
       "       'Checkin service_1', 'Checkin service_2', 'Checkin service_3',\n",
       "       'Checkin service_4', 'Checkin service_5', 'Inflight service_0',\n",
       "       'Inflight service_1', 'Inflight service_2', 'Inflight service_3',\n",
       "       'Inflight service_4', 'Inflight service_5', 'Cleanliness_0',\n",
       "       'Cleanliness_1', 'Cleanliness_2', 'Cleanliness_3', 'Cleanliness_4',\n",
       "       'Cleanliness_5', 'Gender', 'Customer Type', 'Type of Travel'],\n",
       "      dtype='object')"
      ]
     },
     "execution_count": 45,
     "metadata": {},
     "output_type": "execute_result"
    }
   ],
   "source": [
    "X.columns"
   ]
  },
  {
   "cell_type": "code",
   "execution_count": 46,
   "id": "c5aa5466",
   "metadata": {
    "execution": {
     "iopub.execute_input": "2022-08-24T08:22:56.159334Z",
     "iopub.status.busy": "2022-08-24T08:22:56.158567Z",
     "iopub.status.idle": "2022-08-24T08:22:56.165796Z",
     "shell.execute_reply": "2022-08-24T08:22:56.166475Z",
     "shell.execute_reply.started": "2022-02-06T20:16:15.959101Z"
    },
    "papermill": {
     "duration": 0.243034,
     "end_time": "2022-08-24T08:22:56.166698",
     "exception": false,
     "start_time": "2022-08-24T08:22:55.923664",
     "status": "completed"
    },
    "tags": []
   },
   "outputs": [
    {
     "data": {
      "text/plain": [
       "0         neutral or dissatisfied\n",
       "1         neutral or dissatisfied\n",
       "2                       satisfied\n",
       "3         neutral or dissatisfied\n",
       "4                       satisfied\n",
       "                   ...           \n",
       "103899    neutral or dissatisfied\n",
       "103900                  satisfied\n",
       "103901    neutral or dissatisfied\n",
       "103902    neutral or dissatisfied\n",
       "103903    neutral or dissatisfied\n",
       "Name: satisfaction, Length: 103904, dtype: object"
      ]
     },
     "execution_count": 46,
     "metadata": {},
     "output_type": "execute_result"
    }
   ],
   "source": [
    "y"
   ]
  },
  {
   "cell_type": "markdown",
   "id": "1e2dc7d8",
   "metadata": {
    "papermill": {
     "duration": 0.228147,
     "end_time": "2022-08-24T08:22:56.620208",
     "exception": false,
     "start_time": "2022-08-24T08:22:56.392061",
     "status": "completed"
    },
    "tags": []
   },
   "source": [
    "Let's split the data into training and test samples in a ratio of 9:1 <b>(90% - training sample, 10% - test)</b>:"
   ]
  },
  {
   "cell_type": "code",
   "execution_count": 47,
   "id": "d2a113a9",
   "metadata": {
    "execution": {
     "iopub.execute_input": "2022-08-24T08:22:57.081649Z",
     "iopub.status.busy": "2022-08-24T08:22:57.080752Z",
     "iopub.status.idle": "2022-08-24T08:22:57.193321Z",
     "shell.execute_reply": "2022-08-24T08:22:57.193854Z",
     "shell.execute_reply.started": "2022-02-06T20:16:15.972345Z"
    },
    "papermill": {
     "duration": 0.345787,
     "end_time": "2022-08-24T08:22:57.194088",
     "exception": false,
     "start_time": "2022-08-24T08:22:56.848301",
     "status": "completed"
    },
    "tags": []
   },
   "outputs": [
    {
     "data": {
      "text/plain": [
       "(93513, 10391)"
      ]
     },
     "execution_count": 47,
     "metadata": {},
     "output_type": "execute_result"
    }
   ],
   "source": [
    "from sklearn.model_selection import train_test_split\n",
    "X_train, X_test, y_train, y_test = train_test_split(X, y, test_size = 0.1, random_state = 777)\n",
    "\n",
    "N_train, _ = X_train.shape \n",
    "N_test,  _ = X_test.shape \n",
    "\n",
    "N_train, N_test"
   ]
  },
  {
   "cell_type": "markdown",
   "id": "7119e205",
   "metadata": {
    "papermill": {
     "duration": 0.22613,
     "end_time": "2022-08-24T08:22:57.644438",
     "exception": false,
     "start_time": "2022-08-24T08:22:57.418308",
     "status": "completed"
    },
    "tags": []
   },
   "source": [
    "<div style=\"border-width:1; border-radius: 15px; border-style: solid; border-color: rgb(10, 10, 10); background-color: #52ab98; text-align: center;font: 14pt 'Candara';font-weight:bold;\"><h1>K-nearest neighbors (kNN) method</h1></div>"
   ]
  },
  {
   "cell_type": "markdown",
   "id": "d6a1759a",
   "metadata": {
    "papermill": {
     "duration": 0.23117,
     "end_time": "2022-08-24T08:22:58.099088",
     "exception": false,
     "start_time": "2022-08-24T08:22:57.867918",
     "status": "completed"
    },
    "tags": []
   },
   "source": [
    "Let's train and run kNN for the 10 number of neighbors:"
   ]
  },
  {
   "cell_type": "code",
   "execution_count": 48,
   "id": "53ac509a",
   "metadata": {
    "execution": {
     "iopub.execute_input": "2022-08-24T08:22:58.579690Z",
     "iopub.status.busy": "2022-08-24T08:22:58.578632Z",
     "iopub.status.idle": "2022-08-24T08:23:41.420289Z",
     "shell.execute_reply": "2022-08-24T08:23:41.420864Z",
     "shell.execute_reply.started": "2022-02-06T20:16:16.064231Z"
    },
    "papermill": {
     "duration": 43.096936,
     "end_time": "2022-08-24T08:23:41.421115",
     "exception": false,
     "start_time": "2022-08-24T08:22:58.324179",
     "status": "completed"
    },
    "tags": []
   },
   "outputs": [
    {
     "name": "stdout",
     "output_type": "stream",
     "text": [
      "Training sample error:  0.05251676237528472\n",
      "Error on the test sample:  0.06544124723318256\n"
     ]
    }
   ],
   "source": [
    "knn = KNeighborsClassifier()\n",
    "\n",
    "knn.set_params(n_neighbors = 10)\n",
    "knn.fit(X_train, y_train)\n",
    "\n",
    "err_train = np.mean(y_train != knn.predict(X_train))\n",
    "err_test  = np.mean(y_test  != knn.predict(X_test))\n",
    "\n",
    "print('Training sample error: ', err_train)\n",
    "print('Error on the test sample: ', err_test)"
   ]
  },
  {
   "cell_type": "markdown",
   "id": "cc9c8c9e",
   "metadata": {
    "papermill": {
     "duration": 0.224591,
     "end_time": "2022-08-24T08:23:41.871205",
     "exception": false,
     "start_time": "2022-08-24T08:23:41.646614",
     "status": "completed"
    },
    "tags": []
   },
   "source": [
    "<div style=\"border-width:1; border-radius: 15px; border-style: solid; border-color: rgb(10, 10, 10); background-color: #52ab98; text-align: center;font: 14pt 'Candara';font-weight:bold;\"><h1>SVC</h1></div>"
   ]
  },
  {
   "cell_type": "markdown",
   "id": "09a5f28a",
   "metadata": {
    "papermill": {
     "duration": 0.224803,
     "end_time": "2022-08-24T08:23:42.454374",
     "exception": false,
     "start_time": "2022-08-24T08:23:42.229571",
     "status": "completed"
    },
    "tags": []
   },
   "source": [
    "Let's train and run the support vector machine:"
   ]
  },
  {
   "cell_type": "code",
   "execution_count": 49,
   "id": "7f1046de",
   "metadata": {
    "execution": {
     "iopub.execute_input": "2022-08-24T08:23:42.912478Z",
     "iopub.status.busy": "2022-08-24T08:23:42.911719Z",
     "iopub.status.idle": "2022-08-24T08:24:23.754218Z",
     "shell.execute_reply": "2022-08-24T08:24:23.754881Z",
     "shell.execute_reply.started": "2022-02-06T20:16:56.744346Z"
    },
    "papermill": {
     "duration": 41.075516,
     "end_time": "2022-08-24T08:24:23.755170",
     "exception": false,
     "start_time": "2022-08-24T08:23:42.679654",
     "status": "completed"
    },
    "tags": []
   },
   "outputs": [
    {
     "name": "stdout",
     "output_type": "stream",
     "text": [
      "Training sample error:  0.04965085068386214\n",
      "Error on the test sample:  0.050235780964296026\n"
     ]
    }
   ],
   "source": [
    "svc = SVC(gamma = 'auto')\n",
    "svc.fit(X_train, y_train)\n",
    "\n",
    "err_train = np.mean(y_train != svc.predict(X_train))\n",
    "err_test  = np.mean(y_test  != svc.predict(X_test))\n",
    "\n",
    "print('Training sample error: ', err_train)\n",
    "print('Error on the test sample: ', err_test)"
   ]
  },
  {
   "cell_type": "markdown",
   "id": "f8335700",
   "metadata": {
    "papermill": {
     "duration": 0.243386,
     "end_time": "2022-08-24T08:24:24.243530",
     "exception": false,
     "start_time": "2022-08-24T08:24:24.000144",
     "status": "completed"
    },
    "tags": []
   },
   "source": [
    "<div style=\"border-width:1; border-radius: 15px; border-style: solid; border-color: rgb(10, 10, 10); background-color: #52ab98; text-align: center;font: 14pt 'Candara';font-weight:bold;\"><h1>Random Forest</h1></div>"
   ]
  },
  {
   "cell_type": "markdown",
   "id": "78e7b324",
   "metadata": {
    "papermill": {
     "duration": 0.238203,
     "end_time": "2022-08-24T08:24:24.725954",
     "exception": false,
     "start_time": "2022-08-24T08:24:24.487751",
     "status": "completed"
    },
    "tags": []
   },
   "source": [
    "Train and run random forest:"
   ]
  },
  {
   "cell_type": "code",
   "execution_count": 50,
   "id": "43931e25",
   "metadata": {
    "execution": {
     "iopub.execute_input": "2022-08-24T08:24:25.214996Z",
     "iopub.status.busy": "2022-08-24T08:24:25.214073Z",
     "iopub.status.idle": "2022-08-24T08:24:48.274970Z",
     "shell.execute_reply": "2022-08-24T08:24:48.275569Z",
     "shell.execute_reply.started": "2022-02-06T20:17:33.215710Z"
    },
    "papermill": {
     "duration": 23.31194,
     "end_time": "2022-08-24T08:24:48.275787",
     "exception": false,
     "start_time": "2022-08-24T08:24:24.963847",
     "status": "completed"
    },
    "tags": []
   },
   "outputs": [
    {
     "name": "stdout",
     "output_type": "stream",
     "text": [
      "Training sample error:  7.485590238790328e-05\n",
      "Error on the test sample:  0.03810990280050043\n"
     ]
    }
   ],
   "source": [
    "rf = ensemble.RandomForestClassifier(n_estimators = 100)\n",
    "rf.fit(X_train, y_train)\n",
    "\n",
    "err_train = np.mean(y_train != rf.predict(X_train))\n",
    "err_test  = np.mean(y_test  != rf.predict(X_test))\n",
    "\n",
    "print('Training sample error: ', err_train)\n",
    "print('Error on the test sample: ', err_test)"
   ]
  },
  {
   "cell_type": "markdown",
   "id": "2f583a8f",
   "metadata": {
    "papermill": {
     "duration": 0.228213,
     "end_time": "2022-08-24T08:24:48.730137",
     "exception": false,
     "start_time": "2022-08-24T08:24:48.501924",
     "status": "completed"
    },
    "tags": []
   },
   "source": [
    "<div style=\"border-width:1; border-radius: 15px; border-style: solid; border-color: rgb(10, 10, 10); background-color: #52ab98; text-align: center;font: 14pt 'Candara';font-weight:bold;\"><h1>Extremely Randomized Trees</h1></div>"
   ]
  },
  {
   "cell_type": "markdown",
   "id": "37b17b25",
   "metadata": {
    "papermill": {
     "duration": 0.229097,
     "end_time": "2022-08-24T08:24:49.187742",
     "exception": false,
     "start_time": "2022-08-24T08:24:48.958645",
     "status": "completed"
    },
    "tags": []
   },
   "source": [
    "Train and run an extreme random forest:"
   ]
  },
  {
   "cell_type": "code",
   "execution_count": 51,
   "id": "d919ca57",
   "metadata": {
    "execution": {
     "iopub.execute_input": "2022-08-24T08:24:49.645083Z",
     "iopub.status.busy": "2022-08-24T08:24:49.644326Z",
     "iopub.status.idle": "2022-08-24T08:25:24.876409Z",
     "shell.execute_reply": "2022-08-24T08:25:24.877499Z",
     "shell.execute_reply.started": "2022-02-06T20:17:45.613548Z"
    },
    "papermill": {
     "duration": 35.462772,
     "end_time": "2022-08-24T08:25:24.877737",
     "exception": false,
     "start_time": "2022-08-24T08:24:49.414965",
     "status": "completed"
    },
    "tags": []
   },
   "outputs": [
    {
     "name": "stdout",
     "output_type": "stream",
     "text": [
      "Training sample error:  0.0\n",
      "Error on the test sample:  0.03878356269848908\n"
     ]
    }
   ],
   "source": [
    "ert = ensemble.ExtraTreesClassifier(n_estimators = 100).fit(X_train, y_train)\n",
    "\n",
    "err_train = np.mean(y_train != ert.predict(X_train))\n",
    "err_test  = np.mean(y_test  != ert.predict(X_test))\n",
    "\n",
    "print('Training sample error: ', err_train)\n",
    "print('Error on the test sample: ', err_test)"
   ]
  },
  {
   "cell_type": "markdown",
   "id": "db089152",
   "metadata": {
    "papermill": {
     "duration": 0.22901,
     "end_time": "2022-08-24T08:25:25.335296",
     "exception": false,
     "start_time": "2022-08-24T08:25:25.106286",
     "status": "completed"
    },
    "tags": []
   },
   "source": [
    "<div style=\"border-width:1; border-radius: 15px; border-style: solid; border-color: rgb(10, 10, 10); background-color: #52ab98; text-align: center;font: 14pt 'Candara';font-weight:bold;\"><h1>AdaBoost</h1></div>"
   ]
  },
  {
   "cell_type": "markdown",
   "id": "3aa8322f",
   "metadata": {
    "papermill": {
     "duration": 0.227228,
     "end_time": "2022-08-24T08:25:25.789141",
     "exception": false,
     "start_time": "2022-08-24T08:25:25.561913",
     "status": "completed"
    },
    "tags": []
   },
   "source": [
    "Let's train and run the AdaBoost algorithm:"
   ]
  },
  {
   "cell_type": "code",
   "execution_count": 52,
   "id": "b81d8a8a",
   "metadata": {
    "execution": {
     "iopub.execute_input": "2022-08-24T08:25:26.251383Z",
     "iopub.status.busy": "2022-08-24T08:25:26.250474Z",
     "iopub.status.idle": "2022-08-24T08:27:11.145641Z",
     "shell.execute_reply": "2022-08-24T08:27:11.146421Z",
     "shell.execute_reply.started": "2022-02-06T20:18:10.649037Z"
    },
    "papermill": {
     "duration": 105.130733,
     "end_time": "2022-08-24T08:27:11.146756",
     "exception": false,
     "start_time": "2022-08-24T08:25:26.016023",
     "status": "completed"
    },
    "tags": []
   },
   "outputs": [
    {
     "name": "stdout",
     "output_type": "stream",
     "text": [
      "Training sample error:  0.0702576112412178\n",
      "Error on the test sample:  0.07160042344336445\n"
     ]
    }
   ],
   "source": [
    "ada = ensemble.AdaBoostClassifier(n_estimators = 100)\n",
    "ada.fit(X_train, y_train)\n",
    "\n",
    "err_train = np.mean(y_train != ada.predict(X_train))\n",
    "err_test = np.mean(y_test != ada.predict(X_test))\n",
    "\n",
    "print('Training sample error: ', err_train)\n",
    "print('Error on the test sample: ', err_test)"
   ]
  },
  {
   "cell_type": "markdown",
   "id": "9653331a",
   "metadata": {
    "papermill": {
     "duration": 0.230015,
     "end_time": "2022-08-24T08:27:11.605719",
     "exception": false,
     "start_time": "2022-08-24T08:27:11.375704",
     "status": "completed"
    },
    "tags": []
   },
   "source": [
    "<div style=\"border-width:1; border-radius: 15px; border-style: solid; border-color: rgb(10, 10, 10); background-color: #52ab98; text-align: center;font: 14pt 'Candara';font-weight:bold;\"><h1>GBT</h1></div>"
   ]
  },
  {
   "cell_type": "markdown",
   "id": "c58d50bb",
   "metadata": {
    "papermill": {
     "duration": 0.232222,
     "end_time": "2022-08-24T08:27:12.068591",
     "exception": false,
     "start_time": "2022-08-24T08:27:11.836369",
     "status": "completed"
    },
    "tags": []
   },
   "source": [
    "Train and run gradient boosting decision trees:"
   ]
  },
  {
   "cell_type": "code",
   "execution_count": 53,
   "id": "93673201",
   "metadata": {
    "execution": {
     "iopub.execute_input": "2022-08-24T08:27:12.606168Z",
     "iopub.status.busy": "2022-08-24T08:27:12.605441Z",
     "iopub.status.idle": "2022-08-24T08:27:49.780654Z",
     "shell.execute_reply": "2022-08-24T08:27:49.781233Z",
     "shell.execute_reply.started": "2022-02-06T20:22:23.334694Z"
    },
    "papermill": {
     "duration": 37.483047,
     "end_time": "2022-08-24T08:27:49.781465",
     "exception": false,
     "start_time": "2022-08-24T08:27:12.298418",
     "status": "completed"
    },
    "tags": []
   },
   "outputs": [
    {
     "name": "stdout",
     "output_type": "stream",
     "text": [
      "Training sample error:  0.055286430763637144\n",
      "Error on the test sample:  0.056394957174477914\n"
     ]
    }
   ],
   "source": [
    "gbt = ensemble.GradientBoostingClassifier(n_estimators = 100)\n",
    "gbt.fit(X_train, y_train)\n",
    "\n",
    "err_train = np.mean(y_train != gbt.predict(X_train))\n",
    "err_test = np.mean(y_test != gbt.predict(X_test))\n",
    "\n",
    "print('Training sample error: ', err_train)\n",
    "print('Error on the test sample: ', err_test)"
   ]
  },
  {
   "cell_type": "markdown",
   "id": "5143de7b",
   "metadata": {
    "papermill": {
     "duration": 0.228018,
     "end_time": "2022-08-24T08:27:50.239509",
     "exception": false,
     "start_time": "2022-08-24T08:27:50.011491",
     "status": "completed"
    },
    "tags": []
   },
   "source": [
    "<div style=\"border-width:1; border-radius: 15px; border-style: solid; border-color: rgb(10, 10, 10); background-color: #52ab98; text-align: center;font: 14pt 'Candara';font-weight:bold;\"><h1>General conclusions</h1></div>"
   ]
  },
  {
   "cell_type": "markdown",
   "id": "76cae33b",
   "metadata": {
    "papermill": {
     "duration": 0.23002,
     "end_time": "2022-08-24T08:27:50.697684",
     "exception": false,
     "start_time": "2022-08-24T08:27:50.467664",
     "status": "completed"
    },
    "tags": []
   },
   "source": [
    "***\n",
    "<b>Conclusions about the considered sample</b>:\n",
    "\n",
    "> <ul>\n",
    "> <li>The sample is more or less balanced <em>(56.7% on 43.3%)</em>.</li>\n",
    "> <li>The number of men and women in this sample is approximately the same.</li>\n",
    "> <li>The vast majority of the airline's customers are repeat customers.</li>\n",
    "> <li>Most of our clients flew for business rather than personal reasons.</li>\n",
    "> <li>About half of the passengers were in business class.</li>\n",
    "> <li>More than 60% of passengers were satisfied with the luggage transportation service (rating 4-5 out of 5).</li>\n",
    "> <li>More than 50% of passengers were comfortable sitting in their seats (rated 4-5 out of 5).</li>\n",
    "> <li>There was a strong correlation <em>(96%)</em> between the features 'Departure delay in minutes' and 'Arrival delay in minutes' (which is quite logical and was discussed in detail above).</li>\n",
    "> <li>Most of the airline's regular customers are between the ages of 30 and 50 (averaging a little over 40). The age range for non-regular customers is slightly smaller (from 25 to 40 years old, with an average of slightly less than 30).</li>\n",
    "> <li>Customers whose flight distance is long tend to fly in business class.</li>\n",
    "> <li>The more distance an airplane passenger travels (respectively, the longer they are in flight), the more satisfied they are with in-flight entertainment and extra legroom (on average).</li>\n",
    "> <li>Most of the passengers who flew in Economy Plus or Economy Class were dissatisfied with the flight, and those who were lucky enough to fly in Business Class were satisfied.</li>\n",
    "> <li>Almost all passengers who rated the wifi service 5 out of 5 were satisfied with the flight.</li>\n",
    "> <li>The majority of passengers who rated the comfort of the seats and the extra legroom at 4 and 5 points out of 5 were satisfied with the flight.\n",
    "> </ul>\n",
    "\n",
    "***\n",
    "<b>Conclusions on classification results</b>:\n",
    "\n",
    "> <ul>\n",
    "> <li>For the kNN method, the error on the training set was <em>5.2%</em>, and on the test set it was <em>6.5%</em>.</li>\n",
    "> <li>For the support vector machine, the error on both the training and test sets was <em>5%</em>.</li>\n",
    "> <li>For the Random Forest and Extreme Random Forest classifiers, the error on the training set was not observed, but on the test set it was <em>3.9%</em>.</li>\n",
    "> <li>For the AdaBoost algorithm, the error on the training set was <em>7%</em>, and on the test set it was <em>7.2%</em>.</li>\n",
    "> <li>For gradient boosted decision trees, the error on the training and test samples was <em>5.5% and 5.6%</em> respectively.</li>\n",
    "> <li>The classifiers Random and Extremely Random Forest showed the best result (the error on the test sample is <em>3.9%).</em></li>\n",
    "</ul>\n",
    "\n",
    "***"
   ]
  },
  {
   "cell_type": "markdown",
   "id": "38fd34f1",
   "metadata": {
    "papermill": {
     "duration": 0.22909,
     "end_time": "2022-08-24T08:27:51.154479",
     "exception": false,
     "start_time": "2022-08-24T08:27:50.925389",
     "status": "completed"
    },
    "tags": []
   },
   "source": [
    "<div style=\"border-width:1; border-radius: 15px; border-style: solid; border-color: rgb(10, 10, 10); background-color: #52ab98; text-align: center;font: 14pt 'Candara';font-weight:bold;\"><h1>Link to the second part</h1></div>"
   ]
  },
  {
   "cell_type": "markdown",
   "id": "f901afd3",
   "metadata": {
    "papermill": {
     "duration": 0.226558,
     "end_time": "2022-08-24T08:27:51.609975",
     "exception": false,
     "start_time": "2022-08-24T08:27:51.383417",
     "status": "completed"
    },
    "tags": []
   },
   "source": [
    "<div style=\"text-align: center;font: 14pt 'Candara';font-weight:bold;\"><h3><a href=\"https://www.kaggle.com/code/frixinglife/airline-passenger-satisfaction-part-2\">Airline Passenger Satisfaction (Part 2)</a></h3></div>"
   ]
  }
 ],
 "metadata": {
  "kernelspec": {
   "display_name": "Python 3",
   "language": "python",
   "name": "python3"
  },
  "language_info": {
   "codemirror_mode": {
    "name": "ipython",
    "version": 3
   },
   "file_extension": ".py",
   "mimetype": "text/x-python",
   "name": "python",
   "nbconvert_exporter": "python",
   "pygments_lexer": "ipython3",
   "version": "3.7.12"
  },
  "papermill": {
   "default_parameters": {},
   "duration": 411.72887,
   "end_time": "2022-08-24T08:27:53.158985",
   "environment_variables": {},
   "exception": null,
   "input_path": "__notebook__.ipynb",
   "output_path": "__notebook__.ipynb",
   "parameters": {},
   "start_time": "2022-08-24T08:21:01.430115",
   "version": "2.3.3"
  }
 },
 "nbformat": 4,
 "nbformat_minor": 5
}
